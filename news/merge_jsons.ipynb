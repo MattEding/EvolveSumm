{
 "cells": [
  {
   "cell_type": "code",
   "execution_count": 1,
   "metadata": {},
   "outputs": [],
   "source": [
    "import json\n",
    "import pathlib\n",
    "import shutil"
   ]
  },
  {
   "cell_type": "markdown",
   "metadata": {},
   "source": [
    "### Merge Year"
   ]
  },
  {
   "cell_type": "code",
   "execution_count": 33,
   "metadata": {},
   "outputs": [
    {
     "data": {
      "text/plain": [
       "5313"
      ]
     },
     "execution_count": 33,
     "metadata": {},
     "output_type": "execute_result"
    }
   ],
   "source": [
    "year = str(2013)\n",
    "unique = set()\n",
    "\n",
    "for path in (j for j in (jsons / year).iterdir() if j.name.endswith('json') and '_' in j.name):\n",
    "    with open(path) as fp:\n",
    "        unique.update(fp.readlines())\n",
    "        \n",
    "dicts = [json.loads(article) for article in unique]\n",
    "merged = {year: [d for d in dicts if d['story']]}\n",
    "filepath = jsons / year / f'{year}.json'\n",
    "with open(filepath, 'w') as fp:\n",
    "    json.dump(merged, fp)\n",
    "\n",
    "len(merged[year])"
   ]
  },
  {
   "cell_type": "markdown",
   "metadata": {},
   "source": [
    "### Compress Year"
   ]
  },
  {
   "cell_type": "code",
   "execution_count": 35,
   "metadata": {},
   "outputs": [],
   "source": [
    "file_to_zip = f'{year}.json'\n",
    "target_path = jsons / year\n",
    "\n",
    "compression = 'xztar'\n",
    "try:\n",
    "    shutil.make_archive(target_path / year, compression, target_path, file_to_zip)\n",
    "except OSError:\n",
    "    raise"
   ]
  },
  {
   "cell_type": "markdown",
   "metadata": {},
   "source": [
    "### Null-Story"
   ]
  },
  {
   "cell_type": "code",
   "execution_count": 30,
   "metadata": {},
   "outputs": [
    {
     "data": {
      "text/plain": [
       "[{'date': 'March 2, 2010 ',\n",
       "  'title': 'Interactive Map: U.S. Rates Of Child Abuse Fatalities',\n",
       "  'author': None,\n",
       "  'summary': ' Using data from a report by the Department of Health and Human Services, Administration for Children & Families, this map chronicles child fatalities by maltreatment in most states. However, state data on child fatality from maltreatment is difficult to compare: There is no federal definition of child abuse, so cases are interpreted differently.',\n",
       "  'story': ''}]"
      ]
     },
     "execution_count": 30,
     "metadata": {},
     "output_type": "execute_result"
    }
   ],
   "source": [
    "[d for d in dicts if not d.get('story')]"
   ]
  },
  {
   "cell_type": "code",
   "execution_count": null,
   "metadata": {},
   "outputs": [],
   "source": []
  }
 ],
 "metadata": {
  "kernelspec": {
   "display_name": "Python 3",
   "language": "python",
   "name": "python3"
  },
  "language_info": {
   "codemirror_mode": {
    "name": "ipython",
    "version": 3
   },
   "file_extension": ".py",
   "mimetype": "text/x-python",
   "name": "python",
   "nbconvert_exporter": "python",
   "pygments_lexer": "ipython3",
   "version": "3.6.8"
  }
 },
 "nbformat": 4,
 "nbformat_minor": 2
}
