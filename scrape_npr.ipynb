{
 "cells": [
  {
   "cell_type": "code",
   "execution_count": 222,
   "metadata": {},
   "outputs": [],
   "source": [
    "import calendar\n",
    "import pickle\n",
    "import json\n",
    "import logging\n",
    "import pathlib\n",
    "import time\n",
    "\n",
    "import bs4\n",
    "import numpy as np\n",
    "import pandas as pd\n",
    "import requests"
   ]
  },
  {
   "cell_type": "code",
   "execution_count": 196,
   "metadata": {},
   "outputs": [],
   "source": [
    "def delay(seconds, lam=1.0):\n",
    "    \"\"\"Sleep for at least a given number of seconds plus random amount \n",
    "    of seconds from Poisson distribution.\n",
    "    \n",
    "    Parameters\n",
    "    ----------\n",
    "    seconds : float\n",
    "        Minimum delay execution for a given number of seconds.\n",
    "    lam : float\n",
    "        Expectation of interval, should be >= 0.\n",
    "        \n",
    "    Returns\n",
    "    -------\n",
    "    None\n",
    "    \"\"\"\n",
    "    \n",
    "    time.sleep(seconds + np.random.rand() + np.random.poisson(lam=lam))"
   ]
  },
  {
   "cell_type": "code",
   "execution_count": null,
   "metadata": {},
   "outputs": [],
   "source": [
    "def get_pages(start, end, *, seconds=3):\n",
    "    \"\"\"TODO\n",
    "    \n",
    "    Parameters\n",
    "    ----------\n",
    "    start : str or datetime-like, optional\n",
    "        Left bound for generating dates.\n",
    "    end : str or datetime-like, optional\n",
    "        Right bound for generating dates.\n",
    "    seconds : float, optional\n",
    "        Delay time.\n",
    "    \n",
    "    Yields\n",
    "    -------\n",
    "    page : bs4.BeautifulSoup\n",
    "    \"\"\"\n",
    "    \n",
    "    url = 'https://www.npr.org/sections/news/archive'\n",
    "    dates = pd.date_range(start, end)\n",
    "    for d in dates:\n",
    "        date = f'{d.month}-{d.day}-{d.year}'\n",
    "        params = {'date': date}\n",
    "        resp = requests.get(url, params=params)\n",
    "        \n",
    "        try:\n",
    "            resp.raise_for_status()\n",
    "        except requests.exceptions.HTTPError:\n",
    "            logging.exception(f'HTTPError - {resp.url} - {resp.status_code}')\n",
    "            continue\n",
    "        \n",
    "        page = bs4.BeautifulSoup(resp.text)\n",
    "        delay(seconds)\n",
    "        yield page"
   ]
  },
  {
   "cell_type": "code",
   "execution_count": null,
   "metadata": {},
   "outputs": [],
   "source": [
    "def get_articles(page, *, directory=None):\n",
    "    \"\"\"TODO\n",
    "    \n",
    "    Parameters\n",
    "    ----------\n",
    "    page : bs4.BeautifulSoup\n",
    "####    directory : path-like object, optional\n",
    "    \n",
    "    Returns\n",
    "    -------\n",
    "    articles : list[bs4.element.Tag]\n",
    "    \"\"\"\n",
    "    \n",
    "    # actually put in a `main` function\n",
    "#     if (directory is not None) and (not pathlib.Path(directory).is_dir()):\n",
    "#         raise ValueError('must be a directory')\n",
    "    \n",
    "    articles = page.find_all('article')\n",
    "    return articles"
   ]
  },
  {
   "cell_type": "code",
   "execution_count": 220,
   "metadata": {},
   "outputs": [],
   "source": [
    "def get_info(article, *, seconds=3, path=None):\n",
    "    \"\"\"TODO\n",
    "    \n",
    "    Parameters\n",
    "    ----------\n",
    "    article : bs4.element.Tag\n",
    "        Article preview from archive page.\n",
    "    seconds : float, optional\n",
    "        Delay time\n",
    "    path : path-like object, optional\n",
    "        Save info as JSON if path is not None.\n",
    "    \n",
    "    Returns\n",
    "    -------\n",
    "    info : dict\n",
    "        Dictionary with keys: date, title, author, summary, story\n",
    "    \"\"\"\n",
    "    \n",
    "    if article.find(class_='audio-availability-message'):\n",
    "        return\n",
    "    \n",
    "    teaser = article.find(class_='teaser')\n",
    "    date, summary = teaser.text.split('\\x95')\n",
    "    \n",
    "    link = article.a['href']\n",
    "    resp = requests.get(link)\n",
    "    \n",
    "    try:\n",
    "        resp.raise_for_status()\n",
    "    except requests.exceptions.HTTPError\n",
    "        logging.exception(f'HTTPError - {resp.url} - {resp.status_code}')\n",
    "        return\n",
    "    \n",
    "    soup = bs4.BeautifulSoup(resp.text).article\n",
    "    \n",
    "    try:\n",
    "        author = soup.find(class_='byline__name').text.strip()\n",
    "    except AttributeError:\n",
    "        author = None\n",
    "    \n",
    "    text = soup.find(class_='transcript')\n",
    "    if not text:\n",
    "        text = soup.find(id='storytext')\n",
    "        \n",
    "    paragraphs = text.find_all('p')\n",
    "    story = '\\n\\n'.join(p.text.strip() for p in paragraphs if p.parent.get('id') == 'storytext')\n",
    "    title = soup.find(class_='storytitle').text.strip()\n",
    "    \n",
    "    info = dict(date=date, title=title, author=author, summary=summary, story=story)\n",
    "    \n",
    "    if path:\n",
    "        with open(path) as fp:\n",
    "            json.dump(info, fp)\n",
    "        logging.info(f'Saved - {resp.url} - {path}')\n",
    "    \n",
    "    delay(seconds)\n",
    "    return info"
   ]
  },
  {
   "cell_type": "code",
   "execution_count": 184,
   "metadata": {},
   "outputs": [],
   "source": [
    "info = get_info(article)"
   ]
  },
  {
   "cell_type": "code",
   "execution_count": null,
   "metadata": {},
   "outputs": [],
   "source": []
  },
  {
   "cell_type": "markdown",
   "metadata": {},
   "source": [
    "### audio transcript"
   ]
  },
  {
   "cell_type": "code",
   "execution_count": 202,
   "metadata": {},
   "outputs": [],
   "source": [
    "_url = 'https://www.npr.org/2014/11/30/367544593/in-liberia-ebola-shifts-from-cities-to-villages'\n",
    "# _resp = requests.get(_url)\n",
    "# _soup = bs4.BeautifulSoup(_resp.text)"
   ]
  },
  {
   "cell_type": "code",
   "execution_count": 206,
   "metadata": {},
   "outputs": [
    {
     "data": {
      "text/plain": [
       "'{\"a\": null}'"
      ]
     },
     "execution_count": 206,
     "metadata": {},
     "output_type": "execute_result"
    }
   ],
   "source": [
    "json.dumps({'a': None})"
   ]
  },
  {
   "cell_type": "code",
   "execution_count": null,
   "metadata": {},
   "outputs": [],
   "source": []
  }
 ],
 "metadata": {
  "kernelspec": {
   "display_name": "Python 3",
   "language": "python",
   "name": "python3"
  },
  "language_info": {
   "codemirror_mode": {
    "name": "ipython",
    "version": 3
   },
   "file_extension": ".py",
   "mimetype": "text/x-python",
   "name": "python",
   "nbconvert_exporter": "python",
   "pygments_lexer": "ipython3",
   "version": "3.6.8"
  }
 },
 "nbformat": 4,
 "nbformat_minor": 2
}
