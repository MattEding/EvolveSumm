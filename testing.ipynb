{
 "cells": [
  {
   "cell_type": "code",
   "execution_count": 1,
   "metadata": {},
   "outputs": [],
   "source": [
    "import requests\n",
    "from bs4 import BeautifulSoup"
   ]
  },
  {
   "cell_type": "code",
   "execution_count": 2,
   "metadata": {},
   "outputs": [],
   "source": [
    "url = 'https://www.npr.org/templates/story/story.php?storyId=122154130'\n",
    "resp = requests.get(url)\n",
    "soup = BeautifulSoup(resp.text)"
   ]
  },
  {
   "cell_type": "code",
   "execution_count": 6,
   "metadata": {},
   "outputs": [],
   "source": [
    "try:\n",
    "    author = soup.find(class_='byline__name').text.strip()\n",
    "except AttributeError:\n",
    "    author = None\n",
    "\n",
    "text = soup.find(class_='transcript')\n",
    "if not text:\n",
    "    text = soup.find(id='storytext')\n",
    "\n",
    "try:\n",
    "    paragraphs = text.find_all('p')\n",
    "except AttributeError:\n",
    "    paragraphs = ''\n",
    "\n",
    "story = '\\n\\n'.join(p.text.strip() for p in paragraphs if 'storytext' in p.parent.get('class'))\n",
    "title = soup.find(class_='storytitle').text.strip()"
   ]
  },
  {
   "cell_type": "code",
   "execution_count": 8,
   "metadata": {},
   "outputs": [
    {
     "data": {
      "text/plain": [
       "\"MICHELE NORRIS, host:\\n\\nMontana is in line to become the third state to allow physicians to assist some people who wish to end their lives. The Montana Supreme Court ruled yesterday. It said there is nothing in state law to prevent doctors from prescribing lethal drugs to mentally competent, terminally ill patients.\\n\\nNPR's Alix Spiegel reports.\\n\\nALIX SPIEGEL: Bob Baxter was in his 60s when the cancer came, lymphocytic leukemia. He had been a Marine, a truck driver, an outdoorsman, fiercely independent. But after almost a decade of fighting cancer, Baxter was unable to sit up or get out of bed without assistance. And so he approached his doctors. Baxter wanted a prescription that might end his pain by ending his life.\\n\\nBut Kathryn Tucker, the lawyer who argued Baxter's case, says that his doctors, though sympathetic, were hesitant to assist.\\n\\nMs. KATHRYN TUCKER (Director of Legal Affairs, Compassion & Choices): There had been a general understanding in the physician community in Montana that providing a patient like Bob Baxter with medication that the patient could ingest to bring about a peaceful death, that that could run afoul of Montana law, specifically the Montana homicide law.\\n\\nSPIEGEL: So Baxter and his doctors sued, sued the state of Montana claiming that under Montana's constitution, Baxter had a right to die as part of his right to privacy and dignity. The lower court agreed. So the state of Montana appealed. And yesterday, Montana's Supreme Court issued its ruling about whether doctors in Montana can assist in death.\\n\\nMs. TUCKER: What the court said yesterday is that, yes, that that is something that a physician can do in Montana for a patient like Bob Baxter.\\n\\nSPIEGEL: But yesterday's ruling wasn't a complete victory for Tucker's side. The Supreme Court declined to engage the broader constitutional privacy question and instead pointed to a Montana statute which allows terminally ill patients the right to refuse life-preserving medicines like ventilators, which is at least relatively good news for opponents of so-called assisted suicide.\\n\\nThe state attorney general's office was not available for comment. But Jeff Laszloffy, president of the Montana Family Foundation says he sees the ruling as a cup half full.\\n\\nMr. JEFF LASZLOFFY (President, Montana Family Foundation): What we were worried about was that the Supreme Court was going to uphold the lower court decision and say physician-assisted suicide is constitutional. And that would have been much more difficult to challenge. We would have to ramp up a constitutional amendment effort. Now all we have to do is go back into a legislature that for the most part is friendly to our side of the issue and just get them to put language in the Montana code that outlaws physician-assisted suicide. It's much easier to do.\\n\\nSPIEGEL: But Kathryn Tucker argues that the ruling is still significant both for Montanans and nationally.\\n\\nMs. TUCKER: I think it's reflecting the growing trend among Americans generally to have this choice available.\\n\\nSPIEGEL: As for Baxter, his legal case actually outlived him. Baxter died without assistance in December of 2008.\\n\\nAlix Spiegel, NPR News, Washington.\\n\\n(Soundbite of music)\\n\\nCopyright © 2010 NPR.  All rights reserved.  Visit our website terms of use and permissions pages at www.npr.org for further information.\\n\\nNPR transcripts are created on a rush deadline by Verb8tm, Inc., an NPR contractor, and produced using a proprietary transcription process developed with NPR. This text may not be in its final form and may be updated or revised in the future. Accuracy and availability may vary. The authoritative record of NPR’s programming is the audio record.\""
      ]
     },
     "execution_count": 8,
     "metadata": {},
     "output_type": "execute_result"
    }
   ],
   "source": [
    "story"
   ]
  },
  {
   "cell_type": "code",
   "execution_count": 2,
   "metadata": {},
   "outputs": [
    {
     "name": "stdout",
     "output_type": "stream",
     "text": [
      "\u0007\n"
     ]
    }
   ],
   "source": [
    "print('\\a')"
   ]
  },
  {
   "cell_type": "code",
   "execution_count": null,
   "metadata": {},
   "outputs": [],
   "source": []
  }
 ],
 "metadata": {
  "kernelspec": {
   "display_name": "Python 3",
   "language": "python",
   "name": "python3"
  },
  "language_info": {
   "codemirror_mode": {
    "name": "ipython",
    "version": 3
   },
   "file_extension": ".py",
   "mimetype": "text/x-python",
   "name": "python",
   "nbconvert_exporter": "python",
   "pygments_lexer": "ipython3",
   "version": "3.6.8"
  }
 },
 "nbformat": 4,
 "nbformat_minor": 2
}
