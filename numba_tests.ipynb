{
 "cells": [
  {
   "cell_type": "code",
   "execution_count": 1,
   "metadata": {},
   "outputs": [],
   "source": [
    "import itertools\n",
    "import json\n",
    "import pathlib\n",
    "\n",
    "import numba\n",
    "import numpy as np\n",
    "from nltk import tokenize\n",
    "from sklearn.feature_extraction.text import CountVectorizer"
   ]
  },
  {
   "cell_type": "code",
   "execution_count": 22,
   "metadata": {},
   "outputs": [
    {
     "data": {
      "text/plain": [
       "array([1, 2, 0, 1, 0, 4, 4, 0, 2, 1, 2, 2, 0, 0, 1, 0, 1, 0, 4, 1, 1, 0,\n",
       "       2, 0, 1, 3, 4, 0, 4, 3, 1, 3, 3, 4, 0, 0, 1, 3])"
      ]
     },
     "execution_count": 22,
     "metadata": {},
     "output_type": "execute_result"
    }
   ],
   "source": [
    "cwd = pathlib.Path.cwd()\n",
    "data = cwd / 'data'\n",
    "jsons = data / 'jsons'\n",
    "json_2018 = jsons / '2018' / '2018.json'\n",
    "\n",
    "with open(json_2018) as fp:\n",
    "    articles_2018 = json.load(fp)['2018']\n",
    "\n",
    "article = articles_2018[4]\n",
    "text = article['story']\n",
    "\n",
    "cv = CountVectorizer(stop_words='english')\n",
    "sents = tokenize.sent_tokenize(text.lower())\n",
    "vec = cv.fit_transform(sents)\n",
    "\n",
    "doc = vec.toarray().astype(bool).astype(int)\n",
    "chrom = np.array([0, 2, 1, 1, 3, 2, 4, 1])\n",
    "\n",
    "chrom = np.random.randint(0, 5, size=len(doc))\n",
    "chrom"
   ]
  },
  {
   "cell_type": "markdown",
   "metadata": {},
   "source": [
    "# Original Ver"
   ]
  },
  {
   "cell_type": "code",
   "execution_count": 9,
   "metadata": {},
   "outputs": [],
   "source": [
    "def jaccard_sim(a, b):\n",
    "    return np.sum(a & b) / np.sum(a | b)\n",
    "\n",
    "\n",
    "def sigmoid(x):\n",
    "    return 1 / (1 + np.exp(-x))\n",
    "\n",
    "\n",
    "def cohesion(chromosome, sim, doc):\n",
    "    total = 0\n",
    "    for p in np.unique(chromosome):\n",
    "        cluster_p = doc[np.where(chromosome == p)]\n",
    "        for sent_i, sent_j in itertools.combinations(cluster_p, r=2):\n",
    "            total += sim(sent_i, sent_j) / len(cluster_p)\n",
    "    return total\n",
    "\n",
    "\n",
    "def separation(chromosome, sim, doc):\n",
    "    total = 0\n",
    "    for p, q in itertools.combinations(np.unique(chromosome), r=2):\n",
    "        cluster_p = doc[np.where(chromosome == p)]\n",
    "        cluster_q = doc[np.where(chromosome == q)]\n",
    "        for sent_i, sent_j in itertools.product(cluster_p, cluster_q):\n",
    "            total += sim(sent_i, sent_j) / len(cluster_p) / len(cluster_q)\n",
    "    return total\n",
    "\n",
    "def cohesion_separation(chromosome, sim, doc):\n",
    "    coh = cohesion(chromosome, sim, doc)\n",
    "    sep = separation(chromosome, sim, doc)\n",
    "    return pow(1 + sigmoid(coh), sep)"
   ]
  },
  {
   "cell_type": "code",
   "execution_count": 10,
   "metadata": {},
   "outputs": [],
   "source": [
    "@numba.njit(cache=True)\n",
    "def jaccard_sim3(a, b):\n",
    "    #: assume union is non-empty since each sentence >= 1 word\n",
    "    return np.sum(a & b) / np.sum(a | b)"
   ]
  },
  {
   "cell_type": "markdown",
   "metadata": {},
   "source": [
    "# Find Bottlenecks"
   ]
  },
  {
   "cell_type": "code",
   "execution_count": 65,
   "metadata": {},
   "outputs": [],
   "source": [
    "@numba.njit\n",
    "def jacc(a, b):\n",
    "    return np.sum(a & b) / np.sum(a | b)\n",
    "\n",
    "\n",
    "@numba.njit\n",
    "def separation0(chromosome, sim, doc):\n",
    "    total = 0\n",
    "    k = len(np.unique(chromosome))\n",
    "    for p in range(k-1):\n",
    "        for q in range(p+1, k):\n",
    "            pass\n",
    "    return total\n",
    "\n",
    "\n",
    "@numba.njit\n",
    "def separation1(chromosome, sim, doc):\n",
    "    total = 0\n",
    "    k = len(np.unique(chromosome))\n",
    "    for p in range(k-1):\n",
    "        for q in range(p+1, k):\n",
    "            sents_p = doc[np.where(chromosome == p)]\n",
    "            sents_q = doc[np.where(chromosome == q)]\n",
    "    return total\n",
    "\n",
    "\n",
    "@numba.njit\n",
    "def separation2(chromosome, sim, doc):\n",
    "    total = 0\n",
    "    k = len(np.unique(chromosome))\n",
    "    for p in range(k-1):\n",
    "        for q in range(p+1, k):\n",
    "            sents_p = doc[np.where(chromosome == p)]\n",
    "            sents_q = doc[np.where(chromosome == q)]\n",
    "            m, n = len(sents_p), len(sents_q)\n",
    "            for i in range(m):\n",
    "                for j in range(n):\n",
    "                    pass\n",
    "    return total\n",
    "\n",
    "\n",
    "@numba.njit\n",
    "def separation3(chromosome, sim, doc):\n",
    "    total = 0\n",
    "    k = len(np.unique(chromosome))\n",
    "    for p in range(k-1):\n",
    "        for q in range(p+1, k):\n",
    "            sents_p = doc[np.where(chromosome == p)]\n",
    "            sents_q = doc[np.where(chromosome == q)]\n",
    "            m, n = len(sents_p), len(sents_q)\n",
    "            for i in range(m):\n",
    "                for j in range(n):\n",
    "                    total += sim(sents_p[i], sents_q[j]) / m / n\n",
    "    return total\n",
    "\n",
    "\n",
    "\n",
    "# doesn't seem to help consistently\n",
    "@numba.njit(cache=True)\n",
    "def get_sentences(doc, chrom, k):\n",
    "    return doc[chrom == k]\n",
    "\n",
    "\n",
    "@numba.njit\n",
    "def separation4(chromosome, sim, doc):\n",
    "    total = 0\n",
    "    k = len(np.unique(chromosome))\n",
    "    for p in range(k-1):\n",
    "        for q in range(p+1, k):\n",
    "            sents_p = get_sentences(doc, chrom, p)\n",
    "            sents_q = get_sentences(doc, chrom, q)\n",
    "            m, n = len(sents_p), len(sents_q)\n",
    "            for i in range(m):\n",
    "                for j in range(n):\n",
    "                    total += sim(sents_p[i], sents_q[j]) / m / n\n",
    "    return total\n",
    "\n",
    "\n",
    "@numba.njit\n",
    "def separation5(chromosome, sim, doc):\n",
    "    total = 0\n",
    "    k = len(np.unique(chromosome))\n",
    "    for p in range(k-1):\n",
    "        for q in range(p+1, k):\n",
    "            sents_p = doc[chromosome == p]\n",
    "            sents_q = doc[chromosome == q]\n",
    "            m, n = len(sents_p), len(sents_q)\n",
    "            for i in range(m):\n",
    "                for j in range(n):\n",
    "                    total += sim(sents_p[i], sents_q[j]) / m / n\n",
    "    return total\n",
    "\n",
    "\n",
    "@numba.njit\n",
    "def separation6(chromosome, sim, doc, k):\n",
    "    total = 0\n",
    "    for p in range(k-1):\n",
    "        for q in range(p+1, k):\n",
    "            sents_p = doc[chromosome == p]\n",
    "            sents_q = doc[chromosome == q]\n",
    "            m, n = len(sents_p), len(sents_q)\n",
    "            print(m, n)\n",
    "            for i in range(m):\n",
    "                for j in range(n):\n",
    "                    total += sim(sents_p[i], sents_q[j]) / m / n\n",
    "    return total"
   ]
  },
  {
   "cell_type": "code",
   "execution_count": 38,
   "metadata": {},
   "outputs": [
    {
     "name": "stdout",
     "output_type": "stream",
     "text": [
      "12.2 µs ± 366 ns per loop (mean ± std. dev. of 7 runs, 100000 loops each)\n"
     ]
    }
   ],
   "source": [
    "%timeit separation0(chrom, jacc, doc)"
   ]
  },
  {
   "cell_type": "code",
   "execution_count": 39,
   "metadata": {},
   "outputs": [
    {
     "name": "stdout",
     "output_type": "stream",
     "text": [
      "43.7 µs ± 15 µs per loop (mean ± std. dev. of 7 runs, 1 loop each)\n"
     ]
    }
   ],
   "source": [
    "%timeit separation1(chrom, jacc, doc)"
   ]
  },
  {
   "cell_type": "code",
   "execution_count": 40,
   "metadata": {},
   "outputs": [
    {
     "name": "stdout",
     "output_type": "stream",
     "text": [
      "40.1 µs ± 16.8 µs per loop (mean ± std. dev. of 7 runs, 1 loop each)\n"
     ]
    }
   ],
   "source": [
    "%timeit separation2(chrom, jacc, doc)"
   ]
  },
  {
   "cell_type": "code",
   "execution_count": 46,
   "metadata": {},
   "outputs": [
    {
     "name": "stdout",
     "output_type": "stream",
     "text": [
      "255 µs ± 3.4 µs per loop (mean ± std. dev. of 7 runs, 1000 loops each)\n"
     ]
    }
   ],
   "source": [
    "%timeit separation3(chrom, jacc, doc)"
   ]
  },
  {
   "cell_type": "code",
   "execution_count": 50,
   "metadata": {},
   "outputs": [
    {
     "name": "stdout",
     "output_type": "stream",
     "text": [
      "253 µs ± 2.09 µs per loop (mean ± std. dev. of 7 runs, 1000 loops each)\n"
     ]
    }
   ],
   "source": [
    "%timeit separation4(chrom, jacc, doc)"
   ]
  },
  {
   "cell_type": "code",
   "execution_count": 63,
   "metadata": {},
   "outputs": [
    {
     "name": "stdout",
     "output_type": "stream",
     "text": [
      "253 µs ± 2.36 µs per loop (mean ± std. dev. of 7 runs, 1000 loops each)\n"
     ]
    }
   ],
   "source": [
    "%timeit separation5(chrom, jacc, doc)"
   ]
  },
  {
   "cell_type": "code",
   "execution_count": 66,
   "metadata": {},
   "outputs": [
    {
     "name": "stdout",
     "output_type": "stream",
     "text": [
      "12 10\n",
      "12 5\n",
      "12 5\n",
      "12 6\n",
      "10 5\n",
      "10 5\n",
      "10 6\n",
      "5 5\n",
      "5 6\n",
      "5 6\n",
      "12 10\n",
      "12 5\n",
      "12 5\n",
      "12 6\n",
      "10 5\n",
      "10 5\n",
      "10 6\n",
      "5 5\n",
      "5 6\n",
      "5 6\n",
      "12 10\n",
      "12 5\n",
      "12 5\n",
      "12 6\n",
      "10 5\n",
      "10 5\n",
      "10 6\n",
      "5 5\n",
      "5 6\n",
      "5 6\n",
      "12 10\n",
      "12 5\n",
      "12 5\n",
      "12 6\n",
      "10 5\n",
      "10 5\n",
      "10 6\n",
      "5 5\n",
      "5 6\n",
      "5 6\n",
      "12 10\n",
      "12 5\n",
      "12 5\n",
      "12 6\n",
      "10 5\n",
      "10 5\n",
      "10 6\n",
      "5 5\n",
      "5 6\n",
      "5 6\n",
      "12 10\n",
      "12 5\n",
      "12 5\n",
      "12 6\n",
      "10 5\n",
      "10 5\n",
      "10 6\n",
      "5 5\n",
      "5 6\n",
      "5 6\n",
      "12 10\n",
      "12 5\n",
      "12 5\n",
      "12 6\n",
      "10 5\n",
      "10 5\n",
      "10 6\n",
      "5 5\n",
      "5 6\n",
      "5 6\n",
      "12 10\n",
      "12 5\n",
      "12 5\n",
      "12 6\n",
      "10 5\n",
      "10 5\n",
      "10 6\n",
      "5 5\n",
      "5 6\n",
      "5 6\n",
      "The slowest run took 16.57 times longer than the fastest. This could mean that an intermediate result is being cached.\n",
      "1.75 ms ± 2.44 ms per loop (mean ± std. dev. of 7 runs, 1 loop each)\n"
     ]
    }
   ],
   "source": [
    "k = len(np.unique(chrom))\n",
    "\n",
    "%timeit separation6(chrom, jacc, doc, k)"
   ]
  },
  {
   "cell_type": "markdown",
   "metadata": {},
   "source": [
    "# Current Ver"
   ]
  },
  {
   "cell_type": "code",
   "execution_count": 15,
   "metadata": {},
   "outputs": [],
   "source": [
    "@numba.njit\n",
    "def jaccard_sim2(a, b):\n",
    "    #: assume union is non-empty since each sentence >= 1 word\n",
    "    return np.sum(a & b) / np.sum(a | b)\n",
    "\n",
    "\n",
    "@numba.njit\n",
    "def sigmoid2(x):\n",
    "    return 1 / (1 + np.exp(-x))\n",
    "\n",
    "\n",
    "@numba.njit\n",
    "def cohesion2(chromosome, sim, doc):\n",
    "    total = 0\n",
    "    for p in np.unique(chromosome):\n",
    "        sents = doc[np.where(chromosome == p)]\n",
    "        k = len(sents)\n",
    "        #: combinations choose 2\n",
    "        for i in range(k-1):\n",
    "            for j in range(i+1, k):\n",
    "                total += sim(sents[i], sents[j]) / len(sents)  \n",
    "    return total\n",
    "\n",
    "\n",
    "@numba.njit\n",
    "def separation2(chromosome, sim, doc):\n",
    "    total = 0\n",
    "    k = len(np.unique(chromosome))\n",
    "    #: combinations choose 2\n",
    "    for p in range(k-1):\n",
    "        for q in range(p+1, k):\n",
    "            sents_p = doc[np.where(chromosome == p)]\n",
    "            sents_q = doc[np.where(chromosome == q)]\n",
    "            #: product\n",
    "            m, n = len(sents_p), len(sents_q)\n",
    "            for i in range(m):\n",
    "                for j in range(n):\n",
    "                    total += sim(sents_p[i], sents_q[j]) / m / n\n",
    "    return total\n",
    "\n",
    "\n",
    "@numba.njit\n",
    "def cohesion_separation2(chromosome, sim, doc):\n",
    "    coh = cohesion2(chromosome, sim, doc)\n",
    "    sep = separation2(chromosome, sim, doc)\n",
    "    return (1 + sigmoid2(coh)) ** sep"
   ]
  },
  {
   "cell_type": "code",
   "execution_count": 9,
   "metadata": {},
   "outputs": [],
   "source": [
    "assert cohesion2(chrom, jaccard_sim2, doc) == cohesion(chrom, jaccard_sim, doc)\n",
    "assert separation2(chrom, jaccard_sim2, doc) == separation(chrom, jaccard_sim, doc)\n",
    "assert cohesion_separation2(chrom, jaccard_sim2, doc) == cohesion_separation(chrom, jaccard_sim, doc)"
   ]
  },
  {
   "cell_type": "code",
   "execution_count": 51,
   "metadata": {},
   "outputs": [
    {
     "name": "stdout",
     "output_type": "stream",
     "text": [
      "5.15 µs ± 30.3 ns per loop (mean ± std. dev. of 7 runs, 100000 loops each)\n"
     ]
    }
   ],
   "source": [
    "%timeit np.unique(chrom)"
   ]
  },
  {
   "cell_type": "code",
   "execution_count": null,
   "metadata": {},
   "outputs": [],
   "source": []
  }
 ],
 "metadata": {
  "kernelspec": {
   "display_name": "Python 3",
   "language": "python",
   "name": "python3"
  },
  "language_info": {
   "codemirror_mode": {
    "name": "ipython",
    "version": 3
   },
   "file_extension": ".py",
   "mimetype": "text/x-python",
   "name": "python",
   "nbconvert_exporter": "python",
   "pygments_lexer": "ipython3",
   "version": "3.7.2"
  }
 },
 "nbformat": 4,
 "nbformat_minor": 2
}
