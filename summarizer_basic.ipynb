{
 "cells": [
  {
   "cell_type": "code",
   "execution_count": 3,
   "metadata": {},
   "outputs": [],
   "source": [
    "import json\n",
    "import pathlib\n",
    "\n",
    "import numpy as np\n",
    "import pandas as pd\n",
    "\n",
    "from nltk import tokenize\n",
    "\n",
    "from sklearn.feature_extraction.text import CountVectorizer, TfidfVectorizer\n",
    "from sklearn.metrics.pairwise import cosine_similarity"
   ]
  },
  {
   "cell_type": "code",
   "execution_count": 20,
   "metadata": {},
   "outputs": [],
   "source": [
    "def summarize(text, top, *, vectorizer=TfidfVectorizer, stop_words=None, metric=cosine_similarity):\n",
    "    sentences = tokenize.sent_tokenize(text)\n",
    "    corpus = sentences + [text]\n",
    "    vector = vectorizer(stop_words=stop_words).fit_transform(corpus)\n",
    "    \n",
    "    sent_slice = slice(0, -1)\n",
    "    text_index = -1\n",
    "    measures = metric(vector[sent_slice], vector[text_index])\n",
    "    meas_sent = zip(measures, sentences)\n",
    "    top = sorted(meas_sent, reverse=True)[:top]\n",
    "    top_sents = [s for _, s in top]\n",
    "    return top_sents"
   ]
  },
  {
   "cell_type": "code",
   "execution_count": 37,
   "metadata": {},
   "outputs": [],
   "source": [
    "year = str(2010)\n",
    "jsons = pathlib.Path.cwd() / 'data' / 'jsons'\n",
    "json_year = jsons / year / f'{year}.json'\n",
    "\n",
    "with open(json_year) as fp:\n",
    "    dict_year = json.load(fp)[year]\n",
    "    \n",
    "article = dict_year[76]"
   ]
  },
  {
   "cell_type": "code",
   "execution_count": 38,
   "metadata": {},
   "outputs": [
    {
     "data": {
      "text/plain": [
       "'Democrats appear confident they will have the 216 votes needed to pass a pair of bills designed to provide near-universal health insurance coverage. Republicans — unanimous in their opposition — describe the bills as \"a disgrace.\"'"
      ]
     },
     "execution_count": 38,
     "metadata": {},
     "output_type": "execute_result"
    }
   ],
   "source": [
    "story = article['story']\n",
    "summary = article['summary'].strip()\n",
    "summary"
   ]
  },
  {
   "cell_type": "code",
   "execution_count": 39,
   "metadata": {},
   "outputs": [
    {
     "data": {
      "text/plain": [
       "['The House would then take up the so-called reconciliation bill, which is, in essence, a package of amendments to the Senate bill.',\n",
       " 'In answer to budget concerns of states, the reconciliation bill would increase the federal share of the cost of covering new enrollees.',\n",
       " \"The Senate bill requires companies with 50 or more employees to help pay the cost of insurance if taxpayers are primarily footing the bill for their workers' coverage.\"]"
      ]
     },
     "execution_count": 39,
     "metadata": {},
     "output_type": "execute_result"
    }
   ],
   "source": [
    "summarize(story, 3, vectorizer=TfidfVectorizer, stop_words=None)"
   ]
  },
  {
   "cell_type": "code",
   "execution_count": null,
   "metadata": {},
   "outputs": [],
   "source": []
  }
 ],
 "metadata": {
  "kernelspec": {
   "display_name": "Python 3",
   "language": "python",
   "name": "python3"
  },
  "language_info": {
   "codemirror_mode": {
    "name": "ipython",
    "version": 3
   },
   "file_extension": ".py",
   "mimetype": "text/x-python",
   "name": "python",
   "nbconvert_exporter": "python",
   "pygments_lexer": "ipython3",
   "version": "3.6.8"
  }
 },
 "nbformat": 4,
 "nbformat_minor": 2
}
