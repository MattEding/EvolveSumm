{
 "cells": [
  {
   "cell_type": "code",
   "execution_count": 199,
   "metadata": {},
   "outputs": [],
   "source": [
    "import collections\n",
    "import itertools\n",
    "import json\n",
    "import pathlib\n",
    "from pprint import pprint\n",
    "import string\n",
    "\n",
    "import gensim as gs\n",
    "import numpy as np\n",
    "import pandas as pd\n",
    "\n",
    "from nltk import tokenize\n",
    "from nltk.corpus import stopwords\n",
    "\n",
    "from sklearn.feature_extraction.text import CountVectorizer, TfidfVectorizer\n",
    "from sklearn.metrics.pairwise import cosine_similarity"
   ]
  },
  {
   "cell_type": "code",
   "execution_count": 2,
   "metadata": {},
   "outputs": [],
   "source": [
    "def expand_contractions(text):\n",
    "    pass\n",
    "    # *can't --> cannot\n",
    "    # shouldn't, hasn't, wouldn't --> (...)n't --> (...) not\n",
    "    # I'd, he'd, we'd --> (...)'d --> (...) would\n",
    "    # should've --> (...)'ve --> (...) have"
   ]
  },
  {
   "cell_type": "code",
   "execution_count": 3,
   "metadata": {},
   "outputs": [],
   "source": [
    "def summarize(text, top, *, vectorizer=TfidfVectorizer, stop_words=None, metric=cosine_similarity):\n",
    "    sentences = tokenize.sent_tokenize(text)\n",
    "    corpus = sentences + [text]\n",
    "    vector = vectorizer(stop_words=stop_words).fit_transform(corpus)\n",
    "    \n",
    "    sent_slice = slice(0, -1)\n",
    "    text_index = -1\n",
    "    measures = metric(vector[sent_slice], vector[text_index])\n",
    "    meas_sent = zip(measures, sentences)\n",
    "    top = sorted(meas_sent, reverse=True)[:top]\n",
    "    top_sents = [s for _, s in top]\n",
    "    return top_sents"
   ]
  },
  {
   "cell_type": "code",
   "execution_count": 18,
   "metadata": {},
   "outputs": [],
   "source": [
    "def id2token(dctnry, bow):\n",
    "    id2token = {v: k for k, v in dctnry.token2id.items()}\n",
    "    return [(id2token[id], token) for id, token in bow]"
   ]
  },
  {
   "cell_type": "code",
   "execution_count": 210,
   "metadata": {},
   "outputs": [],
   "source": [
    "year = str(2010)\n",
    "jsons = pathlib.Path.cwd() / 'data' / 'jsons'\n",
    "json_year = jsons / year / f'{year}.json'\n",
    "\n",
    "with open(json_year) as fp:\n",
    "    dict_year = json.load(fp)[year]\n",
    "    \n",
    "article = dict_year[42]"
   ]
  },
  {
   "cell_type": "code",
   "execution_count": 211,
   "metadata": {},
   "outputs": [
    {
     "data": {
      "text/plain": [
       "'At a Friday Mass in St. Peter\\'s Square, Pope Benedict XVI promised to \"do everything possible\" to ensure that prelates don\\'t rape or molest children ever again. But the statement did not satisfy abuse victims groups, who are demanding more accountability from the church.'"
      ]
     },
     "execution_count": 211,
     "metadata": {},
     "output_type": "execute_result"
    }
   ],
   "source": [
    "story = article['story']\n",
    "summary = article['summary'].strip()\n",
    "summary"
   ]
  },
  {
   "cell_type": "code",
   "execution_count": 212,
   "metadata": {},
   "outputs": [],
   "source": [
    "text = story\n",
    "tokenizer = tokenize.word_tokenize\n",
    "stop_words = set(stopwords.words('english'))\n",
    "# stop_words.update(string.punctuation)\n",
    "\n",
    "def seive(word):\n",
    "    return (word not in stop_words) and (len(word) > 2) and (not word.startswith(\"'\"))\n",
    "\n",
    "summary_sentences = tokenize.sent_tokenize(summary.lower())\n",
    "summary_tokens = [[word for word in tokenizer(sent) if seive(word)] \n",
    "                  for sent in summary_sentences]\n",
    "\n",
    "story_paragraphs = story.lower().split('\\n\\n')\n",
    "story_tokens = [[word for word in tokenizer(para) if seive(word)]\n",
    "                for para in story_paragraphs]\n",
    "\n",
    "####: for some reason the tfidf only really works with a corpus of more than 1 item\n",
    "# story_paragraphs = story.lower().replace('\\n\\n', ' ')\n",
    "# story_tokens = [[word for word in tokenizer(story_paragraphs) if word not in stop_words]]\n",
    "\n",
    "story_dctnry = gs.corpora.Dictionary(story_tokens)\n",
    "corpus = [story_dctnry.doc2bow(tkn) for tkn in story_tokens]\n",
    "\n",
    "tfidf = gs.models.TfidfModel(corpus)\n",
    "corpus_tfidf = tfidf[corpus]\n",
    "\n",
    "summary_bows = [story_dctnry.doc2bow(doc) for doc in summary_tokens]\n",
    "summary_tfidf = tfidf[summary_bows]"
   ]
  },
  {
   "cell_type": "code",
   "execution_count": 213,
   "metadata": {},
   "outputs": [],
   "source": [
    "lsi = gs.models.LsiModel(corpus_tfidf, id2word=story_dctnry, num_topics=2)  # initialize an LSI transformation\n",
    "corpus_lsi = lsi[corpus_tfidf]"
   ]
  },
  {
   "cell_type": "code",
   "execution_count": 214,
   "metadata": {},
   "outputs": [
    {
     "data": {
      "text/plain": [
       "[(0,\n",
       "  '0.182*\"ensure\" + 0.182*\"never\" + 0.182*\"possible\" + 0.182*\"god\" + 0.182*\"forgiveness\" + 0.176*\"everything\" + 0.160*\"would\" + 0.159*\"friday\" + 0.156*\"pope\" + 0.154*\"victims\"'),\n",
       " (1,\n",
       "  '-0.204*\"forgiveness\" + -0.204*\"ensure\" + -0.204*\"god\" + -0.204*\"possible\" + -0.204*\"never\" + -0.143*\"everything\" + -0.142*\"persons\\u202c\\u202a\" + -0.142*\"insistently\" + -0.142*\"beg\" + -0.142*\"promising\"')]"
      ]
     },
     "execution_count": 214,
     "metadata": {},
     "output_type": "execute_result"
    }
   ],
   "source": [
    "lsi.print_topics()"
   ]
  },
  {
   "cell_type": "code",
   "execution_count": 215,
   "metadata": {},
   "outputs": [
    {
     "name": "stdout",
     "output_type": "stream",
     "text": [
      "[(0, 0.6433836567612338), (1, -0.5052212565696722)]\n",
      "[(0, 0.1824919777719882), (1, 0.30567437424129956)]\n",
      "[(0, 0.5072185668985268), (1, -0.5535796124332549)]\n",
      "[(0, 0.22268031759769885), (1, 0.04317398866614782)]\n",
      "[(0, 0.04389431777448442), (1, 0.05872455372950356)]\n",
      "[(0, 0.30315009442203816), (1, 0.12612195596786677)]\n",
      "[(0, 0.11230905682917246), (1, 0.10287799448817823)]\n",
      "[(0, 0.3428165896320907), (1, 0.25162391299271125)]\n",
      "[(0, 0.06439901934768232), (1, 0.11709307535469478)]\n",
      "[(0, 0.2869920179218724), (1, 0.08707998284920253)]\n",
      "[(0, 0.18691215027346766), (1, 0.09263830573394308)]\n",
      "[(0, 0.08725831381098292), (1, 0.10767307479391704)]\n",
      "[(0, 0.4029760703401056), (1, 0.011373695721479046)]\n",
      "[(0, 0.27397722133430863), (1, 0.39095808050115816)]\n",
      "[(0, 0.19345323825753047), (1, 0.21977130326694871)]\n",
      "[(0, 0.14922520360196664), (1, 0.31135968775834993)]\n",
      "[(0, 0.10698169905721162), (1, 0.2193544763036076)]\n",
      "[(0, 0.3398726175258859), (1, 0.34845034471579917)]\n"
     ]
    }
   ],
   "source": [
    "for doc in corpus_lsi:\n",
    "    print(doc)"
   ]
  },
  {
   "cell_type": "code",
   "execution_count": 216,
   "metadata": {},
   "outputs": [
    {
     "data": {
      "text/plain": [
       "[('benedict', 1),\n",
       " ('ensure', 1),\n",
       " ('everything', 1),\n",
       " ('friday', 1),\n",
       " ('pope', 1),\n",
       " ('possible', 1),\n",
       " ('xvi', 1),\n",
       " ('mass', 1),\n",
       " ('peter', 1),\n",
       " ('square', 1),\n",
       " ('st.', 1)]"
      ]
     },
     "execution_count": 216,
     "metadata": {},
     "output_type": "execute_result"
    }
   ],
   "source": [
    "id2token(story_dctnry, summary_bows[0])"
   ]
  },
  {
   "cell_type": "code",
   "execution_count": 217,
   "metadata": {},
   "outputs": [
    {
     "data": {
      "text/plain": [
       "[('victims', 1),\n",
       " ('abuse', 1),\n",
       " ('accountability', 1),\n",
       " ('demanding', 1),\n",
       " ('satisfy', 1),\n",
       " ('statement', 1),\n",
       " ('church', 1)]"
      ]
     },
     "execution_count": 217,
     "metadata": {},
     "output_type": "execute_result"
    }
   ],
   "source": [
    "id2token(story_dctnry, summary_bows[1])"
   ]
  },
  {
   "cell_type": "code",
   "execution_count": 231,
   "metadata": {},
   "outputs": [
    {
     "name": "stdout",
     "output_type": "stream",
     "text": [
      "But he also said that in this year of joy, \"the sins of priests came to light -- particularly the abuse of little ones.\"‬‪‬‪ Benedict said that from now on, the Roman Catholic Church will do everything it can to screen men seeking to join the priesthood to determine the authenticity of their vocation.‬‪‬‪ The pledges were similar to ones he reportedly made in a private encounter with abuse victims in Malta in April.‬‪\n"
     ]
    }
   ],
   "source": [
    "summ = gs.summarization.summarize(story, split=False, word_count=50, ratio=None)\n",
    "print(summ)"
   ]
  },
  {
   "cell_type": "code",
   "execution_count": 219,
   "metadata": {},
   "outputs": [
    {
     "data": {
      "text/plain": [
       "'At a Friday Mass in St. Peter\\'s Square, Pope Benedict XVI promised to \"do everything possible\" to ensure that prelates don\\'t rape or molest children ever again. But the statement did not satisfy abuse victims groups, who are demanding more accountability from the church.'"
      ]
     },
     "execution_count": 219,
     "metadata": {},
     "output_type": "execute_result"
    }
   ],
   "source": [
    "summary"
   ]
  },
  {
   "cell_type": "code",
   "execution_count": 220,
   "metadata": {},
   "outputs": [
    {
     "data": {
      "text/plain": [
       "44"
      ]
     },
     "execution_count": 220,
     "metadata": {},
     "output_type": "execute_result"
    }
   ],
   "source": [
    "len(summary.split())"
   ]
  },
  {
   "cell_type": "code",
   "execution_count": 244,
   "metadata": {},
   "outputs": [
    {
     "data": {
      "text/plain": [
       "['benedict', 'abused', 'priest']"
      ]
     },
     "execution_count": 244,
     "metadata": {},
     "output_type": "execute_result"
    }
   ],
   "source": [
    "kywrds = gs.summarization.keywords(story, split=True, ratio=None, words=3, lemmatize=True)\n",
    "kywrds"
   ]
  },
  {
   "cell_type": "code",
   "execution_count": 245,
   "metadata": {},
   "outputs": [
    {
     "data": {
      "text/plain": [
       "3914"
      ]
     },
     "execution_count": 245,
     "metadata": {},
     "output_type": "execute_result"
    }
   ],
   "source": [
    "len(story)"
   ]
  },
  {
   "cell_type": "code",
   "execution_count": null,
   "metadata": {},
   "outputs": [],
   "source": []
  }
 ],
 "metadata": {
  "kernelspec": {
   "display_name": "Python 3",
   "language": "python",
   "name": "python3"
  },
  "language_info": {
   "codemirror_mode": {
    "name": "ipython",
    "version": 3
   },
   "file_extension": ".py",
   "mimetype": "text/x-python",
   "name": "python",
   "nbconvert_exporter": "python",
   "pygments_lexer": "ipython3",
   "version": "3.6.8"
  }
 },
 "nbformat": 4,
 "nbformat_minor": 2
}
