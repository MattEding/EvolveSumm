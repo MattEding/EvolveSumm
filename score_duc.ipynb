{
 "cells": [
  {
   "cell_type": "code",
   "execution_count": 1,
   "metadata": {},
   "outputs": [],
   "source": [
    "import itertools\n",
    "import json\n",
    "import logging\n",
    "import pathlib\n",
    "\n",
    "import gensim\n",
    "from nltk import tokenize\n",
    "import numpy as np\n",
    "from sklearn.feature_extraction.text import CountVectorizer\n",
    "from sklearn.metrics.pairwise import cosine_distances\n",
    "\n",
    "import dde\n",
    "import process_duc\n",
    "from rouge import rouge_n\n",
    "import similarity"
   ]
  },
  {
   "cell_type": "code",
   "execution_count": 2,
   "metadata": {},
   "outputs": [],
   "source": [
    "cwd = pathlib.Path.cwd()\n",
    "data = cwd / 'data'\n",
    "duc = data / 'duc'\n",
    "files = list(duc.iterdir())\n",
    "\n",
    "logfile = cwd / f'articles.log'\n",
    "logfile.touch()\n",
    "fmt = '{name} - {asctime} - {levelname} : {message}'\n",
    "logging.basicConfig(filename=logfile, level=logging.INFO, style='{', format=fmt)"
   ]
  },
  {
   "cell_type": "code",
   "execution_count": 3,
   "metadata": {},
   "outputs": [],
   "source": [
    "def fitness(chromosome):\n",
    "    return similarity.cohesion_separation(chromosome, similarity.jaccard_similarity, doc)\n",
    "\n",
    "\n",
    "dde_scores = []\n",
    "tr_scores = []\n",
    "for i, file in enumerate(files):\n",
    "    np.random.seed(i)\n",
    "    logging.info(f'article {i}')\n",
    "    try:\n",
    "        abstract, original = process_duc.extract(file)\n",
    "        if len(abstract.split()) < 10 or len(original.split()) < 10:\n",
    "            logging.info(f'skipping article {i}')\n",
    "            continue\n",
    "    except StopIteration:\n",
    "        logging.info(f'skipping article {i}')\n",
    "        continue\n",
    "    \n",
    "    cv = CountVectorizer(stop_words='english')\n",
    "    sents_lower = tokenize.sent_tokenize(original.lower())\n",
    "    sents_lower = (sent.split('\\n') for sent in sents_lower)\n",
    "    sents_lower = tuple(itertools.chain.from_iterable(sents_lower))\n",
    "    vec = cv.fit_transform(sents_lower)\n",
    "    doc = vec.toarray().astype(bool).astype(int)\n",
    "\n",
    "    best = dde.main(population_size=100, summary_length=0.1, sentence_count=len(doc), fitness=fitness, lamba_=0.5,\n",
    "                    crossover_rate=0.5, iterations=1000)\n",
    "    \n",
    "    \n",
    "\n",
    "    dde_summary = dde.construct_summary(best, doc, original, sents_lower, cosine_distances, fitness)\n",
    "    dde_rouge = rouge_n(1, dde_summary, abstract), rouge_n(2, dde_summary, abstract), rouge_n(3, dde_summary, abstract)\n",
    "    dde_scores.append(dde_rouge)\n",
    "    \n",
    "    tr_summary = gensim.summarization.summarize(original, ratio=0.1)\n",
    "    tr_rouge = rouge_n(1, tr_summary, abstract), rouge_n(2, tr_summary, abstract), rouge_n(3, tr_summary, abstract)\n",
    "    tr_scores.append(tr_rouge)\n",
    "    \n",
    "with open('dde_scores.json', 'w') as fp:\n",
    "    json.dump(dde_scores, fp)\n",
    "with open('tr_scores.json', 'w') as fp:\n",
    "    json.dump(tr_scores, fp)\n",
    "logging.info('saved dde and tr scores')"
   ]
  },
  {
   "cell_type": "code",
   "execution_count": 93,
   "metadata": {},
   "outputs": [],
   "source": []
  },
  {
   "cell_type": "code",
   "execution_count": 9,
   "metadata": {},
   "outputs": [
    {
     "data": {
      "text/plain": [
       "array([0.68868981, 0.39139472, 0.20820869])"
      ]
     },
     "execution_count": 9,
     "metadata": {},
     "output_type": "execute_result"
    }
   ],
   "source": [
    "np.array(dde_scores).mean(axis=0)"
   ]
  },
  {
   "cell_type": "code",
   "execution_count": 10,
   "metadata": {},
   "outputs": [
    {
     "data": {
      "text/plain": [
       "array([0.68701008, 0.38440148, 0.19823687])"
      ]
     },
     "execution_count": 10,
     "metadata": {},
     "output_type": "execute_result"
    }
   ],
   "source": [
    "np.array(tr_scores).mean(axis=0)"
   ]
  },
  {
   "cell_type": "code",
   "execution_count": null,
   "metadata": {},
   "outputs": [],
   "source": []
  }
 ],
 "metadata": {
  "kernelspec": {
   "display_name": "Python 3",
   "language": "python",
   "name": "python3"
  },
  "language_info": {
   "codemirror_mode": {
    "name": "ipython",
    "version": 3
   },
   "file_extension": ".py",
   "mimetype": "text/x-python",
   "name": "python",
   "nbconvert_exporter": "python",
   "pygments_lexer": "ipython3",
   "version": "3.7.2"
  }
 },
 "nbformat": 4,
 "nbformat_minor": 2
}
