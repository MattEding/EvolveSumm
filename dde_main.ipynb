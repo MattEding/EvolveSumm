{
 "cells": [
  {
   "cell_type": "code",
   "execution_count": 1,
   "metadata": {},
   "outputs": [],
   "source": [
    "import functools\n",
    "import itertools\n",
    "import logging\n",
    "import multiprocessing\n",
    "import pathlib\n",
    "\n",
    "import numba\n",
    "import numpy as np\n",
    "\n",
    "from nltk import tokenize\n",
    "from nltk.util import ngrams\n",
    "\n",
    "from sklearn.feature_extraction.text import CountVectorizer\n",
    "from sklearn.metrics.pairwise import cosine_distances\n",
    "from sklearn.metrics import pairwise_distances"
   ]
  },
  {
   "cell_type": "code",
   "execution_count": 2,
   "metadata": {},
   "outputs": [],
   "source": [
    "@numba.njit\n",
    "def jaccard_similarity(a, b):\n",
    "    union = np.sum(a | b)\n",
    "    if not union:\n",
    "        return 1.0\n",
    "    return np.sum(a & b) / union\n",
    "\n",
    "\n",
    "@numba.njit\n",
    "def sigmoid(x):\n",
    "    return 1 / (1 + np.exp(-x))\n",
    "\n",
    "\n",
    "@numba.njit\n",
    "def cohesion(chromosome, similarity, document):\n",
    "    total = 0\n",
    "    for p in np.unique(chromosome):\n",
    "        sents = document[chromosome == p]\n",
    "        k = len(sents)\n",
    "        #: combinations choose 2\n",
    "        for i in range(k-1):\n",
    "            for j in range(i+1, k):\n",
    "                total += similarity(sents[i], sents[j]) / len(sents)  \n",
    "    return total\n",
    "\n",
    "\n",
    "@numba.njit\n",
    "def separation(chromosome, similarity, document):\n",
    "    total = 0\n",
    "    k = len(np.unique(chromosome))\n",
    "    #: combinations choose 2\n",
    "    for p in range(k-1):\n",
    "        for q in range(p+1, k):\n",
    "            sents_p = document[chromosome == p]\n",
    "            sents_q = document[chromosome == q]\n",
    "            #: product\n",
    "            m, n = len(sents_p), len(sents_q)\n",
    "            for i in range(m):\n",
    "                for j in range(n):\n",
    "                    total += similarity(sents_p[i], sents_q[j]) / m / n\n",
    "    return total\n",
    "\n",
    "\n",
    "@numba.njit\n",
    "def cohesion_separation(chromosome, similarity, document):\n",
    "    coh = cohesion(chromosome, similarity, document)\n",
    "    sep = separation(chromosome, similarity, document)\n",
    "    return (1 + sigmoid(coh)) ** sep"
   ]
  },
  {
   "cell_type": "code",
   "execution_count": 3,
   "metadata": {},
   "outputs": [],
   "source": [
    "def init_chromosome(choices, length):\n",
    "    chrom = np.full(length, -1)\n",
    "    #: ensure that each choice is accounted for at least once\n",
    "    idxs = np.random.choice(np.arange(length), len(choices), replace=False)\n",
    "    chrom[idxs] = np.random.permutation(choices)\n",
    "    idxs = np.where(chrom == -1)[0]\n",
    "    chrom[idxs] = np.random.choice(choices, len(idxs))\n",
    "    return chrom\n",
    "\n",
    "\n",
    "def init_population(population_size, cluster_amount, chromosome_length):\n",
    "    clusts = np.arange(cluster_amount)\n",
    "    chroms = [init_chromosome(clusts, chromosome_length) for _ in range(population_size)]\n",
    "    pop = np.vstack(chroms)\n",
    "    return pop\n",
    "\n",
    "\n",
    "def get_offspring_distinct(population, randoms, lambda_, crossover_rate):\n",
    "    n = np.arange(len(population))\n",
    "    s = set(n)\n",
    "    idxs = np.array([np.random.choice(tuple(s - {i}), size=3, replace=False) for i in n])\n",
    "    chrom_1, chrom_2, chrom_3 = map(np.squeeze, np.split(population[idxs], 3, axis=1))\n",
    "    k = len(np.unique(population))\n",
    "    offspr = (chrom_1 + lambda_ * (chrom_2 - chrom_3)) % k\n",
    "    mask = randoms < crossover_rate\n",
    "    offspr[mask] = population[mask]\n",
    "    return offspr\n",
    "\n",
    "\n",
    "def get_offspring(population, randoms, lambda_, crossover_rate):\n",
    "    #: For computation time, relax requirement that X_r, X_r1, X_r2, X_r3 are distinct. \n",
    "    #: With large population size, this is unlikely to occur, and if it does, it doesn't\n",
    "    #: seem that detrimental. Also is this mitigated with appropriate lam choice?\n",
    "    n = len(population)\n",
    "    idxs = np.random.choice(np.arange(n), size=(n, 3))\n",
    "    chrom_1, chrom_2, chrom_3 = map(np.squeeze, np.split(population[idxs], 3, axis=1))\n",
    "    k = len(np.unique(population))\n",
    "    offspr = (chrom_1 + lambda_ * (chrom_2 - chrom_3)) % k\n",
    "    mask = randoms < crossover_rate\n",
    "    offspr[mask] = population[mask]\n",
    "    return offspr\n",
    "\n",
    "\n",
    "def next_generation(population, offspring, func, pool):\n",
    "    fits = pool.map(func, itertools.chain(population, offspring))\n",
    "    l = len(population)\n",
    "    fit_pop = np.array(fits[:l])\n",
    "    fit_off = np.array(fits[l:])\n",
    "    mask = fit_off > fit_pop\n",
    "    population[mask] = offspring[mask]\n",
    "    return\n",
    "\n",
    "\n",
    "def mutate(population, randoms):\n",
    "    mask = randoms < sigmoid(population)\n",
    "    #: inversion operator\n",
    "    idxs = np.nonzero(mask)\n",
    "    arr = np.array(idxs)\n",
    "    sorter = np.lexsort((-arr[1], arr[0]))\n",
    "    rev = arr.T[sorter].T\n",
    "    population[idxs] = population[(rev[0], rev[1])]\n",
    "    return"
   ]
  },
  {
   "cell_type": "code",
   "execution_count": 4,
   "metadata": {},
   "outputs": [],
   "source": [
    "#TODO: early stopping --> little fitness improvement over x generations, good enough fitness score\n",
    "def run_iterations(pop_size, summ_len, num_sents, func, lam, cr, iterations, *, \n",
    "                   seed=None, verbose=False, save_rate=np.nan, save_dir=None):\n",
    "    \n",
    "    if verbose:\n",
    "        logging.info(f'pop_size={pop_size}, summ_len={summ_len}, func={func}, lam={lam}, cr={cr}, iterations={iterations}, seed={seed}')\n",
    "    \n",
    "    if save_dir is not None:\n",
    "        save_dir = pathlib.Path(save_dir)\n",
    "        if not save_dir.is_dir():\n",
    "            msg = f'save_dir={save_dir} not a valid directory path'.format(save_dir=save_dir)\n",
    "            raise NotADirectoryError(msg)\n",
    "    \n",
    "    if seed is not None:\n",
    "        np.random.seed(seed)\n",
    "        \n",
    "    if isinstance(summ_len, int):\n",
    "        if not (0 < summ_len < num_sents):\n",
    "            raise ValueError('int summ_len must be between 0 and the number of sentences in the document')\n",
    "    elif isinstance(summ_len, float):\n",
    "        if not (0.0 < summ_len < 1.0):\n",
    "            raise ValueError('float summ_len must be between 0.0 and 1.0')\n",
    "        summ_len = int(summ_len * num_sents)\n",
    "    else:\n",
    "        raise TypeError('summ_len must be a float or int')\n",
    "        \n",
    "    pool = multiprocessing.Pool()\n",
    "    pop = init_population(pop_size, summ_len, num_sents)\n",
    "    shape = pop.shape\n",
    "    for i in range(iterations):\n",
    "        if i % save_rate == 0:\n",
    "            file = save_dir / 'generation_{i:0>pad}'.format(i=i, pad=len(str(iterations)))\n",
    "            np.save(file, pop)\n",
    "            \n",
    "        if verbose:\n",
    "            logging.info(f'iteration: {i}')\n",
    "            #TODO: logfile --> iteration number, best fitness score, avg fitness score, hyper-params\n",
    "        \n",
    "        rand = np.random.random_sample(shape)\n",
    "        offspr = get_offspring(pop, rand, lam, cr)\n",
    "        next_generation(pop, offspr, func, pool)\n",
    "        mutate(pop, rand)\n",
    "\n",
    "    pool.terminate()\n",
    "    return pop"
   ]
  },
  {
   "cell_type": "code",
   "execution_count": 5,
   "metadata": {},
   "outputs": [],
   "source": [
    "def best_chromosome(population):\n",
    "    #TODO: make sure it picks one with all k-clusters\n",
    "    fits = np.argmax([fitness(chrom) for chrom in population])\n",
    "    chrom = population[fits]\n",
    "    return chrom\n",
    "    \n",
    "\n",
    "def central_sentences(chromosome, document, metric=cosine_distances):\n",
    "    central_sents = []\n",
    "    for cluster in np.unique(chromosome):\n",
    "        idxs = np.where(chromosome == cluster)[0]\n",
    "        sents = document[idxs]\n",
    "        centroid = sents.mean(axis=0)[np.newaxis,:]\n",
    "        dists = metric(sents, centroid)\n",
    "        cent_sent = idxs[np.argmin(dists)]\n",
    "        central_sents.append(cent_sent)\n",
    "    return sorted(central_sents)"
   ]
  },
  {
   "cell_type": "code",
   "execution_count": 6,
   "metadata": {},
   "outputs": [],
   "source": [
    "def rouge_n(n, y_pred, y_true):\n",
    "    n_gram_pred = set(ngrams(y_pred, n))\n",
    "    n_gram_true = set(ngrams(y_true, n))\n",
    "    return len(n_gram_pred & n_gram_true) / len(n_gram_true)"
   ]
  },
  {
   "cell_type": "markdown",
   "metadata": {},
   "source": [
    "# Run Algorithm"
   ]
  },
  {
   "cell_type": "code",
   "execution_count": 7,
   "metadata": {},
   "outputs": [
    {
     "data": {
      "text/plain": [
       "'Every Who Down in Whoville Liked Christmas a lot...\\nBut the Grinch,Who lived just north of Whoville,'"
      ]
     },
     "execution_count": 7,
     "metadata": {},
     "output_type": "execute_result"
    }
   ],
   "source": [
    "import pathlib\n",
    "\n",
    "cwd = pathlib.Path.cwd()\n",
    "path = cwd / 'data' / 'grinch.txt'\n",
    "with open(path) as fp:\n",
    "    text = fp.read()\n",
    "    \n",
    "logfile = cwd / f'{path.stem}.log'\n",
    "logfile.touch()\n",
    "fmt = '{name} - {asctime} - {levelname} : {message}'\n",
    "logging.basicConfig(filename=logfile, level=logging.INFO, style='{', format=fmt)\n",
    "\n",
    "text[:100]"
   ]
  },
  {
   "cell_type": "code",
   "execution_count": 8,
   "metadata": {},
   "outputs": [
    {
     "data": {
      "text/plain": [
       "'every who down in whoville like christmas a lot ... \\n but the grinch , who live just north of whoville , do not ! \\n the grinch hat christmas ! the whole christmas season ! \\n now , please do not ask why . no one quite know the reason . \\n -pron- could be -pron- head be not screw on just right . \\n -pro'"
      ]
     },
     "execution_count": 8,
     "metadata": {},
     "output_type": "execute_result"
    }
   ],
   "source": [
    "import spacy\n",
    "nlp = spacy.load('en', disable=['parser', 'ner'])\n",
    "lemm = ' '.join([token.lemma_ for token in nlp(text)]).lower()\n",
    "lemm[:300]"
   ]
  },
  {
   "cell_type": "code",
   "execution_count": 16,
   "metadata": {},
   "outputs": [
    {
     "name": "stdout",
     "output_type": "stream",
     "text": [
      "every who down in whoville like christmas a lot ... \n",
      " but the grinch , who live just north of whoville , do not ! \n",
      " the grinch hat christmas ! the whole christmas season ! \n",
      " now , please do not ask why . no one quite know the reason . \n",
      " -pron- could be -pron- head be not screw on just right . \n",
      " -pron- could be , perhaps , that -pron- shoe be too tight . \n",
      " but -pron- think that the most likely reason of all , \n",
      " may have be that -pron- heart be two size too small . \n",
      " whatev the reason , -pron- heart or -pron- shoe , \n",
      " -pron- stand there on christmas eve , hat the who s , \n",
      " star down from -pron- cave with a sour , grinchy frown , \n",
      " at the warm light window below in -pron- town . \n",
      " for -pron- know every who down in whoville beneath , \n",
      " be busy now , hang a mistletoe wreath . \n",
      " \" and -pron- be hang -pron- stocking ! \" -pron- snarl with a sneer , \n",
      " \" tomorrow be christmas ! -pron- be practically here ! \" \n",
      " then -pron- growl , with -pron- grinch finger nervously drum , \n",
      " \" -pron- must find some way to stop christmas from come ! \" \n",
      " for tomorrow , -pron- know , all the who girl and boy , \n",
      " would wake bright and early . -pron- would rush for -pron- toy ! \n",
      " and then ! oh , the noise ! oh , the noise ! \n",
      " noise ! noise ! noise ! \n",
      " that be one thing -pron- hat ! the noise ! \n",
      " noise ! noise ! noise ! \n",
      " then the who s , young and old , would sit down to a feast . \n",
      " and -pron- would feast ! and -pron- would feast ! and -pron- would feast ! \n",
      " feast ! feast ! feast ! \n",
      " -pron- would feast on who - pudding , and rare who - roast beast . \n",
      " which be something the grinch could not stand in the least ! \n",
      " and then -pron- would do something -pron- like least of all ! \n",
      " every who down in whoville , the tall and the small , \n",
      " would stand close together , with christmas bell ring . \n",
      " -pron- would stand hand - in - hand . and the who s would start sing ! \n",
      " -pron- would sing ! and -pron- would sing ! and -pron- would sing ! \n",
      " sing ! sing ! sing ! \n",
      " and the more the grinch think of this who christmassing , \n",
      " the more the grinch think , \" -pron- must stop this whole thing ! \" \n",
      " \" why , for fifty - three year -pron- have put up with -pron- now ! \" \n",
      " \" -pron- must stop this christmas from come ! but how ? \" \n",
      " then -pron- get an idea ! an awful idea ! \n",
      " the grinch got a wonderful , awful idea ! \n",
      " \" -pron- know just what to do ! \" the grinch laugh in -pron- throat . \n",
      " and -pron- make a quick santy claus hat and a coat . \n",
      " and -pron- chuckle , and cluck , \" what a great grinchy trick ! \" \n",
      " \" with this coat and this hat , -pron- look just like saint nick ! \" \n",
      " \" all -pron- need be a reindeer ... \" the grinch look around . \n",
      " but , since reindeer be scarce , there be none to be find . \n",
      " do that stop the old grinch ? no ! the grinch simply say , \n",
      " \" if -pron- can not find a reindeer , -pron- will make one instead ! \" \n",
      " so -pron- call -pron- dog , max . then -pron- take some red thread , \n",
      " and -pron- tie a big horn on the top of -pron- head . \n",
      " then -pron- load some bag and some old empty sack , \n",
      " on a ramshackle sleigh and -pron- hitch up old max . \n",
      " then the grinch say , \" giddap ! \" and the sleigh start down , \n",
      " toward the home where the who s lay asnooze in -pron- town . \n",
      " all -pron- window be dark . quiet snow fill the air . \n",
      " all the who s be all dream sweet dream without care . \n",
      " when -pron- come to the first little house on the square . \n",
      " \" this be stop number one , \" the old grinchy claus hiss , \n",
      " and -pron- climb to the roof , empty bag in -pron- fist . \n",
      " then -pron- slide down the chimney . a rather tight pinch . \n",
      " but , if santa could do -pron- , then so could the grinch . \n",
      " -pron- get stick only once , for a moment or two . \n",
      " then -pron- stick -pron- head out of the fireplace flue . \n",
      " where the little who stocking all hang in a row . \n",
      " \" these stocking , \" -pron- grin , \" be the first thing to go ! \" \n",
      " then -pron- slither and slink , with a smile most unpleasant , \n",
      " around the whole room , and -pron- take every present ! \n",
      " pop gun ! and bicycle ! roller skate ! drum ! \n",
      " checkerboards ! tricycle ! popcorn ! and plum ! \n",
      " and -pron- stuff -pron- in bag . then the grinch , very nimbly , \n",
      " stuffed all the bag , one by one , up the chimney ! \n",
      " then -pron- slink to the icebox . -pron- take the who s ' feast ! \n",
      " -pron- take the who - pudding ! -pron- take the roast beast ! \n",
      " -pron- clean out that icebox as quick as a flash . \n",
      " why , that grinch even take -pron- last can of who - hash ! \n",
      " then -pron- stuff all the food up the chimney with glee . \n",
      " \" and now ! \" grin the grinch , \" -pron- will stuff up the tree ! \" \n",
      " and the grinch grab the tree , and -pron- start to shove , \n",
      " when -pron- hear a small sound like the coo of a dove . \n",
      " -pron- turn around fast , and -pron- see a small who ! \n",
      " little cindy - lou who , who be not more than two . \n",
      " the grinch have be catch by this tiny who daughter , \n",
      " who 'd get out of bed for a cup of cold water . \n",
      " -pron- star at the grinch and say , \" santy claus , why , \" \n",
      " \" why be -pron- take -pron- christmas tree ? why ? \" \n",
      " but , -pron- know , that old grinch be so smart and so slick , \n",
      " -pron- think up a lie , and -pron- think -pron- up quick ! \n",
      " \" why , -pron- sweet little tot , \" the fake santy claus lie , \n",
      " \" there be a light on this tree that will not light on one side . \" \n",
      " \" so -pron- be take -pron- home to -pron- workshop , -pron- dear . \" \n",
      " \" -pron- will fix -pron- up there . then -pron- will bring -pron- back here . \" \n",
      " and -pron- fib fool the child . then -pron- pat -pron- head , \n",
      " and -pron- get -pron- a drink and -pron- send -pron- to bed . \n",
      " and when cindylou who go to bed with -pron- cup , \n",
      " he go to the chimney and stuff the tree up ! \n",
      " then the last thing -pron- take be the log for -pron- fire ! \n",
      " then -pron- go up the chimney , -pron- , the old liar . \n",
      " on -pron- wall -pron- leave nothing but hook and some wire . \n",
      " and the one speck of food that -pron- leave in the house , \n",
      " be a crumb that be even too small for a mouse . \n",
      " then -pron- do the same thing to the other who s ' house \n",
      " leaving crumb much too small for the other who s ' mouse ! \n",
      " -pron- be quarter past dawn ... all the who s , still a - bed , \n",
      " all the who s , still asnooze when -pron- pack up -pron- sled , \n",
      " pack -pron- up with -pron- present ! the ribbon ! the wrapping ! \n",
      " the tag ! and the tinsel ! the trimming ! the trapping ! \n",
      " three thousand foot up ! up the side of mount crumpit , \n",
      " -pron- ride with -pron- load to the tiptop to dump -pron- ! \n",
      " \" poohpooh to the who s ! \" -pron- be grinchishly hum . \n",
      " \" -pron- be find out now that no christmas be come ! \" \n",
      " \" -pron- be just wake up ! -pron- know just what -pron- will do ! \" \n",
      " \" -pron- mouth will hang open a minute or two , \n",
      " then the who s down in whoville will all cry boohoo ! \" \n",
      " \" that be a noise , \" grin the grinch , \" that -pron- simply must hear ! \" \n",
      " so -pron- pause . and the grinch put -pron- hand to -pron- ear . \n",
      " and -pron- do hear a sound rise over the snow . \n",
      " -pron- start in low . then -pron- start to grow . \n",
      " but the sound be not sad ! why , this sound sound merry ! \n",
      " -pron- could not be so ! but -pron- be merry ! very ! \n",
      " -pron- star down at whoville ! the grinch pop -pron- eye ! \n",
      " then -pron- shake ! what -pron- see be a shocking surprise ! \n",
      " every who down in whoville , the tall and the small , \n",
      " be sing ! without any present at all ! \n",
      " -pron- hadn't stop christmas from come ! it come ! \n",
      " somehow or other , -pron- come just the same ! \n",
      " and the grinch , with -pron- grinch - foot ice - cold in the snow , \n",
      " stood puzzle and puzzle : \" how could -pron- be so ? \" \n",
      " \" -pron- come with out ribbon ! -pron- come without tag ! \" \n",
      " \" -pron- come without package , box or bag ! \" \n",
      " and -pron- puzzle three hour , till -pron- puzzler be sore . \n",
      " then the grinch think of something -pron- have not before ! \n",
      " \" maybe christmas , \" -pron- think , \" do not come from a store . \" \n",
      " \" maybe christmas ... perhaps ... mean a little bit more ! \" \n",
      " and what happen then ? well ... in whoville -pron- say , \n",
      " that the grinch 's small heart grow three size that day ! \n",
      " and the minute -pron- heart do not feel quite so tight , \n",
      " -pron- whiz with -pron- load through the bright morning light , \n",
      " and -pron- bring back the toy ! and the food for the feast ! \n",
      " and -pron- , he himself ! the grinch carve the roast beast !\n"
     ]
    }
   ],
   "source": [
    "print(lemm)"
   ]
  },
  {
   "cell_type": "code",
   "execution_count": 9,
   "metadata": {},
   "outputs": [
    {
     "data": {
      "text/plain": [
       "(1349,\n",
       " ['Every', 'Who', 'Down', 'in', 'Whoville'],\n",
       " 1773,\n",
       " ['every', 'who', 'down', 'in', 'whoville'])"
      ]
     },
     "execution_count": 9,
     "metadata": {},
     "output_type": "execute_result"
    }
   ],
   "source": [
    "len(text.split()), text.split()[:5], len(lemm.split()), lemm.split()[:5]"
   ]
  },
  {
   "cell_type": "code",
   "execution_count": 10,
   "metadata": {},
   "outputs": [],
   "source": [
    "def fitness(chromosome):\n",
    "    return cohesion_separation(chromosome, jaccard_similarity, doc)\n",
    "\n",
    "cv = CountVectorizer(stop_words='english')\n",
    "\n",
    "\n",
    "sents_lower = tokenize.sent_tokenize(lemm)\n",
    "# sents_lower = tokenize.sent_tokenize(text.lower())\n",
    "sents_lower = (sent.split('\\n') for sent in sents_lower)\n",
    "sents_lower = tuple(itertools.chain.from_iterable(sents_lower))\n",
    "vec = cv.fit_transform(sents_lower)\n",
    "doc = vec.toarray().astype(bool).astype(int)\n",
    "ratio = 0.05\n",
    "\n",
    "logging.info('started iterations')\n",
    "pop = run_iterations(pop_size=100, summ_len=ratio, num_sents=len(doc), \n",
    "                     func=fitness, lam=0.5, cr=0.5, iterations=1000, verbose=True, seed=0)\n",
    "\n",
    "logging.info('finished iterations')"
   ]
  },
  {
   "cell_type": "code",
   "execution_count": 14,
   "metadata": {},
   "outputs": [],
   "source": [
    "def retrieve_orig(idxs):\n",
    "    summ_evol = []\n",
    "    for sent in np.array(sents_lower)[idxs]:\n",
    "        start = lemm.index(sent)\n",
    "#         start = text.lower().index(sent)\n",
    "        stop = start + len(sent)\n",
    "        summ_evol.append(text[start:stop])\n",
    "    summ_evol = '\\n'.join(summ_evol)\n",
    "    return summ_evol"
   ]
  },
  {
   "cell_type": "code",
   "execution_count": 15,
   "metadata": {},
   "outputs": [
    {
     "name": "stdout",
     "output_type": "stream",
     "text": [
      "0  drumming,\n",
      "1 \"I MUST find some w\n",
      "2 hand. And the Whos would start singing!\n",
      "3 They'd sing! And they\n",
      "4 s I've put up with \n",
      "5 t now!\"\n",
      "6 \"I MUST stop th\n",
      "7 y,”\n",
      "8 \"Why are you taking our Christmas tree? WHY?\"\n",
      "9 But, you \n",
      "10 ame!\n",
      "11 And the Grinch, with his grinch-feet ice-cold i\n",
      "12 before!\n",
      "13 \"Maybe Ch\n",
      "14 ay!\n",
      "15 And the minute his h\n",
      "16 \n",
      "17 \n"
     ]
    }
   ],
   "source": [
    "chrom_best = best_chromosome(pop)\n",
    "np.save(f'{path.stem}_lemm.npy', chrom_best)\n",
    "logging.info('saved npy')\n",
    "\n",
    "pair_dist = functools.partial(pairwise_distances, metric='cosine')\n",
    "idxs = central_sentences(chrom_best, doc, pair_dist)\n",
    "summ_evol = retrieve_orig(idxs, )\n",
    "for i, sent in enumerate(summ_evol.split('\\n'), start=0):\n",
    "    print(i, sent)"
   ]
  },
  {
   "cell_type": "code",
   "execution_count": null,
   "metadata": {},
   "outputs": [],
   "source": [
    "chrom_best = best_chromosome(pop)\n",
    "np.save(f'{path.stem + '_lemm'}', chrom_best)\n",
    "logging.info('saved npy')\n",
    "\n",
    "pair_dist = functools.partial(pairwise_distances, metric='cosine')\n",
    "idxs = central_sentences(chrom_best, doc, pair_dist)\n",
    "summ_evol = retrieve_orig(idxs)\n",
    "for i, sent in enumerate(summ_evol.split('\\n'), start=0):\n",
    "    print(i, sent)"
   ]
  },
  {
   "cell_type": "code",
   "execution_count": null,
   "metadata": {},
   "outputs": [],
   "source": [
    "# [‘cityblock’, ‘cosine’, ‘euclidean’, ‘l1’, ‘l2’, ‘manhattan’,\n",
    "# ‘braycurtis’, ‘canberra’, ‘chebyshev’, ‘correlation’, ‘dice’, ‘hamming’, ‘jaccard’, ‘kulsinski’, ‘mahalanobis’, ‘minkowski’, ‘rogerstanimoto’, ‘russellrao’, ‘seuclidean’, ‘sokalmichener’, ‘sokalsneath’, ‘sqeuclidean’, ‘yule’]"
   ]
  },
  {
   "cell_type": "code",
   "execution_count": null,
   "metadata": {},
   "outputs": [],
   "source": [
    "import gensim\n",
    "gen_summ = gensim.summarization.summarize(text, ratio=ratio)\n",
    "for i, sent in enumerate(gen_summ.split('\\n'), start=1):\n",
    "    print(i, sent)"
   ]
  },
  {
   "cell_type": "code",
   "execution_count": null,
   "metadata": {},
   "outputs": [],
   "source": [
    "from sumy.parsers.plaintext import PlaintextParser\n",
    "from sumy.summarizers.lex_rank import LexRankSummarizer\n",
    "from sumy.summarizers.text_rank import TextRankSummarizer\n",
    "from sumy.nlp.tokenizers import Tokenizer"
   ]
  },
  {
   "cell_type": "code",
   "execution_count": null,
   "metadata": {},
   "outputs": [],
   "source": [
    "parser = PlaintextParser(text, Tokenizer('english'))"
   ]
  },
  {
   "cell_type": "code",
   "execution_count": 26,
   "metadata": {},
   "outputs": [
    {
     "name": "stdout",
     "output_type": "stream",
     "text": [
      "(<Sentence: The Grinch hated Christmas!>, <Sentence: And then!>, <Sentence: Then the Whos, young and old, would sit down to a feast.>, <Sentence: Then the Grinch, very nimbly, Stuffed all the bags, one by one, up the chimney!>, <Sentence: But, you know, that old Grinch was so smart and so slick, He thought up a lie, and he thought it up quick!>, <Sentence: And the one speck of food That he left in the house, Was a crumb that was even too small for a mouse.>, <Sentence: \"They're finding out now that no Christmas is coming!\">, <Sentence: \"They're just waking up!>, <Sentence: I know just what they'll do!\">, <Sentence: \"That's a noise,\" grinned the Grinch, \"That I simply MUST hear!\">, <Sentence: And the Grinch put his hand to his ear.>, <Sentence: It couldn't be so!>, <Sentence: But it WAS merry!>, <Sentence: And the Grinch, with his grinch-feet ice-cold in the snow, Stood puzzling and puzzling: \"How could it be so?\">, <Sentence: And the minute his heart didn't feel quite so tight, He whizzed with his load through the bright morning light, And he brought back the toys!>)\n"
     ]
    }
   ],
   "source": [
    "lex_rank = LexRankSummarizer()\n",
    "summ = lex_rank(parser.document, 15)\n",
    "print(summ)"
   ]
  },
  {
   "cell_type": "code",
   "execution_count": 27,
   "metadata": {},
   "outputs": [
    {
     "name": "stdout",
     "output_type": "stream",
     "text": [
      "(<Sentence: Whatever the reason, His heart or his shoes, He stood there on Christmas Eve, hating the Whos, Staring down from his cave with a sour, Grinchy frown, At the warm lighted windows below in their town.>, <Sentence: And the more the Grinch thought of this Who ChristmasSing, The more the Grinch thought, \"I must stop this whole thing!\">, <Sentence: Then he took some red thread, And he tied a big horn on the top of his head.>, <Sentence: And the sleigh started down, Toward the homes where the Whos Lay asnooze in their town.>, <Sentence: \"This is stop number one,\" the old Grinchy Claus hissed, And he climbed to the roof, empty bags in his fist.>, <Sentence: Then he slithered and slunk, with a smile most unpleasant, Around the whole room, and he took every present!>, <Sentence: Then the Grinch, very nimbly, Stuffed all the bags, one by one, up the chimney!>, <Sentence: And the Grinch grabbed the tree, and he started to shove, When he heard a small sound like the coo of a dove.>, <Sentence: But, you know, that old Grinch was so smart and so slick, He thought up a lie, and he thought it up quick!>, <Sentence: And when CindyLou Who went to bed with her cup, HE went to the chimney and stuffed the tree up!>, <Sentence: And the one speck of food That he left in the house, Was a crumb that was even too small for a mouse.>, <Sentence: Then He did the same thing To the other Whos' houses Leaving crumbs Much too small For the other Whos' mouses!>, <Sentence: It was quarter past dawn... All the Whos, still a-bed, All the Whos, still asnooze When he packed up his sled, Packed it up with their presents!>, <Sentence: And the Grinch, with his grinch-feet ice-cold in the snow, Stood puzzling and puzzling: \"How could it be so?\">, <Sentence: And the minute his heart didn't feel quite so tight, He whizzed with his load through the bright morning light, And he brought back the toys!>)\n"
     ]
    }
   ],
   "source": [
    "text_rank = TextRankSummarizer()\n",
    "summ = text_rank(parser.document, 15)\n",
    "print(summ)"
   ]
  },
  {
   "cell_type": "code",
   "execution_count": null,
   "metadata": {},
   "outputs": [],
   "source": []
  }
 ],
 "metadata": {
  "kernelspec": {
   "display_name": "Python 3",
   "language": "python",
   "name": "python3"
  },
  "language_info": {
   "codemirror_mode": {
    "name": "ipython",
    "version": 3
   },
   "file_extension": ".py",
   "mimetype": "text/x-python",
   "name": "python",
   "nbconvert_exporter": "python",
   "pygments_lexer": "ipython3",
   "version": "3.7.2"
  }
 },
 "nbformat": 4,
 "nbformat_minor": 2
}
