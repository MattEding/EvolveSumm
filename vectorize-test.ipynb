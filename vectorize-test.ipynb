{
 "cells": [
  {
   "cell_type": "code",
   "execution_count": 46,
   "metadata": {},
   "outputs": [],
   "source": [
    "from nltk.tokenize import sent_tokenize\n",
    "from sklearn.feature_extraction.text import CountVectorizer\n",
    "\n",
    "def init_doc(text):\n",
    "    text = str(text)\n",
    "    tokens = sent_tokenize(text.lower())\n",
    "    count_vec = CountVectorizer(stop_words='english').fit_transform(tokens)\n",
    "    #: numba does not support sparse matrices; dtype bool to emulate sets\n",
    "    doc = count_vec.toarray().astype(bool)\n",
    "    return doc\n",
    "\n",
    "def init_chrom(doc, k):\n",
    "    #: make a chromosome that is a random partition with each cluster.\n",
    "    clusters = k\n",
    "    chrom = np.full(len(doc), -1)\n",
    "    #: ensure that each cluster is accounted for at least once\n",
    "    idxs = np.random.choice(np.arange(len(chrom)), k, replace=False)\n",
    "    chrom[idxs] = np.random.permutation(clusters)\n",
    "    #: fill rest randomly\n",
    "    idxs = (chrom == -1)\n",
    "    chrom[idxs] = np.random.choice(clusters, np.sum(idxs))\n",
    "    return chrom\n",
    "\n",
    "def init_pop(doc, n, k):\n",
    "    pop = np.array([init_chrom(doc, k) for _ in range(n)])\n",
    "    return pop\n",
    "\n",
    "with open('cask_of_amontillado.txt') as fp:\n",
    "    text = fp.read()\n",
    "\n",
    "size = 200\n",
    "doc = init_doc(text)\n",
    "pop = init_pop(doc, size, 10).astype(np.uint16)\n",
    "chrom = pop[0]"
   ]
  },
  {
   "cell_type": "code",
   "execution_count": 53,
   "metadata": {},
   "outputs": [],
   "source": [
    "import numpy as np\n",
    "import numba as nb\n",
    "\n",
    "\n",
    "@nb.njit(nb.float32(nb.boolean[::1], nb.boolean[::1]), fastmath=True)\n",
    "def jaccard_old(a, b):\n",
    "    \"\"\"Return the ratio of the intersection to the union of two containers.\"\"\"\n",
    "    union = np.sum(a | b)\n",
    "    if not union:\n",
    "        result = 1.0\n",
    "    else:\n",
    "        result = np.sum(a & b) / union\n",
    "    return result\n",
    "        \n",
    "        \n",
    "# @nb.njit(nb.float32(nb.float32), fastmath=True)\n",
    "@nb.njit(fastmath=True)\n",
    "def sigmoid_old(x):\n",
    "    \"\"\"Sigmoid function defined as 1 / (1 + exp(-x)).\"\"\"\n",
    "    return 1 / (1 + np.exp(-x))\n",
    "\n",
    "\n",
    "# make as list of uint... type signature variations maybe?\n",
    "@nb.njit(nb.float32(nb.uint16[::1], nb.boolean[:, ::1]), fastmath=True)\n",
    "def cohesion_old(chrom, doc):\n",
    "    \"\"\"Measure of how compact all the clusters are.\"\"\"\n",
    "    total = 0\n",
    "    for p in np.unique(chrom):\n",
    "        sents = doc[chrom == p]\n",
    "        k = len(sents)\n",
    "        #: itertools.combinations(sents, r=2) for numba\n",
    "        for i in range(k-1):\n",
    "            for j in range(i+1, k):\n",
    "                total += jaccard_old(sents[i], sents[j]) / k\n",
    "    return total\n",
    "\n",
    "\n",
    "@nb.njit(nb.float32(nb.uint16[::1], nb.boolean[:, ::1]), fastmath=True)\n",
    "def separation_old(chrom, doc):\n",
    "    \"\"\"Measure of how separable all the clusters are.\"\"\"\n",
    "    total = 0\n",
    "    k = len(np.unique(chrom))\n",
    "    #: itertools.combinations(..., r=2) for numba\n",
    "    for p in range(k-1):\n",
    "        for q in range(p+1, k):\n",
    "            sents_p = doc[chrom == p]\n",
    "            sents_q = doc[chrom == q]\n",
    "            #: itertools.product(sents_p, sents_q) for numba\n",
    "            m, n = len(sents_p), len(sents_q)\n",
    "            for i in range(m):\n",
    "                for j in range(n):\n",
    "                    total += jaccard_old(sents_p[i], sents_q[j]) / m / n\n",
    "    return total\n",
    "\n",
    "\n",
    "@nb.jit(nb.float32(nb.uint16[::1], nb.boolean[:, ::1]), fastmath=True)\n",
    "def cohesion_separation_old(chrom, doc):\n",
    "    \"\"\"Measure balancing both cohesion and separation of clusters.\"\"\"\n",
    "    coh = cohesion_old(chrom, doc)\n",
    "    sep = separation_old(chrom, doc)\n",
    "    return (1 + sigmoid_old(coh)) ** sep\n"
   ]
  },
  {
   "cell_type": "code",
   "execution_count": 48,
   "metadata": {},
   "outputs": [],
   "source": [
    "prange = nb.prange\n",
    "\n",
    "\n",
    "target = 'parallel'\n",
    "\n",
    "\n",
    "@nb.njit(nb.float32(nb.boolean[::1], nb.boolean[::1]), fastmath=True)\n",
    "def jaccard(a, b):\n",
    "    \"\"\"Return the ratio of the intersection to the union of two containers.\"\"\"\n",
    "    union = np.sum(a | b)\n",
    "    if not union:\n",
    "        result = 1.0\n",
    "    else:\n",
    "        result = np.sum(a & b) / union\n",
    "    return result\n",
    "\n",
    "\n",
    "@nb.njit(nb.float32(nb.float32), fastmath=True)\n",
    "def sigmoid_old(x):\n",
    "    \"\"\"Sigmoid function defined as 1 / (1 + exp(-x)).\"\"\"\n",
    "    return 1 / (1 + np.exp(-x))\n",
    "\n",
    "\n",
    "\n",
    "@nb.guvectorize(['void(uint16[::1], boolean[:, ::1], float32[::1])'], '(n),(n,m)->()', \n",
    "                target=target, fastmath=True)\n",
    "def cohesion(chrom, doc, total):\n",
    "    \"\"\"Measure of how compact all the clusters are.\"\"\"\n",
    "    total[0] = 0.0\n",
    "    for p in np.unique(chrom):\n",
    "        sents = doc[chrom == p]\n",
    "        k = len(sents)\n",
    "        #: itertools.combinations(sents, r=2) for numba\n",
    "        for i in range(k-1):\n",
    "            for j in range(i+1, k):\n",
    "                total[0] += jaccard(sents[i], sents[j]) / k\n",
    "\n",
    "\n",
    "@nb.guvectorize(['void(uint16[::1], boolean[:, ::1], float32[::1])'], '(n),(n,m)->()', \n",
    "                target=target, fastmath=True)\n",
    "def separation(chrom, doc, total):\n",
    "    \"\"\"Measure of how separable all the clusters are.\"\"\"\n",
    "    total[0] = 0.0\n",
    "    k = len(np.unique(chrom))\n",
    "    #: itertools.combinations(..., r=2) for numba\n",
    "    for p in range(k-1):\n",
    "        for q in range(p+1, k):\n",
    "            sents_p = doc[chrom == p]\n",
    "            sents_q = doc[chrom == q]\n",
    "            #: itertools.product(sents_p, sents_q) for numba\n",
    "            m, n = len(sents_p), len(sents_q)\n",
    "            for i in range(m):\n",
    "                for j in range(n):\n",
    "                    total[0] += jaccard(sents_p[i], sents_q[j]) / m / n\n",
    "                    \n",
    "################\n",
    "# -- PRANGE -- #\n",
    "################\n",
    "                    \n",
    "\n",
    "# @nb.jit#(nb.float32(nb.uint16[::1], nb.boolean[:, ::1]))\n",
    "def cohesion_separation(chroms, doc):\n",
    "    \"\"\"Measure balancing both cohesion and separation of clusters.\"\"\"\n",
    "    coh = cohesion(chroms, doc)\n",
    "    sep = separation(chroms, doc)\n",
    "    return (1 + sigmoid(coh)) ** sep"
   ]
  },
  {
   "cell_type": "code",
   "execution_count": 49,
   "metadata": {},
   "outputs": [],
   "source": [
    "from time import time\n",
    "from functools import partial\n",
    "import multiprocessing as mp\n",
    "\n",
    "def timer(func):\n",
    "    def wrapper(*args, **kwargs):\n",
    "        t0 = time()\n",
    "        res = func(*args, **kwargs)\n",
    "        t1 = time()\n",
    "        print(f'{t1 - t0:.6f} seconds -- {func}')\n",
    "        return res\n",
    "    return wrapper\n",
    "\n",
    "\n",
    "def separation_pool(pair):\n",
    "#     return separation_old(pair[0], pair[1])\n",
    "    return separation_old(pair, doc)\n",
    "\n",
    "\n",
    "def cohesion_pool(pair):\n",
    "#     return cohesion_old(pair[0], pair[1])\n",
    "    return cohesion_old(pair, doc)\n",
    "\n",
    "\n",
    "def cohesion_separation_pool(pair):\n",
    "#     return cohesion_separation_old(pair[0], pair[1])\n",
    "    return cohesion_separation_old(pair, doc)\n",
    "\n",
    "\n",
    "def test_fitness_func(name):\n",
    "    func = globals()[name]\n",
    "    func_old = globals()[name+'_old']\n",
    "    func_pool = globals()[name+'_pool']\n",
    "    \n",
    "    t0 = time()\n",
    "    score = func(pop, doc)\n",
    "    t1 = time()\n",
    "    print(f'{t1 - t0:.6f} seconds -- {func}')\n",
    "    \n",
    "    t0 = time()\n",
    "    score_old = [func_old(chrom, doc) for chrom in pop]\n",
    "    t1 = time()\n",
    "    print(f'{t1 - t0:.6f} seconds -- {func_old}')\n",
    "    \n",
    "    t0 = time()\n",
    "    with mp.Pool() as pool:\n",
    "        score_pool = pool.map(func_pool, pop)\n",
    "    t1 = time()\n",
    "    print(f'{t1 - t0:.6f} seconds -- {func_pool}')\n",
    "\n",
    "    print(np.allclose(score, score_old))"
   ]
  },
  {
   "cell_type": "code",
   "execution_count": 50,
   "metadata": {},
   "outputs": [
    {
     "name": "stdout",
     "output_type": "stream",
     "text": [
      "0.211677 seconds -- <ufunc 'cohesion'>\n",
      "0.426388 seconds -- CPUDispatcher(<function cohesion_old at 0x115f859d8>)\n",
      "0.229431 seconds -- <function cohesion_pool at 0x1174efe18>\n",
      "True\n"
     ]
    }
   ],
   "source": [
    "test_fitness_func('cohesion')"
   ]
  },
  {
   "cell_type": "code",
   "execution_count": 51,
   "metadata": {},
   "outputs": [
    {
     "name": "stdout",
     "output_type": "stream",
     "text": [
      "1.960151 seconds -- <ufunc 'separation'>\n",
      "3.682992 seconds -- CPUDispatcher(<function separation_old at 0x11b554158>)\n",
      "1.769362 seconds -- <function separation_pool at 0x1174efbf8>\n",
      "True\n"
     ]
    }
   ],
   "source": [
    "test_fitness_func('separation')"
   ]
  },
  {
   "cell_type": "code",
   "execution_count": 52,
   "metadata": {},
   "outputs": [
    {
     "name": "stdout",
     "output_type": "stream",
     "text": [
      "2.024051 seconds -- <function cohesion_separation at 0x11c779d90>\n",
      "4.056772 seconds -- CPUDispatcher(<function cohesion_separation_old at 0x11c4528c8>)\n",
      "1.979354 seconds -- <function cohesion_separation_pool at 0x11b1b27b8>\n",
      "True\n"
     ]
    }
   ],
   "source": [
    "test_fitness_func('cohesion_separation')"
   ]
  },
  {
   "cell_type": "code",
   "execution_count": null,
   "metadata": {},
   "outputs": [],
   "source": []
  },
  {
   "cell_type": "code",
   "execution_count": 21,
   "metadata": {},
   "outputs": [
    {
     "data": {
      "text/plain": [
       "2.036125898361206"
      ]
     },
     "execution_count": 21,
     "metadata": {},
     "output_type": "execute_result"
    }
   ],
   "source": [
    "t0 = time()\n",
    "cohesion_separation(pop, doc)\n",
    "time() - t0"
   ]
  },
  {
   "cell_type": "code",
   "execution_count": 22,
   "metadata": {},
   "outputs": [
    {
     "data": {
      "text/plain": [
       "1.9543039798736572"
      ]
     },
     "execution_count": 22,
     "metadata": {},
     "output_type": "execute_result"
    }
   ],
   "source": [
    "pool = mp.Pool() \n",
    "\n",
    "t0 = time()\n",
    "with pool as p:\n",
    "    score_pool = p.map(cohesion_separation_pool, pop)\n",
    "time() - t0"
   ]
  },
  {
   "cell_type": "code",
   "execution_count": null,
   "metadata": {},
   "outputs": [],
   "source": []
  }
 ],
 "metadata": {
  "kernelspec": {
   "display_name": "Python 3",
   "language": "python",
   "name": "python3"
  },
  "language_info": {
   "codemirror_mode": {
    "name": "ipython",
    "version": 3
   },
   "file_extension": ".py",
   "mimetype": "text/x-python",
   "name": "python",
   "nbconvert_exporter": "python",
   "pygments_lexer": "ipython3",
   "version": "3.7.3"
  }
 },
 "nbformat": 4,
 "nbformat_minor": 2
}
