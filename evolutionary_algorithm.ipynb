{
 "cells": [
  {
   "cell_type": "code",
   "execution_count": 1,
   "metadata": {},
   "outputs": [],
   "source": [
    "# import multiprocessing\n",
    "\n",
    "import numba\n",
    "import numpy as np\n",
    "\n",
    "from nltk import tokenize\n",
    "from nltk.util import ngrams\n",
    "\n",
    "from sklearn.feature_extraction.text import CountVectorizer\n",
    "from sklearn.metrics.pairwise import cosine_distances"
   ]
  },
  {
   "cell_type": "code",
   "execution_count": 2,
   "metadata": {},
   "outputs": [],
   "source": [
    "@numba.njit\n",
    "def jaccard_similarity(a, b):\n",
    "    union = np.sum(a | b)\n",
    "    if not union:\n",
    "        return 1.0\n",
    "    return np.sum(a & b) / union\n",
    "\n",
    "\n",
    "@numba.njit\n",
    "def sigmoid(x):\n",
    "    return 1 / (1 + np.exp(-x))\n",
    "\n",
    "\n",
    "@numba.njit\n",
    "def cohesion(chromosome, similarity, document):\n",
    "    total = 0\n",
    "    for p in np.unique(chromosome):\n",
    "        sents = document[chromosome == p]\n",
    "        k = len(sents)\n",
    "        #: combinations choose 2\n",
    "        for i in range(k-1):\n",
    "            for j in range(i+1, k):\n",
    "                total += similarity(sents[i], sents[j]) / len(sents)  \n",
    "    return total\n",
    "\n",
    "\n",
    "@numba.njit\n",
    "def separation(chromosome, similarity, document):\n",
    "    total = 0\n",
    "    k = len(np.unique(chromosome))\n",
    "    #: combinations choose 2\n",
    "    for p in range(k-1):\n",
    "        for q in range(p+1, k):\n",
    "            sents_p = document[chromosome == p]\n",
    "            sents_q = document[chromosome == q]\n",
    "            #: product\n",
    "            m, n = len(sents_p), len(sents_q)\n",
    "            for i in range(m):\n",
    "                for j in range(n):\n",
    "                    total += similarity(sents_p[i], sents_q[j]) / m / n\n",
    "    return total\n",
    "\n",
    "\n",
    "@numba.njit\n",
    "def cohesion_separation(chromosome, similarity, document):\n",
    "    coh = cohesion(chromosome, similarity, document)\n",
    "    sep = separation(chromosome, similarity, document)\n",
    "    return (1 + sigmoid(coh)) ** sep"
   ]
  },
  {
   "cell_type": "code",
   "execution_count": 31,
   "metadata": {},
   "outputs": [],
   "source": [
    "def init_chromosome(choices, length):\n",
    "    chrom = np.full(length, -1)\n",
    "    #: ensure that each choice is accounted for at least once\n",
    "    idxs = np.random.choice(np.arange(length), len(choices), replace=False)\n",
    "    chrom[idxs] = np.random.permutation(choices)\n",
    "    idxs = np.where(chrom == -1)[0]\n",
    "    chrom[idxs] = np.random.choice(choices, len(idxs))\n",
    "    return chrom\n",
    "\n",
    "\n",
    "def init_population(population_size, cluster_amount, chromosome_length):\n",
    "    clusts = np.arange(cluster_amount)\n",
    "    chroms = [init_chromosome(clusts, chromosome_length) for _ in range(population_size)]\n",
    "    pop = np.vstack(chroms)\n",
    "    return pop\n",
    "\n",
    "\n",
    "@numba.njit\n",
    "def get_distinct(n, s):\n",
    "    np.array([np.random.choice(sorted(s - {i}), size=3, replace=False) for i in n])\n",
    "\n",
    "def get_offspring_distinct(population, randoms, lambda_, crossover_rate):\n",
    "    n = np.arange(len(population))\n",
    "    s = set(n)\n",
    "    idxs = np.array([np.random.choice(tuple(s - {i}), size=3, replace=False) for i in n])\n",
    "    chrom_1, chrom_2, chrom_3 = map(np.squeeze, np.split(population[idxs], 3, axis=1))\n",
    "    k = len(np.unique(population))\n",
    "    offspr = (chrom_1 + lambda_ * (chrom_2 - chrom_3)) % k\n",
    "    mask = randoms < crossover_rate\n",
    "    offspr[mask] = population[mask]\n",
    "    return offspr\n",
    "\n",
    "\n",
    "def get_offspring(population, randoms, lambda_, crossover_rate):\n",
    "    #: For computation time, relax requirement that X_r, X_r1, X_r2, X_r3 are distinct. \n",
    "    #: With large population size, this is unlikely to occur, and if it does, it doesn't\n",
    "    #: seem that detrimental. Also is this mitigated with appropriate lam choice?\n",
    "    n = len(population)\n",
    "    idxs = np.random.choice(np.arange(n), size=(n, 3))\n",
    "    chrom_1, chrom_2, chrom_3 = map(np.squeeze, np.split(population[idxs], 3, axis=1))\n",
    "    k = len(np.unique(population))\n",
    "    offspr = (chrom_1 + lambda_ * (chrom_2 - chrom_3)) % k\n",
    "    mask = randoms < crossover_rate\n",
    "    offspr[mask] = population[mask]\n",
    "    return offspr\n",
    "\n",
    "\n",
    "def next_generation(population, offspring, func):\n",
    "    fit_off = np.array([func(chrom) for chrom in offspring])\n",
    "    fit_pop = np.array([func(chrom) for chrom in population])\n",
    "    mask = fit_off > fit_pop\n",
    "    population[mask] = offspring[mask]\n",
    "    return\n",
    "\n",
    "\n",
    "def mutate(population, randoms):\n",
    "    mask = randoms < sigmoid(population)\n",
    "    #: inversion operator\n",
    "    idxs = np.nonzero(mask)\n",
    "    arr = np.array(idxs)\n",
    "    sorter = np.lexsort((-arr[1], arr[0]))\n",
    "    rev = arr.T[sorter].T\n",
    "    population[idxs] = population[(rev[0], rev[1])]\n",
    "    return"
   ]
  },
  {
   "cell_type": "code",
   "execution_count": 72,
   "metadata": {},
   "outputs": [],
   "source": [
    "#TODO: early stopping --> little fitness improvement over x generations, good enough fitness score\n",
    "def run_iterations(pop_size, summ_len, num_sents, func, lam, cr, iterations, *, mutate_after=True,\n",
    "                   seed=None, verbose=False, save_rate=np.nan, save_dir=None):\n",
    "    \n",
    "    if save_dir is not None:\n",
    "        save_dir = pathlib.Path(save_dir)\n",
    "        if not save_dir.is_dir():\n",
    "            msg = f'save_dir={save_dir} not a valid directory path'.format(save_dir=save_dir)\n",
    "            raise NotADirectoryError(msg)\n",
    "    \n",
    "    if seed is not None:\n",
    "        np.random.seed(seed)\n",
    "        \n",
    "    if isinstance(summ_len, int):\n",
    "        if not (0 < summ_len < num_sents):\n",
    "            raise ValueError('int summ_len must be between 0 and the number of sentences in the document')\n",
    "    elif isinstance(summ_len, float):\n",
    "        if not (0.0 < summ_len < 1.0):\n",
    "            raise ValueError('float summ_len must be between 0.0 and 1.0')\n",
    "        summ_len = int(summ_len * num_sents)\n",
    "    else:\n",
    "        raise TypeError('summ_len must be a float or int')\n",
    "        \n",
    "    if pop_size < 10:\n",
    "        raise ValueError('pop_size must be at least 10')\n",
    "    pop_size = int(pop_size)\n",
    "    \n",
    "    \n",
    "    \n",
    "    pop = init_population(pop_size, summ_len, num_sents)\n",
    "    shape = pop.shape\n",
    "    for i in range(iterations):\n",
    "        if i % save_rate == 0:\n",
    "            file = save_dir / 'generation_{i:0>pad}'.format(i=i, pad=len(str(iterations)))\n",
    "            np.save(file, pop)\n",
    "            \n",
    "        if verbose:\n",
    "            print(i)  #TODO: logfile --> iteration number, best fitness score, avg fitness score, hyper-params\n",
    "        \n",
    "        rand = np.random.random_sample(shape)\n",
    "        \n",
    "        t0 = time.time()\n",
    "        offspr = get_offspring_distinct(pop, rand, lam, cr)\n",
    "        t1 = time.time()\n",
    "        PROFILER['offspring'] += t1 - t0\n",
    "        \n",
    "        #: option since papers unclear if mutate at offspring or survivors stage\n",
    "        if not mutate_after:\n",
    "            mutate(offspr, rand)\n",
    "            \n",
    "        t0 = time.time()\n",
    "        next_generation(pop, offspr, func)\n",
    "        t1 = time.time()\n",
    "        PROFILER['generation'] += t1 - t0\n",
    "        \n",
    "        if mutate_after:\n",
    "            t0 = time.time()\n",
    "            mutate(pop, rand)\n",
    "            t1 = time.time()\n",
    "            PROFILER['mutate'] += t1 - t0\n",
    "    \n",
    "    return pop"
   ]
  },
  {
   "cell_type": "code",
   "execution_count": 73,
   "metadata": {},
   "outputs": [],
   "source": [
    "def best_chromosome(population):\n",
    "    #TODO: make sure it picks one with all k-clusters\n",
    "    fits = np.argmax([fitness(chrom) for chrom in population])\n",
    "    chrom = population[fits]\n",
    "    return chrom\n",
    "    \n",
    "\n",
    "def central_sentences(chromosome, document, metric=cosine_distances):\n",
    "    central_sents = []\n",
    "    for cluster in np.unique(chromosome):\n",
    "        idxs = np.where(chromosome == cluster)[0]\n",
    "        sents = document[idxs]\n",
    "        centroid = sents.mean(axis=0)[np.newaxis,:]\n",
    "        dists = metric(sents, centroid)\n",
    "        cent_sent = idxs[np.argmin(dists)]\n",
    "        central_sents.append(cent_sent)\n",
    "    return sorted(central_sents)"
   ]
  },
  {
   "cell_type": "code",
   "execution_count": 74,
   "metadata": {},
   "outputs": [],
   "source": [
    "def rouge_n(n, y_pred, y_true):\n",
    "    n_gram_pred = set(ngrams(y_pred, n))\n",
    "    n_gram_true = set(ngrams(y_true, n))\n",
    "    return len(n_gram_pred & n_gram_true) / len(n_gram_true)"
   ]
  },
  {
   "cell_type": "markdown",
   "metadata": {},
   "source": [
    "# Run Algorithm"
   ]
  },
  {
   "cell_type": "code",
   "execution_count": 75,
   "metadata": {},
   "outputs": [
    {
     "data": {
      "text/plain": [
       "'  Once upon a midnight dreary, while I pondered, weak and weary,\\n  Over many a quaint and curious vo'"
      ]
     },
     "execution_count": 75,
     "metadata": {},
     "output_type": "execute_result"
    }
   ],
   "source": [
    "path = cwd / 'the_raven.txt'\n",
    "with open(path) as fp:\n",
    "    text = fp.read()\n",
    "text[:100]"
   ]
  },
  {
   "cell_type": "code",
   "execution_count": 229,
   "metadata": {},
   "outputs": [],
   "source": [
    "import json\n",
    "import pathlib\n",
    "\n",
    "cwd = pathlib.Path.cwd()\n",
    "data = cwd / 'data'\n",
    "jsons = data / 'jsons'\n",
    "json_2018 = jsons / '2018' / '2018.json'\n",
    "\n",
    "with open(json_2018) as fp:\n",
    "    articles_2018 = json.load(fp)['2018']\n",
    "\n",
    "article = articles_2018[333]\n",
    "text = article['story']\n",
    "summ_true = article['summary']\n",
    "# print(text)"
   ]
  },
  {
   "cell_type": "code",
   "execution_count": 230,
   "metadata": {},
   "outputs": [
    {
     "name": "stdout",
     "output_type": "stream",
     "text": [
      "Although President Trump said Monday that he would be willing to meet with Iranian President Hassan Rouhani at \"any time,\" it looks like that meeting won't be happening any time soon — multiple Iranian officials have played down the possibility of a sit-down, without ruling it out entirely.\n",
      "\n",
      "The leaders of the U.S. and Iran have not met in person since before the Islamic Revolution in 1979. A phone call between Rouhani and former President Obama in 2013 was the first direct conversation of any kind in decades. That call was part of the lengthy negotiations toward the multinational nuclear deal reached with Iran in 2015 — which Trump pulled out of earlier this year.\n",
      "\n",
      "As a result of Trump's decision to withdraw from the agreement, some previously lifted U.S. sanctions will be reimposed on Iran over the next few months.\n",
      "\n",
      "Last week, after Rouhani said that \"peace with Iran is the mother of all peace, and war with Iran is the mother of all wars,\" Trump responded with an all-caps, late-night tweet warning of \"CONSEQUENCES THE LIKES OF WHICH FEW THROUGHOUT HISTORY HAVE EVER SUFFERED BEFORE\" if Iran should \"THREATEN THE UNITED STATES AGAIN.\"\n",
      "\n",
      "\"COLOR US UNIMPRESSED,\" Iranian foreign minister Javad Zarif responded on Twitter. \"The world heard even harsher bluster a few months ago.\"\n",
      "\n",
      "The bluster was gone this week, as Trump instead issued an invitation for a summit.\n",
      "\n",
      "On Monday he said he would be willing to meet with Iran's leaders \"any time they want,\" with \"no preconditions.\"\n",
      "\n",
      "However, as NPR's Peter Kenyon notes, \"shortly after Trump spoke and said no preconditions, Secretary of State Mike Pompeo went on CNBC and he laid out a number of conditions, ones he's talked about before.\"\n",
      "\n",
      "Pompeo called for the Iranian leaders to \"demonstrate a commitment to make fundamental changes in how they treat their own people\" and to \"agree that it's worthwhile\" to enter into a new nuclear agreement.\n",
      "\n",
      "Iran, in turn, has responded with a list of conditions of their own.\n",
      "\n",
      "Hamid Aboutalebi, an adviser to Rouhani, tweeted on Monday, calling for the U.S. to respect Iran and return to the original nuclear deal. Semi-official Iranian news agency ISNA has a translation:\n",
      "\n",
      "The vice speaker of Iran's parliament also told reporters that the U.S. withdrawal from the 2015 deal, known as the Joint Comprehensive Plan of Action, made new negotiations a nonstarter.\n",
      "\n",
      "\"Talks with the US would have been right had the US not withdrawn from the JCPOA and imposed sanctions on Iran,\" Ali Motahhari said, according to Iran's state-run IRNA news outlet. Under \"appropriate\" conditions negotiation can be helpful, but currently such talks would just bring humiliation to Iran, he said, according to IRNA.\n",
      "\n",
      "At the same time, senior cleric Ali Akbar Nategh Nouri, a member of Iran's Expediency Council, said it didn't make sense to reject the offer out of hand.\n",
      "\n",
      "The Associated Press reports:\n",
      "\n",
      "Kenyon reports that Rouhani himself — who has not publicly responded to the invitation — told parliament that the U.S. has proven it doesn't keep its promises and that Iran will protect its right to export oil, which is the target of U.S. sanctions.\n",
      "\n",
      "Kenyon says there will be some pressure on Iran to negotiate with the U.S. — but he puts that in perspective.\n",
      "\n",
      "\"Iran came to the table to negotiate the [2015] nuclear deal after years of sustained pressure from the U.S., Britain, France, Germany, Russia and China,\" Kenyon says. \"Now all of those countries except the U.S. are on Iran's side, wanting to stick with the deal and keep doing business.\n",
      "\n",
      "\"But it's not clear they have a workable plan to do that. The Iranian economy is suffering badly, inflation is up, the rial is down, so there will be pressure — but if Iran's past reactions to pressure are any guide, it will take some time if there ever is a meeting.\"\n"
     ]
    }
   ],
   "source": [
    "print(text)"
   ]
  },
  {
   "cell_type": "code",
   "execution_count": 231,
   "metadata": {},
   "outputs": [
    {
     "data": {
      "text/plain": [
       "\" The leaders of the U.S. and Iran haven't met in person since before the Islamic Revolution in 1979. Trump says he's ready to sit down; Iranian President Hassan Rouhani hasn't expressed any interest.\""
      ]
     },
     "execution_count": 231,
     "metadata": {},
     "output_type": "execute_result"
    }
   ],
   "source": [
    "summ_true"
   ]
  },
  {
   "cell_type": "code",
   "execution_count": 241,
   "metadata": {},
   "outputs": [
    {
     "name": "stdout",
     "output_type": "stream",
     "text": [
      "23.618157863616943\n"
     ]
    },
    {
     "data": {
      "text/plain": [
       "Counter({'offspring': 2.972149610519409,\n",
       "         'generation': 20.425386905670166,\n",
       "         'mutate': 0.18253326416015625})"
      ]
     },
     "execution_count": 241,
     "metadata": {},
     "output_type": "execute_result"
    }
   ],
   "source": [
    "import time\n",
    "import collections\n",
    "\n",
    "\n",
    "PROFILER = collections.Counter()\n",
    "\n",
    "\n",
    "def fitness(chromosome):\n",
    "    return cohesion_separation(chromosome, jaccard_similarity, doc)\n",
    "\n",
    "cv = CountVectorizer(stop_words='english')\n",
    "sents_lower = tokenize.sent_tokenize(text.lower())\n",
    "# sents_lower = [t.strip() for t in tokenize.line_tokenize(text.lower())]\n",
    "vec = cv.fit_transform(sents_lower)\n",
    "doc = vec.toarray().astype(bool).astype(int)\n",
    "\n",
    "ratio = 0.1\n",
    "\n",
    "t0 = time.time()\n",
    "pop = run_iterations(pop_size=100, summ_len=ratio, num_sents=len(doc), \n",
    "                     func=fitness, lam=0.9, cr=0.5, iterations=1000, verbose=False, seed=None)\n",
    "t1 = time.time()\n",
    "print(t1-t0)\n",
    "\n",
    "\n",
    "chrom_best = best_chromosome(pop)\n",
    "idxs = central_sentences(chrom_best, doc)\n",
    "#: 2018 article[999] -- gay skier winter olympics -> no lower() causes wierd sentence breaks that throw off summary\n",
    "# sents_norm = tokenize.sent_tokenize(text)\n",
    "summ_evol = '\\n'.join(np.array(sents_lower)[idxs])\n",
    "\n",
    "PROFILER"
   ]
  },
  {
   "cell_type": "code",
   "execution_count": 233,
   "metadata": {},
   "outputs": [
    {
     "name": "stdout",
     "output_type": "stream",
     "text": [
      "\"Talks with the US would have been right had the US not withdrawn from the JCPOA and imposed sanctions on Iran,\" Ali Motahhari said, according to Iran's state-run IRNA news outlet.\n",
      "The Associated Press reports:\n",
      "\n",
      "Kenyon reports that Rouhani himself — who has not publicly responded to the invitation — told parliament that the U.S. has proven it doesn't keep its promises and that Iran will protect its right to export oil, which is the target of U.S. sanctions.\n"
     ]
    }
   ],
   "source": [
    "# get the uppercase correct\n",
    "summ_evol = []\n",
    "for sent in np.array(sents_lower)[idxs]:\n",
    "    start = text.lower().index(sent)\n",
    "    stop = start + len(sent)\n",
    "    summ_evol.append(text[start:stop])\n",
    "summ_evol = '\\n'.join(summ_evol)\n",
    "print(summ_evol)"
   ]
  },
  {
   "cell_type": "code",
   "execution_count": 234,
   "metadata": {},
   "outputs": [],
   "source": [
    "def scores(n, y_pred):\n",
    "    for i in range(1, n+1):\n",
    "        score = rouge_n(i, y_pred, summ_true)\n",
    "        print(i, score)"
   ]
  },
  {
   "cell_type": "code",
   "execution_count": 235,
   "metadata": {},
   "outputs": [
    {
     "name": "stdout",
     "output_type": "stream",
     "text": [
      "evolutionary\n",
      "1 0.8571428571428571\n",
      "2 0.7222222222222222\n",
      "3 0.3735632183908046\n"
     ]
    }
   ],
   "source": [
    "print('evolutionary')\n",
    "scores(3, summ_evol)"
   ]
  },
  {
   "cell_type": "code",
   "execution_count": 236,
   "metadata": {},
   "outputs": [
    {
     "name": "stdout",
     "output_type": "stream",
     "text": [
      "gensim\n",
      "1 0.8857142857142857\n",
      "2 0.7142857142857143\n",
      "3 0.367816091954023\n"
     ]
    }
   ],
   "source": [
    "import gensim\n",
    "\n",
    "summ_gensim = gensim.summarization.summarize(text, ratio=ratio)\n",
    "print('gensim')\n",
    "scores(3, summ_gensim)"
   ]
  },
  {
   "cell_type": "code",
   "execution_count": 237,
   "metadata": {},
   "outputs": [
    {
     "name": "stdout",
     "output_type": "stream",
     "text": [
      "The vice speaker of Iran's parliament also told reporters that the U.S. withdrawal from the 2015 deal, known as the Joint Comprehensive Plan of Action, made new negotiations a nonstarter.\n",
      "Kenyon reports that Rouhani himself — who has not publicly responded to the invitation — told parliament that the U.S. has proven it doesn't keep its promises and that Iran will protect its right to export oil, which is the target of U.S. sanctions.\n"
     ]
    }
   ],
   "source": [
    "print(summ_gensim)"
   ]
  },
  {
   "cell_type": "code",
   "execution_count": 238,
   "metadata": {},
   "outputs": [
    {
     "name": "stdout",
     "output_type": "stream",
     "text": [
      "sumy - text rank\n",
      "1 0.8571428571428571\n",
      "2 0.7063492063492064\n",
      "3 0.3620689655172414\n",
      "\n",
      "sumy - lex rank\n",
      "1 0.8\n",
      "2 0.6587301587301587\n",
      "3 0.39655172413793105\n"
     ]
    }
   ],
   "source": [
    "import string\n",
    "\n",
    "from sumy.parsers.plaintext import PlaintextParser\n",
    "from sumy.summarizers.lex_rank import LexRankSummarizer\n",
    "from sumy.summarizers.text_rank import TextRankSummarizer\n",
    "from sumy.nlp.tokenizers import Tokenizer\n",
    "\n",
    "\n",
    "\n",
    "def format_sumy(sumy_summary):\n",
    "    return ''.join(char for sent in sumy_summary for char in str(sent) if char in string.printable)\n",
    "\n",
    "parser = PlaintextParser(text, Tokenizer('english'))\n",
    "\n",
    "text_rank = TextRankSummarizer()\n",
    "summ_text_rank = format_sumy(text_rank(parser.document, len(idxs)))\n",
    "print('sumy - text rank')\n",
    "scores(3, summ_text_rank)\n",
    "\n",
    "print()\n",
    "\n",
    "lex_rank = LexRankSummarizer()\n",
    "summ_lex_rank = format_sumy(lex_rank(parser.document, len(idxs)))\n",
    "print('sumy - lex rank')\n",
    "scores(3, summ_lex_rank)"
   ]
  },
  {
   "cell_type": "code",
   "execution_count": 239,
   "metadata": {},
   "outputs": [
    {
     "name": "stdout",
     "output_type": "stream",
     "text": [
      "Last week, after Rouhani said that \"peace with Iran is the mother of all peace, and war with Iran is the mother of all wars,\" Trump responded with an all-caps, late-night tweet warning of \"CONSEQUENCES THE LIKES OF WHICH FEW THROUGHOUT HISTORY HAVE EVER SUFFERED BEFORE\" if Iran should \"THREATEN THE UNITED STATES AGAIN.\"Kenyon reports that Rouhani himself  who has not publicly responded to the invitation  told parliament that the U.S. has proven it doesn't keep its promises and that Iran will protect its right to export oil, which is the target of U.S. sanctions.\n"
     ]
    }
   ],
   "source": [
    "print(summ_text_rank)"
   ]
  },
  {
   "cell_type": "code",
   "execution_count": 240,
   "metadata": {},
   "outputs": [
    {
     "name": "stdout",
     "output_type": "stream",
     "text": [
      "Kenyon reports that Rouhani himself  who has not publicly responded to the invitation  told parliament that the U.S. has proven it doesn't keep its promises and that Iran will protect its right to export oil, which is the target of U.S. sanctions.Kenyon says there will be some pressure on Iran to negotiate with the U.S.  but he puts that in perspective.\n"
     ]
    }
   ],
   "source": [
    "print(summ_lex_rank)"
   ]
  },
  {
   "cell_type": "code",
   "execution_count": null,
   "metadata": {},
   "outputs": [],
   "source": []
  },
  {
   "cell_type": "code",
   "execution_count": null,
   "metadata": {},
   "outputs": [],
   "source": []
  },
  {
   "cell_type": "code",
   "execution_count": null,
   "metadata": {},
   "outputs": [],
   "source": []
  }
 ],
 "metadata": {
  "kernelspec": {
   "display_name": "Python 3",
   "language": "python",
   "name": "python3"
  },
  "language_info": {
   "codemirror_mode": {
    "name": "ipython",
    "version": 3
   },
   "file_extension": ".py",
   "mimetype": "text/x-python",
   "name": "python",
   "nbconvert_exporter": "python",
   "pygments_lexer": "ipython3",
   "version": "3.7.2"
  }
 },
 "nbformat": 4,
 "nbformat_minor": 2
}
