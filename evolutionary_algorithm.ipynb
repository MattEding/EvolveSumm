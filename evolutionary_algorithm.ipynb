{
 "cells": [
  {
   "cell_type": "code",
   "execution_count": 2,
   "metadata": {},
   "outputs": [],
   "source": [
    "import itertools\n",
    "import multiprocessing\n",
    "\n",
    "import numba\n",
    "import numpy as np\n",
    "\n",
    "from nltk import tokenize\n",
    "from nltk.util import ngrams\n",
    "\n",
    "from sklearn.feature_extraction.text import CountVectorizer\n",
    "from sklearn.metrics.pairwise import cosine_distances"
   ]
  },
  {
   "cell_type": "code",
   "execution_count": 3,
   "metadata": {},
   "outputs": [],
   "source": [
    "@numba.njit\n",
    "def jaccard_similarity(a, b):\n",
    "    union = np.sum(a | b)\n",
    "    if not union:\n",
    "        return 1.0\n",
    "    return np.sum(a & b) / union\n",
    "\n",
    "\n",
    "@numba.njit\n",
    "def sigmoid(x):\n",
    "    return 1 / (1 + np.exp(-x))\n",
    "\n",
    "\n",
    "@numba.njit\n",
    "def cohesion(chromosome, similarity, document):\n",
    "    total = 0\n",
    "    for p in np.unique(chromosome):\n",
    "        sents = document[chromosome == p]\n",
    "        k = len(sents)\n",
    "        #: combinations choose 2\n",
    "        for i in range(k-1):\n",
    "            for j in range(i+1, k):\n",
    "                total += similarity(sents[i], sents[j]) / len(sents)  \n",
    "    return total\n",
    "\n",
    "\n",
    "@numba.njit\n",
    "def separation(chromosome, similarity, document):\n",
    "    total = 0\n",
    "    k = len(np.unique(chromosome))\n",
    "    #: combinations choose 2\n",
    "    for p in range(k-1):\n",
    "        for q in range(p+1, k):\n",
    "            sents_p = document[chromosome == p]\n",
    "            sents_q = document[chromosome == q]\n",
    "            #: product\n",
    "            m, n = len(sents_p), len(sents_q)\n",
    "            for i in range(m):\n",
    "                for j in range(n):\n",
    "                    total += similarity(sents_p[i], sents_q[j]) / m / n\n",
    "    return total\n",
    "\n",
    "\n",
    "@numba.njit\n",
    "def cohesion_separation(chromosome, similarity, document):\n",
    "    coh = cohesion(chromosome, similarity, document)\n",
    "    sep = separation(chromosome, similarity, document)\n",
    "    return (1 + sigmoid(coh)) ** sep"
   ]
  },
  {
   "cell_type": "code",
   "execution_count": 4,
   "metadata": {},
   "outputs": [],
   "source": [
    "def init_chromosome(choices, length):\n",
    "    chrom = np.full(length, -1)\n",
    "    #: ensure that each choice is accounted for at least once\n",
    "    idxs = np.random.choice(np.arange(length), len(choices), replace=False)\n",
    "    chrom[idxs] = np.random.permutation(choices)\n",
    "    idxs = np.where(chrom == -1)[0]\n",
    "    chrom[idxs] = np.random.choice(choices, len(idxs))\n",
    "    return chrom\n",
    "\n",
    "\n",
    "def init_population(population_size, cluster_amount, chromosome_length):\n",
    "    clusts = np.arange(cluster_amount)\n",
    "    chroms = [init_chromosome(clusts, chromosome_length) for _ in range(population_size)]\n",
    "    pop = np.vstack(chroms)\n",
    "    return pop\n",
    "\n",
    "\n",
    "def get_offspring_distinct(population, randoms, lambda_, crossover_rate):\n",
    "    n = np.arange(len(population))\n",
    "    s = set(n)\n",
    "    idxs = np.array([np.random.choice(tuple(s - {i}), size=3, replace=False) for i in n])\n",
    "    chrom_1, chrom_2, chrom_3 = map(np.squeeze, np.split(population[idxs], 3, axis=1))\n",
    "    k = len(np.unique(population))\n",
    "    offspr = (chrom_1 + lambda_ * (chrom_2 - chrom_3)) % k\n",
    "    mask = randoms < crossover_rate\n",
    "    offspr[mask] = population[mask]\n",
    "    return offspr\n",
    "\n",
    "\n",
    "def get_offspring(population, randoms, lambda_, crossover_rate):\n",
    "    #: For computation time, relax requirement that X_r, X_r1, X_r2, X_r3 are distinct. \n",
    "    #: With large population size, this is unlikely to occur, and if it does, it doesn't\n",
    "    #: seem that detrimental. Also is this mitigated with appropriate lam choice?\n",
    "    n = len(population)\n",
    "    idxs = np.random.choice(np.arange(n), size=(n, 3))\n",
    "    chrom_1, chrom_2, chrom_3 = map(np.squeeze, np.split(population[idxs], 3, axis=1))\n",
    "    k = len(np.unique(population))\n",
    "    offspr = (chrom_1 + lambda_ * (chrom_2 - chrom_3)) % k\n",
    "    mask = randoms < crossover_rate\n",
    "    offspr[mask] = population[mask]\n",
    "    return offspr\n",
    "\n",
    "\n",
    "# def next_generation(population, offspring, func):\n",
    "#     fit_off = np.array([func(chrom) for chrom in offspring])\n",
    "#     fit_pop = np.array([func(chrom) for chrom in population])\n",
    "#     mask = fit_off > fit_pop\n",
    "#     population[mask] = offspring[mask]\n",
    "#     return\n",
    "\n",
    "\n",
    "def next_generation(population, offspring, func, pool):\n",
    "    fits = pool.map(func, itertools.chain(population, offspring))\n",
    "    l = len(population)\n",
    "    fit_pop = np.array(fits[:l])\n",
    "    fit_off = np.array(fits[l:])\n",
    "    mask = fit_off > fit_pop\n",
    "    population[mask] = offspring[mask]\n",
    "    return\n",
    "\n",
    "\n",
    "def mutate(population, randoms):\n",
    "    mask = randoms < sigmoid(population)\n",
    "    #: inversion operator\n",
    "    idxs = np.nonzero(mask)\n",
    "    arr = np.array(idxs)\n",
    "    sorter = np.lexsort((-arr[1], arr[0]))\n",
    "    rev = arr.T[sorter].T\n",
    "    population[idxs] = population[(rev[0], rev[1])]\n",
    "    return"
   ]
  },
  {
   "cell_type": "code",
   "execution_count": 35,
   "metadata": {},
   "outputs": [],
   "source": [
    "#TODO: early stopping --> little fitness improvement over x generations, good enough fitness score\n",
    "def run_iterations(pop_size, summ_len, num_sents, func, lam, cr, iterations, *, mutate_after=True,\n",
    "                   seed=None, verbose=False, save_rate=np.nan, save_dir=None):\n",
    "    \n",
    "    print(summ_len)\n",
    "    \n",
    "    if save_dir is not None:\n",
    "        save_dir = pathlib.Path(save_dir)\n",
    "        if not save_dir.is_dir():\n",
    "            msg = f'save_dir={save_dir} not a valid directory path'.format(save_dir=save_dir)\n",
    "            raise NotADirectoryError(msg)\n",
    "    \n",
    "    if seed is not None:\n",
    "        np.random.seed(seed)\n",
    "        \n",
    "    if isinstance(summ_len, int):\n",
    "        print('int')\n",
    "        if not (0 < summ_len < num_sents):\n",
    "            raise ValueError('int summ_len must be between 0 and the number of sentences in the document')\n",
    "    elif isinstance(summ_len, float):\n",
    "        print('flt')\n",
    "        if not (0.0 < summ_len < 1.0):\n",
    "            raise ValueError('float summ_len must be between 0.0 and 1.0')\n",
    "        summ_len = int(summ_len * num_sents)\n",
    "    else:\n",
    "        raise TypeError('summ_len must be a float or int')\n",
    "        \n",
    "    if pop_size < 10:\n",
    "        raise ValueError('pop_size must be at least 10')\n",
    "    pop_size = int(pop_size)\n",
    "    \n",
    "    print(summ_len)\n",
    "    \n",
    "    \n",
    "    pop = init_population(pop_size, summ_len, num_sents)\n",
    "    shape = pop.shape\n",
    "    pool = multiprocessing.Pool()\n",
    "    \n",
    "    return pop\n",
    "    \n",
    "    for i in range(iterations):\n",
    "        if i % save_rate == 0:\n",
    "            file = save_dir / 'generation_{i:0>pad}'.format(i=i, pad=len(str(iterations)))\n",
    "            np.save(file, pop)\n",
    "            \n",
    "        if verbose:\n",
    "            print(i)  #TODO: logfile --> iteration number, best fitness score, avg fitness score, hyper-params\n",
    "        \n",
    "        rand = np.random.random_sample(shape)\n",
    "        \n",
    "        t0 = time.time()\n",
    "        offspr = get_offspring_distinct(pop, rand, lam, cr)\n",
    "        t1 = time.time()\n",
    "        PROFILER['offspring'] += t1 - t0\n",
    "        \n",
    "        #: option since papers unclear if mutate at offspring or survivors stage\n",
    "        if not mutate_after:\n",
    "            mutate(offspr, rand)\n",
    "            \n",
    "        t0 = time.time()\n",
    "        next_generation(pop, offspr, func, pool)\n",
    "#         next_generation(pop, offspr, func)\n",
    "        t1 = time.time()\n",
    "        PROFILER['generation'] += t1 - t0\n",
    "        \n",
    "        if mutate_after:\n",
    "            t0 = time.time()\n",
    "            mutate(pop, rand)\n",
    "            t1 = time.time()\n",
    "            PROFILER['mutate'] += t1 - t0\n",
    "    \n",
    "    pool.terminate()\n",
    "    return pop"
   ]
  },
  {
   "cell_type": "code",
   "execution_count": 6,
   "metadata": {},
   "outputs": [],
   "source": [
    "def best_chromosome(population):\n",
    "    #TODO: make sure it picks one with all k-clusters\n",
    "    fits = np.argmax([fitness(chrom) for chrom in population])\n",
    "    chrom = population[fits]\n",
    "    return chrom\n",
    "    \n",
    "\n",
    "def central_sentences(chromosome, document, metric=cosine_distances):\n",
    "    central_sents = []\n",
    "    for cluster in np.unique(chromosome):\n",
    "        idxs = np.where(chromosome == cluster)[0]\n",
    "        sents = document[idxs]\n",
    "        centroid = sents.mean(axis=0)[np.newaxis,:]\n",
    "        dists = metric(sents, centroid)\n",
    "        cent_sent = idxs[np.argmin(dists)]\n",
    "        central_sents.append(cent_sent)\n",
    "    return sorted(central_sents)"
   ]
  },
  {
   "cell_type": "code",
   "execution_count": 7,
   "metadata": {},
   "outputs": [],
   "source": [
    "def rouge_n(n, y_pred, y_true):\n",
    "    n_gram_pred = set(ngrams(y_pred, n))\n",
    "    n_gram_true = set(ngrams(y_true, n))\n",
    "    return len(n_gram_pred & n_gram_true) / len(n_gram_true)"
   ]
  },
  {
   "cell_type": "markdown",
   "metadata": {},
   "source": [
    "# Run Algorithm"
   ]
  },
  {
   "cell_type": "code",
   "execution_count": 10,
   "metadata": {},
   "outputs": [
    {
     "data": {
      "text/plain": [
       "'Every Who Down in Whoville Liked Christmas a lot...\\nBut the Grinch,Who lived just north of Whoville,'"
      ]
     },
     "execution_count": 10,
     "metadata": {},
     "output_type": "execute_result"
    }
   ],
   "source": [
    "import pathlib\n",
    "\n",
    "cwd = pathlib.Path.cwd()\n",
    "path = cwd / 'data' / 'grinch.txt'\n",
    "with open(path) as fp:\n",
    "    text = fp.read()\n",
    "text[:100]"
   ]
  },
  {
   "cell_type": "code",
   "execution_count": 318,
   "metadata": {},
   "outputs": [],
   "source": [
    "import json\n",
    "import pathlib\n",
    "\n",
    "cwd = pathlib.Path.cwd()\n",
    "data = cwd / 'data'\n",
    "jsons = data / 'jsons'\n",
    "json_2018 = jsons / '2018' / '2018.json'\n",
    "\n",
    "with open(json_2018) as fp:\n",
    "    articles_2018 = json.load(fp)['2018']\n",
    "\n",
    "article = articles_2018[863]\n",
    "text = article['story']\n",
    "summ_true = article['summary']\n",
    "# print(text)"
   ]
  },
  {
   "cell_type": "code",
   "execution_count": 11,
   "metadata": {
    "collapsed": true
   },
   "outputs": [
    {
     "name": "stdout",
     "output_type": "stream",
     "text": [
      "Every Who Down in Whoville Liked Christmas a lot...\n",
      "But the Grinch,Who lived just north of Whoville, Did NOT!\n",
      "The Grinch hated Christmas! The whole Christmas season!\n",
      "Now, please don't ask why. No one quite knows the reason.\n",
      "It could be his head wasn't screwed on just right.\n",
      "It could be, perhaps, that his shoes were too tight.\n",
      "But I think that the most likely reason of all,\n",
      "May have been that his heart was two sizes too small.\n",
      "Whatever the reason, His heart or his shoes,\n",
      "He stood there on Christmas Eve, hating the Whos,\n",
      "Staring down from his cave with a sour, Grinchy frown,\n",
      "At the warm lighted windows below in their town.\n",
      "For he knew every Who down in Whoville beneath,\n",
      "Was busy now, hanging a mistletoe wreath.\n",
      "\"And they're hanging their stockings!\" he snarled with a sneer,\n",
      "\"Tomorrow is Christmas! It's practically here!\"\n",
      "Then he growled, with his Grinch fingers nervously drumming,\n",
      "\"I MUST find some way to stop Christmas from coming!\"\n",
      "For Tomorrow, he knew, all the Who girls and boys,\n",
      "Would wake bright and early. They'd rush for their toys!\n",
      "And then! Oh, the noise! Oh, the Noise!\n",
      "Noise! Noise! Noise!\n",
      "That's one thing he hated! The NOISE!\n",
      "NOISE! NOISE! NOISE!\n",
      "Then the Whos, young and old, would sit down to a feast.\n",
      "And they'd feast! And they'd feast! And they'd FEAST!\n",
      "FEAST! FEAST! FEAST!\n",
      "They would feast on Who-pudding, and rare Who-roast beast.\n",
      "Which was something the Grinch couldn't stand in the least!\n",
      "And THEN They'd do something He liked least of all!\n",
      "Every Who down in Whoville, the tall and the small,\n",
      "Would stand close together, with Christmas bells ringing.\n",
      "They'd stand hand-in-hand. And the Whos would start singing!\n",
      "They'd sing! And they'd sing! And they'd SING!\n",
      "SING! SING! SING!\n",
      "And the more the Grinch thought of this Who ChristmasSing,\n",
      "The more the Grinch thought, \"I must stop this whole thing!\"\n",
      "\"Why, for fifty-three years I've put up with it now!\"\n",
      "\"I MUST stop this Christmas from coming! But HOW?\"\n",
      "Then he got an idea! An awful idea!\n",
      "THE GRINCH GOT A WONDERFUL, AWFUL IDEA!\n",
      "\"I know just what to do!\" The Grinch laughed in his throat.\n",
      "And he made a quick Santy Claus hat and a coat.\n",
      "And he chuckled, and clucked, \"What a great Grinchy trick!\"\n",
      "\"With this coat and this hat, I look just like Saint Nick!\"\n",
      "\"All I need is a reindeer...\" The Grinch looked around.\n",
      "But, since reindeer are scarce, there was none to be found.\n",
      "Did that stop the old Grinch? No! The Grinch simply said,\n",
      "\"If I can't find a reindeer, I'll make one instead!\"\n",
      "So he called his dog, Max. Then he took some red thread,\n",
      "And he tied a big horn on the top of his head.\n",
      "THEN He loaded some bags And some old empty sacks,\n",
      "On a ramshackle sleigh And he hitched up old Max.\n",
      "Then the Grinch said, \"Giddap!\" And the sleigh started down,\n",
      "Toward the homes where the Whos Lay asnooze in their town.\n",
      "All their windows were dark. Quiet snow filled the air.\n",
      "All the Whos were all dreaming sweet dreams without care.\n",
      "When he came to the first little house on the square.\n",
      "\"This is stop number one,\" the old Grinchy Claus hissed,\n",
      "And he climbed to the roof, empty bags in his fist.\n",
      "Then he slid down the chimney. A rather tight pinch.\n",
      "But, if Santa could do it, then so could the Grinch.\n",
      "He got stuck only once, for a moment or two.\n",
      "Then he stuck his head out of the fireplace flue.\n",
      "Where the little Who stockings all hung in a row.\n",
      "\"These stockings,\" he grinned, \"are the first things to go!\"\n",
      "Then he slithered and slunk, with a smile most unpleasant,\n",
      "Around the whole room, and he took every present!\n",
      "Pop guns! And bicycles! Roller skates! Drums!\n",
      "Checkerboards! Tricycles! Popcorn! And plums!\n",
      "And he stuffed them in bags. Then the Grinch, very nimbly,\n",
      "Stuffed all the bags, one by one, up the chimney!\n",
      "Then he slunk to the icebox. He took the Whos' feast!\n",
      "He took the Who-pudding! He took the roast beast!\n",
      "He cleaned out that icebox as quick as a flash.\n",
      "Why, that Grinch even took their last can of Who-hash!\n",
      "Then he stuffed all the food up the chimney with glee.\n",
      "\"And NOW!\" grinned the Grinch, \"I will stuff up the tree!\"\n",
      "And the Grinch grabbed the tree, and he started to shove,\n",
      "When he heard a small sound like the coo of a dove.\n",
      "He turned around fast, and he saw a small Who!\n",
      "Little Cindy-Lou Who, who was not more than two.\n",
      "The Grinch had been caught by this tiny Who daughter,\n",
      "Who'd got out of bed for a cup of cold water.\n",
      "She stared at the Grinch and said, \"Santy Claus, why,”\n",
      "\"Why are you taking our Christmas tree? WHY?\"\n",
      "But, you know, that old Grinch was so smart and so slick,\n",
      "He thought up a lie, and he thought it up quick!\n",
      "\"Why, my sweet little tot,\" the fake Santy Claus lied,\n",
      "\"There's a light on this tree that won't light on one side.\"\n",
      "\"So I'm taking it home to my workshop, my dear.\"\n",
      "\"I'll fix it up there. Then I'll bring it back here.\"\n",
      "And his fib fooled the child. Then he patted her head,\n",
      "And he got her a drink and he sent her to bed.\n",
      "And when CindyLou Who went to bed with her cup,\n",
      "HE went to the chimney and stuffed the tree up!\n",
      "Then the last thing he took Was the log for their fire!\n",
      "Then he went up the chimney, himself, the old liar.\n",
      "On their walls he left nothing but hooks and some wire.\n",
      "And the one speck of food That he left in the house,\n",
      "Was a crumb that was even too small for a mouse.\n",
      "Then He did the same thing To the other Whos' houses\n",
      "Leaving crumbs Much too small For the other Whos' mouses!\n",
      "It was quarter past dawn... All the Whos, still a-bed,\n",
      "All the Whos, still asnooze When he packed up his sled,\n",
      "Packed it up with their presents! The ribbons! The wrappings!\n",
      "The tags! And the tinsel! The trimmings! The trappings!\n",
      "Three thousand feet up! Up the side of Mt. Crumpit,\n",
      "He rode with his load to the tiptop to dump it!\n",
      "\"PoohPooh to the Whos!\" he was grinchishly humming.\n",
      "\"They're finding out now that no Christmas is coming!\"\n",
      "\"They're just waking up! I know just what they'll do!\"\n",
      "\"Their mouths will hang open a minute or two,\n",
      "Then the Whos down in Whoville will all cry BooHoo!\"\n",
      "\"That's a noise,\" grinned the Grinch, \"That I simply MUST hear!\"\n",
      "So he paused. And the Grinch put his hand to his ear.\n",
      "And he did hear a sound rising over the snow.\n",
      "It started in low. Then it started to grow.\n",
      "But the sound wasn't sad! Why, this sound sounded merry!\n",
      "It couldn't be so! But it WAS merry! VERY!\n",
      "He stared down at Whoville! The Grinch popped his eyes!\n",
      "Then he shook! What he saw was a shocking surprise!\n",
      "Every Who down in Whoville, the tall and the small,\n",
      "Was singing! Without any presents at all!\n",
      "He HADN'T stopped Christmas from coming! IT CAME!\n",
      "Somehow or other, it came just the same!\n",
      "And the Grinch, with his grinch-feet ice-cold in the snow,\n",
      "Stood puzzling and puzzling: \"How could it be so?\"\n",
      "\"It came with out ribbons! It came without tags!\"\n",
      "\"It came without packages, boxes or bags!\"\n",
      "And he puzzled three hours, till his puzzler was sore.\n",
      "Then the Grinch thought of something he hadn't before!\n",
      "\"Maybe Christmas,\" he thought, \"doesn't come from a store.\"\n",
      "\"Maybe Christmas...perhaps...means a little bit more!\"\n",
      "And what happened then? Well...in Whoville they say,\n",
      "That the Grinch's small heart Grew three sizes that day!\n",
      "And the minute his heart didn't feel quite so tight,\n",
      "He whizzed with his load through the bright morning light,\n",
      "And he brought back the toys! And the food for the feast!\n",
      "And he, HE HIMSELF! The Grinch carved the roast beast!\n"
     ]
    }
   ],
   "source": [
    "print(text)"
   ]
  },
  {
   "cell_type": "code",
   "execution_count": 320,
   "metadata": {},
   "outputs": [
    {
     "data": {
      "text/plain": [
       "' The president\\'s support is a big win for activists who have been pushing for criminal justice measures that roll back the stiff penalties imposed as a part of America\\'s decades-long \"war on drugs.\"'"
      ]
     },
     "execution_count": 320,
     "metadata": {},
     "output_type": "execute_result"
    }
   ],
   "source": [
    "summ_true"
   ]
  },
  {
   "cell_type": "code",
   "execution_count": 30,
   "metadata": {},
   "outputs": [
    {
     "name": "stdout",
     "output_type": "stream",
     "text": [
      "416.2935118675232\n"
     ]
    },
    {
     "data": {
      "text/plain": [
       "Counter({'offspring': 3.7587873935699463,\n",
       "         'generation': 410.84064245224,\n",
       "         'mutate': 1.3425624370574951})"
      ]
     },
     "execution_count": 30,
     "metadata": {},
     "output_type": "execute_result"
    }
   ],
   "source": [
    "import time\n",
    "import collections\n",
    "\n",
    "\n",
    "PROFILER = collections.Counter()\n",
    "\n",
    "\n",
    "def fitness(chromosome):\n",
    "    return cohesion_separation(chromosome, jaccard_similarity, doc)\n",
    "\n",
    "cv = CountVectorizer(stop_words='english')\n",
    "sents_lower = tokenize.sent_tokenize(text.lower())\n",
    "# sents_lower = [t.strip() for t in tokenize.line_tokenize(text.lower())]\n",
    "vec = cv.fit_transform(sents_lower)\n",
    "doc = vec.toarray().astype(bool).astype(int)\n",
    "\n",
    "ratio = 0.05\n",
    "\n",
    "t0 = time.time()\n",
    "pop = run_iterations(pop_size=100, summ_len=10, num_sents=len(doc), \n",
    "                     func=fitness, lam=0.9, cr=0.5, iterations=1000, verbose=False, seed=0)\n",
    "t1 = time.time()\n",
    "print(t1-t0)\n",
    "\n",
    "\n",
    "chrom_best = best_chromosome(pop)\n",
    "idxs = central_sentences(chrom_best, doc)\n",
    "#: 2018 article[999] -- gay skier winter olympics -> no lower() causes wierd sentence breaks that throw off summary\n",
    "# sents_norm = tokenize.sent_tokenize(text)\n",
    "summ_evol = '\\n'.join(np.array(sents_lower)[idxs])\n",
    "\n",
    "PROFILER"
   ]
  },
  {
   "cell_type": "code",
   "execution_count": 36,
   "metadata": {},
   "outputs": [
    {
     "name": "stdout",
     "output_type": "stream",
     "text": [
      "10\n",
      "int\n",
      "10\n"
     ]
    }
   ],
   "source": [
    "pop = run_iterations(pop_size=100, summ_len=10, num_sents=len(doc), \n",
    "                     func=fitness, lam=0.9, cr=0.5, iterations=1000, verbose=False, seed=0)"
   ]
  },
  {
   "cell_type": "code",
   "execution_count": 37,
   "metadata": {},
   "outputs": [
    {
     "data": {
      "text/plain": [
       "array([0, 1, 2, 3, 4, 5, 6, 7, 8, 9])"
      ]
     },
     "execution_count": 37,
     "metadata": {},
     "output_type": "execute_result"
    }
   ],
   "source": [
    "np.unique(pop)"
   ]
  },
  {
   "cell_type": "code",
   "execution_count": 38,
   "metadata": {},
   "outputs": [
    {
     "data": {
      "text/plain": [
       "array([0, 1, 2, 3, 4, 5, 6, 7, 8, 9])"
      ]
     },
     "execution_count": 38,
     "metadata": {},
     "output_type": "execute_result"
    }
   ],
   "source": [
    "np.unique(chrom_best)"
   ]
  },
  {
   "cell_type": "code",
   "execution_count": 43,
   "metadata": {},
   "outputs": [
    {
     "data": {
      "text/plain": [
       "[['every who down in whoville liked christmas a lot...',\n",
       "  'but the grinch,who lived just north of whoville, did not!'],\n",
       " ['the grinch hated christmas!'],\n",
       " ['the whole christmas season!'],\n",
       " [\"now, please don't ask why.\"],\n",
       " ['no one quite knows the reason.'],\n",
       " [\"it could be his head wasn't screwed on just right.\"],\n",
       " ['it could be, perhaps, that his shoes were too tight.'],\n",
       " ['but i think that the most likely reason of all,',\n",
       "  'may have been that his heart was two sizes too small.'],\n",
       " ['whatever the reason, his heart or his shoes,',\n",
       "  'he stood there on christmas eve, hating the whos,',\n",
       "  'staring down from his cave with a sour, grinchy frown,',\n",
       "  'at the warm lighted windows below in their town.'],\n",
       " ['for he knew every who down in whoville beneath,',\n",
       "  'was busy now, hanging a mistletoe wreath.'],\n",
       " ['\"and they\\'re hanging their stockings!\"'],\n",
       " ['he snarled with a sneer,', '\"tomorrow is christmas!'],\n",
       " ['it\\'s practically here!\"'],\n",
       " ['then he growled, with his grinch fingers nervously drumming,',\n",
       "  '\"i must find some way to stop christmas from coming!\"'],\n",
       " ['for tomorrow, he knew, all the who girls and boys,',\n",
       "  'would wake bright and early.'],\n",
       " [\"they'd rush for their toys!\"],\n",
       " ['and then!'],\n",
       " ['oh, the noise!'],\n",
       " ['oh, the noise!'],\n",
       " ['noise!'],\n",
       " ['noise!'],\n",
       " ['noise!'],\n",
       " [\"that's one thing he hated!\"],\n",
       " ['the noise!'],\n",
       " ['noise!'],\n",
       " ['noise!'],\n",
       " ['noise!'],\n",
       " ['then the whos, young and old, would sit down to a feast.'],\n",
       " [\"and they'd feast!\"],\n",
       " [\"and they'd feast!\"],\n",
       " [\"and they'd feast!\"],\n",
       " ['feast!'],\n",
       " ['feast!'],\n",
       " ['feast!'],\n",
       " ['they would feast on who-pudding, and rare who-roast beast.'],\n",
       " [\"which was something the grinch couldn't stand in the least!\"],\n",
       " [\"and then they'd do something he liked least of all!\"],\n",
       " ['every who down in whoville, the tall and the small,',\n",
       "  'would stand close together, with christmas bells ringing.'],\n",
       " [\"they'd stand hand-in-hand.\"],\n",
       " ['and the whos would start singing!'],\n",
       " [\"they'd sing!\"],\n",
       " [\"and they'd sing!\"],\n",
       " [\"and they'd sing!\"],\n",
       " ['sing!'],\n",
       " ['sing!'],\n",
       " ['sing!'],\n",
       " ['and the more the grinch thought of this who christmassing,',\n",
       "  'the more the grinch thought, \"i must stop this whole thing!\"'],\n",
       " ['\"why, for fifty-three years i\\'ve put up with it now!\"'],\n",
       " ['\"i must stop this christmas from coming!'],\n",
       " ['but how?\"'],\n",
       " ['then he got an idea!'],\n",
       " ['an awful idea!'],\n",
       " ['the grinch got a wonderful, awful idea!'],\n",
       " ['\"i know just what to do!\"'],\n",
       " ['the grinch laughed in his throat.'],\n",
       " ['and he made a quick santy claus hat and a coat.'],\n",
       " ['and he chuckled, and clucked, \"what a great grinchy trick!\"'],\n",
       " ['\"with this coat and this hat, i look just like saint nick!\"'],\n",
       " ['\"all i need is a reindeer...\" the grinch looked around.'],\n",
       " ['but, since reindeer are scarce, there was none to be found.'],\n",
       " ['did that stop the old grinch?'],\n",
       " ['no!'],\n",
       " ['the grinch simply said,',\n",
       "  '\"if i can\\'t find a reindeer, i\\'ll make one instead!\"'],\n",
       " ['so he called his dog, max.'],\n",
       " ['then he took some red thread,',\n",
       "  'and he tied a big horn on the top of his head.'],\n",
       " ['then he loaded some bags and some old empty sacks,',\n",
       "  'on a ramshackle sleigh and he hitched up old max.'],\n",
       " ['then the grinch said, \"giddap!\"'],\n",
       " ['and the sleigh started down,',\n",
       "  'toward the homes where the whos lay asnooze in their town.'],\n",
       " ['all their windows were dark.'],\n",
       " ['quiet snow filled the air.'],\n",
       " ['all the whos were all dreaming sweet dreams without care.'],\n",
       " ['when he came to the first little house on the square.'],\n",
       " ['\"this is stop number one,\" the old grinchy claus hissed,',\n",
       "  'and he climbed to the roof, empty bags in his fist.'],\n",
       " ['then he slid down the chimney.'],\n",
       " ['a rather tight pinch.'],\n",
       " ['but, if santa could do it, then so could the grinch.'],\n",
       " ['he got stuck only once, for a moment or two.'],\n",
       " ['then he stuck his head out of the fireplace flue.'],\n",
       " ['where the little who stockings all hung in a row.'],\n",
       " ['\"these stockings,\" he grinned, \"are the first things to go!\"'],\n",
       " ['then he slithered and slunk, with a smile most unpleasant,',\n",
       "  'around the whole room, and he took every present!'],\n",
       " ['pop guns!'],\n",
       " ['and bicycles!'],\n",
       " ['roller skates!'],\n",
       " ['drums!'],\n",
       " ['checkerboards!'],\n",
       " ['tricycles!'],\n",
       " ['popcorn!'],\n",
       " ['and plums!'],\n",
       " ['and he stuffed them in bags.'],\n",
       " ['then the grinch, very nimbly,',\n",
       "  'stuffed all the bags, one by one, up the chimney!'],\n",
       " ['then he slunk to the icebox.'],\n",
       " [\"he took the whos' feast!\"],\n",
       " ['he took the who-pudding!'],\n",
       " ['he took the roast beast!'],\n",
       " ['he cleaned out that icebox as quick as a flash.'],\n",
       " ['why, that grinch even took their last can of who-hash!'],\n",
       " ['then he stuffed all the food up the chimney with glee.'],\n",
       " ['\"and now!\"'],\n",
       " ['grinned the grinch, \"i will stuff up the tree!\"'],\n",
       " ['and the grinch grabbed the tree, and he started to shove,',\n",
       "  'when he heard a small sound like the coo of a dove.'],\n",
       " ['he turned around fast, and he saw a small who!'],\n",
       " ['little cindy-lou who, who was not more than two.'],\n",
       " ['the grinch had been caught by this tiny who daughter,',\n",
       "  \"who'd got out of bed for a cup of cold water.\"],\n",
       " ['she stared at the grinch and said, \"santy claus, why,”',\n",
       "  '\"why are you taking our christmas tree?'],\n",
       " ['why?\"'],\n",
       " ['but, you know, that old grinch was so smart and so slick,',\n",
       "  'he thought up a lie, and he thought it up quick!'],\n",
       " ['\"why, my sweet little tot,\" the fake santy claus lied,',\n",
       "  '\"there\\'s a light on this tree that won\\'t light on one side.\"'],\n",
       " ['\"so i\\'m taking it home to my workshop, my dear.\"'],\n",
       " ['\"i\\'ll fix it up there.'],\n",
       " ['then i\\'ll bring it back here.\"'],\n",
       " ['and his fib fooled the child.'],\n",
       " ['then he patted her head,',\n",
       "  'and he got her a drink and he sent her to bed.'],\n",
       " ['and when cindylou who went to bed with her cup,',\n",
       "  'he went to the chimney and stuffed the tree up!'],\n",
       " ['then the last thing he took was the log for their fire!'],\n",
       " ['then he went up the chimney, himself, the old liar.'],\n",
       " ['on their walls he left nothing but hooks and some wire.'],\n",
       " ['and the one speck of food that he left in the house,',\n",
       "  'was a crumb that was even too small for a mouse.'],\n",
       " [\"then he did the same thing to the other whos' houses\",\n",
       "  \"leaving crumbs much too small for the other whos' mouses!\"],\n",
       " ['it was quarter past dawn... all the whos, still a-bed,',\n",
       "  'all the whos, still asnooze when he packed up his sled,',\n",
       "  'packed it up with their presents!'],\n",
       " ['the ribbons!'],\n",
       " ['the wrappings!'],\n",
       " ['the tags!'],\n",
       " ['and the tinsel!'],\n",
       " ['the trimmings!'],\n",
       " ['the trappings!'],\n",
       " ['three thousand feet up!'],\n",
       " ['up the side of mt.'],\n",
       " ['crumpit,', 'he rode with his load to the tiptop to dump it!'],\n",
       " ['\"poohpooh to the whos!\"'],\n",
       " ['he was grinchishly humming.'],\n",
       " ['\"they\\'re finding out now that no christmas is coming!\"'],\n",
       " ['\"they\\'re just waking up!'],\n",
       " ['i know just what they\\'ll do!\"'],\n",
       " ['\"their mouths will hang open a minute or two,',\n",
       "  'then the whos down in whoville will all cry boohoo!\"'],\n",
       " ['\"that\\'s a noise,\" grinned the grinch, \"that i simply must hear!\"'],\n",
       " ['so he paused.'],\n",
       " ['and the grinch put his hand to his ear.'],\n",
       " ['and he did hear a sound rising over the snow.'],\n",
       " ['it started in low.'],\n",
       " ['then it started to grow.'],\n",
       " [\"but the sound wasn't sad!\"],\n",
       " ['why, this sound sounded merry!'],\n",
       " [\"it couldn't be so!\"],\n",
       " ['but it was merry!'],\n",
       " ['very!'],\n",
       " ['he stared down at whoville!'],\n",
       " ['the grinch popped his eyes!'],\n",
       " ['then he shook!'],\n",
       " ['what he saw was a shocking surprise!'],\n",
       " ['every who down in whoville, the tall and the small,', 'was singing!'],\n",
       " ['without any presents at all!'],\n",
       " [\"he hadn't stopped christmas from coming!\"],\n",
       " ['it came!'],\n",
       " ['somehow or other, it came just the same!'],\n",
       " ['and the grinch, with his grinch-feet ice-cold in the snow,',\n",
       "  'stood puzzling and puzzling: \"how could it be so?\"'],\n",
       " ['\"it came with out ribbons!'],\n",
       " ['it came without tags!\"'],\n",
       " ['\"it came without packages, boxes or bags!\"'],\n",
       " ['and he puzzled three hours, till his puzzler was sore.'],\n",
       " [\"then the grinch thought of something he hadn't before!\"],\n",
       " ['\"maybe christmas,\" he thought, \"doesn\\'t come from a store.\"'],\n",
       " ['\"maybe christmas...perhaps...means a little bit more!\"'],\n",
       " ['and what happened then?'],\n",
       " ['well...in whoville they say,',\n",
       "  \"that the grinch's small heart grew three sizes that day!\"],\n",
       " [\"and the minute his heart didn't feel quite so tight,\",\n",
       "  'he whizzed with his load through the bright morning light,',\n",
       "  'and he brought back the toys!'],\n",
       " ['and the food for the feast!'],\n",
       " ['and he, he himself!'],\n",
       " ['the grinch carved the roast beast!']]"
      ]
     },
     "execution_count": 43,
     "metadata": {},
     "output_type": "execute_result"
    }
   ],
   "source": [
    "[sent.split('\\n') for sent in sents_lower]"
   ]
  },
  {
   "cell_type": "code",
   "execution_count": 39,
   "metadata": {},
   "outputs": [
    {
     "data": {
      "text/plain": [
       "[0, 8, 29, 65, 72, 90, 103, 104, 135, 165]"
      ]
     },
     "execution_count": 39,
     "metadata": {},
     "output_type": "execute_result"
    }
   ],
   "source": [
    "idxs"
   ]
  },
  {
   "cell_type": "code",
   "execution_count": 41,
   "metadata": {},
   "outputs": [
    {
     "name": "stdout",
     "output_type": "stream",
     "text": [
      "every who down in whoville liked christmas a lot...\n",
      "but the grinch,who lived just north of whoville, did not!\n",
      "----------------------------------------------------------------------------------------------------\n",
      "whatever the reason, his heart or his shoes,\n",
      "he stood there on christmas eve, hating the whos,\n",
      "staring down from his cave with a sour, grinchy frown,\n",
      "at the warm lighted windows below in their town.\n",
      "----------------------------------------------------------------------------------------------------\n",
      "and they'd feast!\n",
      "----------------------------------------------------------------------------------------------------\n",
      "then he loaded some bags and some old empty sacks,\n",
      "on a ramshackle sleigh and he hitched up old max.\n",
      "----------------------------------------------------------------------------------------------------\n",
      "\"this is stop number one,\" the old grinchy claus hissed,\n",
      "and he climbed to the roof, empty bags in his fist.\n",
      "----------------------------------------------------------------------------------------------------\n",
      "then the grinch, very nimbly,\n",
      "stuffed all the bags, one by one, up the chimney!\n",
      "----------------------------------------------------------------------------------------------------\n",
      "the grinch had been caught by this tiny who daughter,\n",
      "who'd got out of bed for a cup of cold water.\n",
      "----------------------------------------------------------------------------------------------------\n",
      "she stared at the grinch and said, \"santy claus, why,”\n",
      "\"why are you taking our christmas tree?\n",
      "----------------------------------------------------------------------------------------------------\n",
      "\"that's a noise,\" grinned the grinch, \"that i simply must hear!\"\n",
      "----------------------------------------------------------------------------------------------------\n",
      "and the minute his heart didn't feel quite so tight,\n",
      "he whizzed with his load through the bright morning light,\n",
      "and he brought back the toys!\n",
      "----------------------------------------------------------------------------------------------------\n"
     ]
    }
   ],
   "source": [
    "for row in np.array(sents_lower)[idxs]:\n",
    "    print(row)\n",
    "    print('-'*100)"
   ]
  },
  {
   "cell_type": "code",
   "execution_count": null,
   "metadata": {},
   "outputs": [],
   "source": []
  },
  {
   "cell_type": "code",
   "execution_count": 27,
   "metadata": {},
   "outputs": [
    {
     "name": "stdout",
     "output_type": "stream",
     "text": [
      "Every Who Down in Whoville Liked Christmas a lot...\n",
      "But the Grinch,Who lived just north of Whoville, Did NOT!\n",
      "Oh, the noise!\n",
      "And they'd feast!\n",
      "And the Grinch grabbed the tree, and he started to shove,\n",
      "When he heard a small sound like the coo of a dove.\n",
      "She stared at the Grinch and said, \"Santy Claus, why,”\n",
      "\"Why are you taking our Christmas tree?\n",
      "And the one speck of food That he left in the house,\n",
      "Was a crumb that was even too small for a mouse.\n",
      "And the Grinch put his hand to his ear.\n",
      "And the minute his heart didn't feel quite so tight,\n",
      "He whizzed with his load through the bright morning light,\n",
      "And he brought back the toys!\n"
     ]
    }
   ],
   "source": [
    "# get the uppercase correct\n",
    "summ_evol = []\n",
    "for sent in np.array(sents_lower)[idxs]:\n",
    "    start = text.lower().index(sent)\n",
    "    stop = start + len(sent)\n",
    "    summ_evol.append(text[start:stop])\n",
    "summ_evol = '\\n'.join(summ_evol)\n",
    "print(summ_evol)"
   ]
  },
  {
   "cell_type": "code",
   "execution_count": 31,
   "metadata": {},
   "outputs": [
    {
     "name": "stdout",
     "output_type": "stream",
     "text": [
      "Every Who Down in Whoville Liked Christmas a lot...\n",
      "But the Grinch,Who lived just north of Whoville, Did NOT!\n",
      "Whatever the reason, His heart or his shoes,\n",
      "He stood there on Christmas Eve, hating the Whos,\n",
      "Staring down from his cave with a sour, Grinchy frown,\n",
      "At the warm lighted windows below in their town.\n",
      "And they'd feast!\n",
      "THEN He loaded some bags And some old empty sacks,\n",
      "On a ramshackle sleigh And he hitched up old Max.\n",
      "\"This is stop number one,\" the old Grinchy Claus hissed,\n",
      "And he climbed to the roof, empty bags in his fist.\n",
      "Then the Grinch, very nimbly,\n",
      "Stuffed all the bags, one by one, up the chimney!\n",
      "The Grinch had been caught by this tiny Who daughter,\n",
      "Who'd got out of bed for a cup of cold water.\n",
      "She stared at the Grinch and said, \"Santy Claus, why,”\n",
      "\"Why are you taking our Christmas tree?\n",
      "\"That's a noise,\" grinned the Grinch, \"That I simply MUST hear!\"\n",
      "And the minute his heart didn't feel quite so tight,\n",
      "He whizzed with his load through the bright morning light,\n",
      "And he brought back the toys!\n"
     ]
    }
   ],
   "source": [
    "# get the uppercase correct\n",
    "summ_evol = []\n",
    "for sent in np.array(sents_lower)[idxs]:\n",
    "    start = text.lower().index(sent)\n",
    "    stop = start + len(sent)\n",
    "    summ_evol.append(text[start:stop])\n",
    "summ_evol = '\\n'.join(summ_evol)\n",
    "print(summ_evol)"
   ]
  },
  {
   "cell_type": "code",
   "execution_count": 32,
   "metadata": {},
   "outputs": [],
   "source": [
    "np.save('grinch_pop0_len10_lam9_cr_5_iter1000_seed0.npy', chrom_best)"
   ]
  },
  {
   "cell_type": "code",
   "execution_count": 14,
   "metadata": {},
   "outputs": [],
   "source": [
    "def scores(n, y_pred):\n",
    "    for i in range(1, n+1):\n",
    "        score = rouge_n(i, y_pred, summ_true)\n",
    "        print(i, score)"
   ]
  },
  {
   "cell_type": "code",
   "execution_count": 235,
   "metadata": {},
   "outputs": [
    {
     "name": "stdout",
     "output_type": "stream",
     "text": [
      "evolutionary\n",
      "1 0.8571428571428571\n",
      "2 0.7222222222222222\n",
      "3 0.3735632183908046\n"
     ]
    }
   ],
   "source": [
    "print('evolutionary')\n",
    "scores(3, summ_evol)"
   ]
  },
  {
   "cell_type": "code",
   "execution_count": 19,
   "metadata": {},
   "outputs": [
    {
     "name": "stdout",
     "output_type": "stream",
     "text": [
      "gensim\n"
     ]
    }
   ],
   "source": [
    "import gensim\n",
    "\n",
    "ratio = 0.05\n",
    "summ_gensim = gensim.summarization.summarize(text, ratio=ratio)\n",
    "print('gensim')\n",
    "# scores(3, summ_gensim)"
   ]
  },
  {
   "cell_type": "code",
   "execution_count": 20,
   "metadata": {},
   "outputs": [
    {
     "name": "stdout",
     "output_type": "stream",
     "text": [
      "Every Who Down in Whoville Liked Christmas a lot...\n",
      "The Grinch hated Christmas!\n",
      "He stood there on Christmas Eve, hating the Whos,\n",
      "The more the Grinch thought, \"I must stop this whole thing!\"\n",
      "THE GRINCH GOT A WONDERFUL, AWFUL IDEA!\n",
      "Did that stop the old Grinch?\n",
      "On a ramshackle sleigh And he hitched up old Max. Then the Grinch said, \"Giddap!\" And the sleigh started down,\n",
      "He took the Whos' feast!\n",
      "She stared at the Grinch and said, \"Santy Claus, why,”\n"
     ]
    }
   ],
   "source": [
    "print(summ_gensim)"
   ]
  },
  {
   "cell_type": "code",
   "execution_count": 1,
   "metadata": {},
   "outputs": [
    {
     "ename": "NameError",
     "evalue": "name 'text' is not defined",
     "output_type": "error",
     "traceback": [
      "\u001b[0;31m---------------------------------------------------------------------------\u001b[0m",
      "\u001b[0;31mNameError\u001b[0m                                 Traceback (most recent call last)",
      "\u001b[0;32m<ipython-input-1-5093579478c2>\u001b[0m in \u001b[0;36m<module>\u001b[0;34m\u001b[0m\n\u001b[1;32m     12\u001b[0m     \u001b[0;32mreturn\u001b[0m \u001b[0;34m''\u001b[0m\u001b[0;34m.\u001b[0m\u001b[0mjoin\u001b[0m\u001b[0;34m(\u001b[0m\u001b[0mchar\u001b[0m \u001b[0;32mfor\u001b[0m \u001b[0msent\u001b[0m \u001b[0;32min\u001b[0m \u001b[0msumy_summary\u001b[0m \u001b[0;32mfor\u001b[0m \u001b[0mchar\u001b[0m \u001b[0;32min\u001b[0m \u001b[0mstr\u001b[0m\u001b[0;34m(\u001b[0m\u001b[0msent\u001b[0m\u001b[0;34m)\u001b[0m \u001b[0;32mif\u001b[0m \u001b[0mchar\u001b[0m \u001b[0;32min\u001b[0m \u001b[0mstring\u001b[0m\u001b[0;34m.\u001b[0m\u001b[0mprintable\u001b[0m\u001b[0;34m)\u001b[0m\u001b[0;34m\u001b[0m\u001b[0;34m\u001b[0m\u001b[0m\n\u001b[1;32m     13\u001b[0m \u001b[0;34m\u001b[0m\u001b[0m\n\u001b[0;32m---> 14\u001b[0;31m \u001b[0mparser\u001b[0m \u001b[0;34m=\u001b[0m \u001b[0mPlaintextParser\u001b[0m\u001b[0;34m(\u001b[0m\u001b[0mtext\u001b[0m\u001b[0;34m,\u001b[0m \u001b[0mTokenizer\u001b[0m\u001b[0;34m(\u001b[0m\u001b[0;34m'english'\u001b[0m\u001b[0;34m)\u001b[0m\u001b[0;34m)\u001b[0m\u001b[0;34m\u001b[0m\u001b[0;34m\u001b[0m\u001b[0m\n\u001b[0m\u001b[1;32m     15\u001b[0m \u001b[0;34m\u001b[0m\u001b[0m\n\u001b[1;32m     16\u001b[0m \u001b[0midxs\u001b[0m \u001b[0;34m=\u001b[0m \u001b[0;34m[\u001b[0m\u001b[0;36m0\u001b[0m\u001b[0;34m]\u001b[0m \u001b[0;34m*\u001b[0m \u001b[0;36m9\u001b[0m\u001b[0;34m\u001b[0m\u001b[0;34m\u001b[0m\u001b[0m\n",
      "\u001b[0;31mNameError\u001b[0m: name 'text' is not defined"
     ]
    }
   ],
   "source": [
    "import string\n",
    "\n",
    "from sumy.parsers.plaintext import PlaintextParser\n",
    "from sumy.summarizers.lex_rank import LexRankSummarizer\n",
    "from sumy.summarizers.text_rank import TextRankSummarizer\n",
    "from sumy.nlp.tokenizers import Tokenizer\n",
    "\n",
    "\n",
    "\n",
    "def format_sumy(sumy_summary):\n",
    "    return sumy_summary\n",
    "    return ''.join(char for sent in sumy_summary for char in str(sent) if char in string.printable)\n",
    "\n",
    "parser = PlaintextParser(text, Tokenizer('english'))\n",
    "\n",
    "text_rank = TextRankSummarizer()\n",
    "summ_text_rank = format_sumy(text_rank(parser.document, len(idxs)))\n",
    "print('sumy - text rank')\n",
    "# scores(3, summ_text_rank)\n",
    "\n",
    "print()\n",
    "\n",
    "lex_rank = LexRankSummarizer()\n",
    "summ_lex_rank = format_sumy(lex_rank(parser.document, len(idxs)))\n",
    "print('sumy - lex rank')\n",
    "# scores(3, summ_lex_rank)"
   ]
  },
  {
   "cell_type": "code",
   "execution_count": null,
   "metadata": {},
   "outputs": [],
   "source": [
    "print(summ_text_rank)"
   ]
  },
  {
   "cell_type": "code",
   "execution_count": 25,
   "metadata": {},
   "outputs": [
    {
     "name": "stdout",
     "output_type": "stream",
     "text": [
      "The Grinch hated Christmas!And then!But, you know, that old Grinch was so smart and so slick, He thought up a lie, and he thought it up quick!And the one speck of food That he left in the house, Was a crumb that was even too small for a mouse.\"They're finding out now that no Christmas is coming!\"\"That's a noise,\" grinned the Grinch, \"That I simply MUST hear!\"And the Grinch put his hand to his ear.But it WAS merry!And the minute his heart didn't feel quite so tight, He whizzed with his load through the bright morning light, And he brought back the toys!\n"
     ]
    }
   ],
   "source": [
    "print(summ_lex_rank)"
   ]
  },
  {
   "cell_type": "code",
   "execution_count": null,
   "metadata": {},
   "outputs": [],
   "source": []
  },
  {
   "cell_type": "code",
   "execution_count": null,
   "metadata": {},
   "outputs": [],
   "source": []
  },
  {
   "cell_type": "code",
   "execution_count": null,
   "metadata": {},
   "outputs": [],
   "source": []
  }
 ],
 "metadata": {
  "kernelspec": {
   "display_name": "Python 3",
   "language": "python",
   "name": "python3"
  },
  "language_info": {
   "codemirror_mode": {
    "name": "ipython",
    "version": 3
   },
   "file_extension": ".py",
   "mimetype": "text/x-python",
   "name": "python",
   "nbconvert_exporter": "python",
   "pygments_lexer": "ipython3",
   "version": "3.7.2"
  }
 },
 "nbformat": 4,
 "nbformat_minor": 2
}
