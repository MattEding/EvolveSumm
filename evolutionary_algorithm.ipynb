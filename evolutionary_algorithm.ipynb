{
 "cells": [
  {
   "cell_type": "code",
   "execution_count": 262,
   "metadata": {},
   "outputs": [],
   "source": [
    "import itertools\n",
    "import multiprocessing\n",
    "\n",
    "import numba\n",
    "import numpy as np\n",
    "\n",
    "from nltk import tokenize\n",
    "from nltk.util import ngrams\n",
    "\n",
    "from sklearn.feature_extraction.text import CountVectorizer\n",
    "from sklearn.metrics.pairwise import cosine_distances"
   ]
  },
  {
   "cell_type": "code",
   "execution_count": 331,
   "metadata": {},
   "outputs": [],
   "source": [
    "@numba.njit\n",
    "def jaccard_similarity(a, b):\n",
    "    union = np.sum(a | b)\n",
    "    if not union:\n",
    "        return 1.0\n",
    "    return np.sum(a & b) / union\n",
    "\n",
    "\n",
    "@numba.njit\n",
    "def sigmoid(x):\n",
    "    return 1 / (1 + np.exp(-x))\n",
    "\n",
    "\n",
    "@numba.njit\n",
    "def cohesion(chromosome, similarity, document):\n",
    "    total = 0\n",
    "    for p in np.unique(chromosome):\n",
    "        sents = document[chromosome == p]\n",
    "        k = len(sents)\n",
    "        #: combinations choose 2\n",
    "        for i in range(k-1):\n",
    "            for j in range(i+1, k):\n",
    "                total += similarity(sents[i], sents[j]) / len(sents)  \n",
    "    return total\n",
    "\n",
    "\n",
    "@numba.njit\n",
    "def separation(chromosome, similarity, document):\n",
    "    total = 0\n",
    "    k = len(np.unique(chromosome))\n",
    "    #: combinations choose 2\n",
    "    for p in range(k-1):\n",
    "        for q in range(p+1, k):\n",
    "            sents_p = document[chromosome == p]\n",
    "            sents_q = document[chromosome == q]\n",
    "            #: product\n",
    "            m, n = len(sents_p), len(sents_q)\n",
    "            for i in range(m):\n",
    "                for j in range(n):\n",
    "                    total += similarity(sents_p[i], sents_q[j]) / m / n\n",
    "    return total\n",
    "\n",
    "\n",
    "@numba.njit\n",
    "def cohesion_separation(chromosome, similarity, document):\n",
    "    coh = cohesion(chromosome, similarity, document)\n",
    "    sep = separation(chromosome, similarity, document)\n",
    "    return (1 + sigmoid(coh)) ** sep"
   ]
  },
  {
   "cell_type": "code",
   "execution_count": 324,
   "metadata": {},
   "outputs": [],
   "source": [
    "def init_chromosome(choices, length):\n",
    "    chrom = np.full(length, -1)\n",
    "    #: ensure that each choice is accounted for at least once\n",
    "    idxs = np.random.choice(np.arange(length), len(choices), replace=False)\n",
    "    chrom[idxs] = np.random.permutation(choices)\n",
    "    idxs = np.where(chrom == -1)[0]\n",
    "    chrom[idxs] = np.random.choice(choices, len(idxs))\n",
    "    return chrom\n",
    "\n",
    "\n",
    "def init_population(population_size, cluster_amount, chromosome_length):\n",
    "    clusts = np.arange(cluster_amount)\n",
    "    chroms = [init_chromosome(clusts, chromosome_length) for _ in range(population_size)]\n",
    "    pop = np.vstack(chroms)\n",
    "    return pop\n",
    "\n",
    "\n",
    "def get_offspring_distinct(population, randoms, lambda_, crossover_rate):\n",
    "    n = np.arange(len(population))\n",
    "    s = set(n)\n",
    "    idxs = np.array([np.random.choice(tuple(s - {i}), size=3, replace=False) for i in n])\n",
    "    chrom_1, chrom_2, chrom_3 = map(np.squeeze, np.split(population[idxs], 3, axis=1))\n",
    "    k = len(np.unique(population))\n",
    "    offspr = (chrom_1 + lambda_ * (chrom_2 - chrom_3)) % k\n",
    "    mask = randoms < crossover_rate\n",
    "    offspr[mask] = population[mask]\n",
    "    return offspr\n",
    "\n",
    "\n",
    "def get_offspring(population, randoms, lambda_, crossover_rate):\n",
    "    #: For computation time, relax requirement that X_r, X_r1, X_r2, X_r3 are distinct. \n",
    "    #: With large population size, this is unlikely to occur, and if it does, it doesn't\n",
    "    #: seem that detrimental. Also is this mitigated with appropriate lam choice?\n",
    "    n = len(population)\n",
    "    idxs = np.random.choice(np.arange(n), size=(n, 3))\n",
    "    chrom_1, chrom_2, chrom_3 = map(np.squeeze, np.split(population[idxs], 3, axis=1))\n",
    "    k = len(np.unique(population))\n",
    "    offspr = (chrom_1 + lambda_ * (chrom_2 - chrom_3)) % k\n",
    "    mask = randoms < crossover_rate\n",
    "    offspr[mask] = population[mask]\n",
    "    return offspr\n",
    "\n",
    "\n",
    "# def next_generation(population, offspring, func):\n",
    "#     fit_off = np.array([func(chrom) for chrom in offspring])\n",
    "#     fit_pop = np.array([func(chrom) for chrom in population])\n",
    "#     mask = fit_off > fit_pop\n",
    "#     population[mask] = offspring[mask]\n",
    "#     return\n",
    "\n",
    "\n",
    "def next_generation(population, offspring, func, pool):\n",
    "    fits = pool.map(func, itertools.chain(population, offspring))\n",
    "    l = len(population)\n",
    "    fit_pop = np.array(fits[:l])\n",
    "    fit_off = np.array(fits[l:])\n",
    "    mask = fit_off > fit_pop\n",
    "    population[mask] = offspring[mask]\n",
    "    return\n",
    "\n",
    "\n",
    "def mutate(population, randoms):\n",
    "    mask = randoms < sigmoid(population)\n",
    "    #: inversion operator\n",
    "    idxs = np.nonzero(mask)\n",
    "    arr = np.array(idxs)\n",
    "    sorter = np.lexsort((-arr[1], arr[0]))\n",
    "    rev = arr.T[sorter].T\n",
    "    population[idxs] = population[(rev[0], rev[1])]\n",
    "    return"
   ]
  },
  {
   "cell_type": "code",
   "execution_count": 325,
   "metadata": {},
   "outputs": [],
   "source": [
    "#TODO: early stopping --> little fitness improvement over x generations, good enough fitness score\n",
    "def run_iterations(pop_size, summ_len, num_sents, func, lam, cr, iterations, *, mutate_after=True,\n",
    "                   seed=None, verbose=False, save_rate=np.nan, save_dir=None):\n",
    "    \n",
    "    if save_dir is not None:\n",
    "        save_dir = pathlib.Path(save_dir)\n",
    "        if not save_dir.is_dir():\n",
    "            msg = f'save_dir={save_dir} not a valid directory path'.format(save_dir=save_dir)\n",
    "            raise NotADirectoryError(msg)\n",
    "    \n",
    "    if seed is not None:\n",
    "        np.random.seed(seed)\n",
    "        \n",
    "    if isinstance(summ_len, int):\n",
    "        if not (0 < summ_len < num_sents):\n",
    "            raise ValueError('int summ_len must be between 0 and the number of sentences in the document')\n",
    "    elif isinstance(summ_len, float):\n",
    "        if not (0.0 < summ_len < 1.0):\n",
    "            raise ValueError('float summ_len must be between 0.0 and 1.0')\n",
    "        summ_len = int(summ_len * num_sents)\n",
    "    else:\n",
    "        raise TypeError('summ_len must be a float or int')\n",
    "        \n",
    "    if pop_size < 10:\n",
    "        raise ValueError('pop_size must be at least 10')\n",
    "    pop_size = int(pop_size)\n",
    "    \n",
    "    \n",
    "    \n",
    "    pop = init_population(pop_size, summ_len, num_sents)\n",
    "    shape = pop.shape\n",
    "    pool = multiprocessing.Pool()\n",
    "    \n",
    "    for i in range(iterations):\n",
    "        if i % save_rate == 0:\n",
    "            file = save_dir / 'generation_{i:0>pad}'.format(i=i, pad=len(str(iterations)))\n",
    "            np.save(file, pop)\n",
    "            \n",
    "        if verbose:\n",
    "            print(i)  #TODO: logfile --> iteration number, best fitness score, avg fitness score, hyper-params\n",
    "        \n",
    "        rand = np.random.random_sample(shape)\n",
    "        \n",
    "        t0 = time.time()\n",
    "        offspr = get_offspring_distinct(pop, rand, lam, cr)\n",
    "        t1 = time.time()\n",
    "        PROFILER['offspring'] += t1 - t0\n",
    "        \n",
    "        #: option since papers unclear if mutate at offspring or survivors stage\n",
    "        if not mutate_after:\n",
    "            mutate(offspr, rand)\n",
    "            \n",
    "        t0 = time.time()\n",
    "        next_generation(pop, offspr, func, pool)\n",
    "#         next_generation(pop, offspr, func)\n",
    "        t1 = time.time()\n",
    "        PROFILER['generation'] += t1 - t0\n",
    "        \n",
    "        if mutate_after:\n",
    "            t0 = time.time()\n",
    "            mutate(pop, rand)\n",
    "            t1 = time.time()\n",
    "            PROFILER['mutate'] += t1 - t0\n",
    "    \n",
    "    pool.terminate()\n",
    "    return pop"
   ]
  },
  {
   "cell_type": "code",
   "execution_count": 285,
   "metadata": {},
   "outputs": [],
   "source": [
    "def best_chromosome(population):\n",
    "    #TODO: make sure it picks one with all k-clusters\n",
    "    fits = np.argmax([fitness(chrom) for chrom in population])\n",
    "    chrom = population[fits]\n",
    "    return chrom\n",
    "    \n",
    "\n",
    "def central_sentences(chromosome, document, metric=cosine_distances):\n",
    "    central_sents = []\n",
    "    for cluster in np.unique(chromosome):\n",
    "        idxs = np.where(chromosome == cluster)[0]\n",
    "        sents = document[idxs]\n",
    "        centroid = sents.mean(axis=0)[np.newaxis,:]\n",
    "        dists = metric(sents, centroid)\n",
    "        cent_sent = idxs[np.argmin(dists)]\n",
    "        central_sents.append(cent_sent)\n",
    "    return sorted(central_sents)"
   ]
  },
  {
   "cell_type": "code",
   "execution_count": 286,
   "metadata": {},
   "outputs": [],
   "source": [
    "def rouge_n(n, y_pred, y_true):\n",
    "    n_gram_pred = set(ngrams(y_pred, n))\n",
    "    n_gram_true = set(ngrams(y_true, n))\n",
    "    return len(n_gram_pred & n_gram_true) / len(n_gram_true)"
   ]
  },
  {
   "cell_type": "markdown",
   "metadata": {},
   "source": [
    "# Run Algorithm"
   ]
  },
  {
   "cell_type": "code",
   "execution_count": 287,
   "metadata": {},
   "outputs": [
    {
     "data": {
      "text/plain": [
       "'  Once upon a midnight dreary, while I pondered, weak and weary,\\n  Over many a quaint and curious vo'"
      ]
     },
     "execution_count": 287,
     "metadata": {},
     "output_type": "execute_result"
    }
   ],
   "source": [
    "path = cwd / 'the_raven.txt'\n",
    "with open(path) as fp:\n",
    "    text = fp.read()\n",
    "text[:100]"
   ]
  },
  {
   "cell_type": "code",
   "execution_count": 318,
   "metadata": {},
   "outputs": [],
   "source": [
    "import json\n",
    "import pathlib\n",
    "\n",
    "cwd = pathlib.Path.cwd()\n",
    "data = cwd / 'data'\n",
    "jsons = data / 'jsons'\n",
    "json_2018 = jsons / '2018' / '2018.json'\n",
    "\n",
    "with open(json_2018) as fp:\n",
    "    articles_2018 = json.load(fp)['2018']\n",
    "\n",
    "article = articles_2018[863]\n",
    "text = article['story']\n",
    "summ_true = article['summary']\n",
    "# print(text)"
   ]
  },
  {
   "cell_type": "code",
   "execution_count": 319,
   "metadata": {},
   "outputs": [
    {
     "name": "stdout",
     "output_type": "stream",
     "text": [
      "President Trump is throwing his support behind legislation that could shorten sentences for some drug offenders and help prisoners adjust to life after incarceration.\n",
      "\n",
      "Details of the measure have not been officially released, but Trump said Wednesday the bill will provide incentives for prisoners to participate in training or rehabilitation programs with a goal of reducing recidivism.\n",
      "\n",
      "It will also include measures to address sentencing disparities and inequities.\n",
      "\n",
      "\"Americans across the political spectrum can unite around prison reform legislation that will reduce crime, while giving our fellow citizens a chance at redemption,\" the president said.\n",
      "\n",
      "Trump added that he is ready to sign the bill into law whenever it reaches his desk.\n",
      "\n",
      "Legislation that passed the House of Representatives in May included measures targeting recidivism after incarceration, but did not include sentencing provisions.\n",
      "\n",
      "That was a sticking point for Republican Sen. Chuck Grassley, who helms the Senate Judiciary Committee. Grassley, of Iowa, had previously backed more comprehensive measures.\n",
      "\n",
      "Grassley, who joined Trump at the White House for Wednesday's announcement, has been working with Sen. Dick Durbin, D-Ill., and others to put forward legislation that addresses sentencing and changes prison policies.\n",
      "\n",
      "\"We are grateful for the White House's ongoing engagement to make these long overdue reforms a reality,\" Grassley and Durbin said in a statement.\n",
      "\n",
      "Senate Majority Leader Mitch McConnell, R-Ky., said Wednesday he told supporters of the criminal justice package that he can't start counting votes for any legislation until they finalize the details of an agreement. A vote count is key to any decision by McConnell to allow a bill to come up on the Senate floor.\n",
      "\n",
      "\"We don't have a whole lot of time left,\" McConnell said. \"But the first step is to finalize what proponents are actually for.\"\n",
      "\n",
      "Changing the criminal justice system\n",
      "\n",
      "Trump's support is a big win for activists who have been pushing for criminal justice measures to roll back the stiff penalties imposed as a part of America's decades-long \"war on drugs.\"\n",
      "\n",
      "Supporters of changing the sentencing provisions argue that mandatory minimum sentences and other policies have disproportionately affected African-American and Hispanic communities, while doing little to curb crime.\n",
      "\n",
      "Trump's endorsement is critical for getting the Republican support necessary to get a bill passed during the lame-duck session, said Mark Holden, general counsel to Koch Industries, which has been pushing for the changes.\n",
      "\n",
      "\"It always matters if the president is on board ... but this president, in particular, it's important that he gets behind it,\" Holden said. \"This is an issue that some Republicans haven't always been focused on.\"\n",
      "\n",
      "Trump himself has made being \"tough on crime\" a major part of his pitch to voters. In response to the opioid crisis, Trump even called for the death penalty for some drug dealers.\n",
      "\n",
      "During his announcement about the criminal justice bill, Trump said his administration will work to keep dangerous criminals off the streets.\n",
      "\n",
      "But, he said, sometimes people get caught up in bad circumstances. He talked about the case of Alice Marie Johnson, who was sentenced to life in prison for a nonviolent drug charge.\n",
      "\n",
      "Trump commuted her sentence after reality TV star Kim Kardashian lobbied for her release.\n",
      "\n",
      "\"I'll never forget the scene of her coming out of prison after 21 years and greeting her family and everyone was crying,\" Trump said. \"It was a beautiful thing to see, it was a very tough situation.\"\n",
      "\n",
      "In a tweet after the announcement, the president said members of the House and Senate \"have poured their time, heart and energy into the crucial issue.\"\n",
      "\n",
      "Jared Kushner, Trump's son-in-law and a top adviser, has been a driving force in the White House pushing for changes to the criminal justice system.\n",
      "\n",
      "Kushner, whose father served time in federal prison, spearheaded the White House effort to get legislation passed on the issue.\n",
      "\n",
      "The criminal justice effort also got a boost with the departure of former Attorney General Jeff Sessions, an adamant opponent of changing existing rules and principles governing sentencing.\n"
     ]
    }
   ],
   "source": [
    "print(text)"
   ]
  },
  {
   "cell_type": "code",
   "execution_count": 320,
   "metadata": {},
   "outputs": [
    {
     "data": {
      "text/plain": [
       "' The president\\'s support is a big win for activists who have been pushing for criminal justice measures that roll back the stiff penalties imposed as a part of America\\'s decades-long \"war on drugs.\"'"
      ]
     },
     "execution_count": 320,
     "metadata": {},
     "output_type": "execute_result"
    }
   ],
   "source": [
    "summ_true"
   ]
  },
  {
   "cell_type": "code",
   "execution_count": 330,
   "metadata": {},
   "outputs": [
    {
     "name": "stdout",
     "output_type": "stream",
     "text": [
      "24.836180210113525\n"
     ]
    },
    {
     "data": {
      "text/plain": [
       "Counter({'offspring': 3.056461811065674,\n",
       "         'generation': 21.168840169906616,\n",
       "         'mutate': 0.3959167003631592})"
      ]
     },
     "execution_count": 330,
     "metadata": {},
     "output_type": "execute_result"
    }
   ],
   "source": [
    "import time\n",
    "import collections\n",
    "\n",
    "\n",
    "PROFILER = collections.Counter()\n",
    "\n",
    "\n",
    "def fitness(chromosome):\n",
    "    return cohesion_separation(chromosome, jaccard_similarity, doc)\n",
    "\n",
    "cv = CountVectorizer(stop_words='english')\n",
    "sents_lower = tokenize.sent_tokenize(text.lower())\n",
    "# sents_lower = [t.strip() for t in tokenize.line_tokenize(text.lower())]\n",
    "vec = cv.fit_transform(sents_lower)\n",
    "doc = vec.toarray().astype(bool).astype(int)\n",
    "\n",
    "ratio = 0.1\n",
    "\n",
    "t0 = time.time()\n",
    "pop = run_iterations(pop_size=100, summ_len=ratio, num_sents=len(doc), \n",
    "                     func=fitness, lam=0.9, cr=0.5, iterations=1000, verbose=False, seed=0)\n",
    "t1 = time.time()\n",
    "print(t1-t0)\n",
    "\n",
    "\n",
    "chrom_best = best_chromosome(pop)\n",
    "idxs = central_sentences(chrom_best, doc)\n",
    "#: 2018 article[999] -- gay skier winter olympics -> no lower() causes wierd sentence breaks that throw off summary\n",
    "# sents_norm = tokenize.sent_tokenize(text)\n",
    "summ_evol = '\\n'.join(np.array(sents_lower)[idxs])\n",
    "\n",
    "PROFILER"
   ]
  },
  {
   "cell_type": "code",
   "execution_count": 327,
   "metadata": {},
   "outputs": [
    {
     "name": "stdout",
     "output_type": "stream",
     "text": [
      "Grassley, who joined Trump at the White House for Wednesday's announcement, has been working with Sen. Dick Durbin, D-Ill., and others to put forward legislation that addresses sentencing and changes prison policies.\n",
      "Trump's endorsement is critical for getting the Republican support necessary to get a bill passed during the lame-duck session, said Mark Holden, general counsel to Koch Industries, which has been pushing for the changes.\n",
      "In a tweet after the announcement, the president said members of the House and Senate \"have poured their time, heart and energy into the crucial issue.\"\n"
     ]
    }
   ],
   "source": [
    "# get the uppercase correct\n",
    "summ_evol = []\n",
    "for sent in np.array(sents_lower)[idxs]:\n",
    "    start = text.lower().index(sent)\n",
    "    stop = start + len(sent)\n",
    "    summ_evol.append(text[start:stop])\n",
    "summ_evol = '\\n'.join(summ_evol)\n",
    "print(summ_evol)"
   ]
  },
  {
   "cell_type": "code",
   "execution_count": 323,
   "metadata": {},
   "outputs": [
    {
     "name": "stdout",
     "output_type": "stream",
     "text": [
      "Grassley, who joined Trump at the White House for Wednesday's announcement, has been working with Sen. Dick Durbin, D-Ill., and others to put forward legislation that addresses sentencing and changes prison policies.\n",
      "Trump's endorsement is critical for getting the Republican support necessary to get a bill passed during the lame-duck session, said Mark Holden, general counsel to Koch Industries, which has been pushing for the changes.\n",
      "In a tweet after the announcement, the president said members of the House and Senate \"have poured their time, heart and energy into the crucial issue.\"\n"
     ]
    }
   ],
   "source": [
    "# get the uppercase correct\n",
    "summ_evol = []\n",
    "for sent in np.array(sents_lower)[idxs]:\n",
    "    start = text.lower().index(sent)\n",
    "    stop = start + len(sent)\n",
    "    summ_evol.append(text[start:stop])\n",
    "summ_evol = '\\n'.join(summ_evol)\n",
    "print(summ_evol)"
   ]
  },
  {
   "cell_type": "code",
   "execution_count": 234,
   "metadata": {},
   "outputs": [],
   "source": [
    "def scores(n, y_pred):\n",
    "    for i in range(1, n+1):\n",
    "        score = rouge_n(i, y_pred, summ_true)\n",
    "        print(i, score)"
   ]
  },
  {
   "cell_type": "code",
   "execution_count": 235,
   "metadata": {},
   "outputs": [
    {
     "name": "stdout",
     "output_type": "stream",
     "text": [
      "evolutionary\n",
      "1 0.8571428571428571\n",
      "2 0.7222222222222222\n",
      "3 0.3735632183908046\n"
     ]
    }
   ],
   "source": [
    "print('evolutionary')\n",
    "scores(3, summ_evol)"
   ]
  },
  {
   "cell_type": "code",
   "execution_count": 236,
   "metadata": {},
   "outputs": [
    {
     "name": "stdout",
     "output_type": "stream",
     "text": [
      "gensim\n",
      "1 0.8857142857142857\n",
      "2 0.7142857142857143\n",
      "3 0.367816091954023\n"
     ]
    }
   ],
   "source": [
    "import gensim\n",
    "\n",
    "summ_gensim = gensim.summarization.summarize(text, ratio=ratio)\n",
    "print('gensim')\n",
    "scores(3, summ_gensim)"
   ]
  },
  {
   "cell_type": "code",
   "execution_count": 237,
   "metadata": {},
   "outputs": [
    {
     "name": "stdout",
     "output_type": "stream",
     "text": [
      "The vice speaker of Iran's parliament also told reporters that the U.S. withdrawal from the 2015 deal, known as the Joint Comprehensive Plan of Action, made new negotiations a nonstarter.\n",
      "Kenyon reports that Rouhani himself — who has not publicly responded to the invitation — told parliament that the U.S. has proven it doesn't keep its promises and that Iran will protect its right to export oil, which is the target of U.S. sanctions.\n"
     ]
    }
   ],
   "source": [
    "print(summ_gensim)"
   ]
  },
  {
   "cell_type": "code",
   "execution_count": 238,
   "metadata": {},
   "outputs": [
    {
     "name": "stdout",
     "output_type": "stream",
     "text": [
      "sumy - text rank\n",
      "1 0.8571428571428571\n",
      "2 0.7063492063492064\n",
      "3 0.3620689655172414\n",
      "\n",
      "sumy - lex rank\n",
      "1 0.8\n",
      "2 0.6587301587301587\n",
      "3 0.39655172413793105\n"
     ]
    }
   ],
   "source": [
    "import string\n",
    "\n",
    "from sumy.parsers.plaintext import PlaintextParser\n",
    "from sumy.summarizers.lex_rank import LexRankSummarizer\n",
    "from sumy.summarizers.text_rank import TextRankSummarizer\n",
    "from sumy.nlp.tokenizers import Tokenizer\n",
    "\n",
    "\n",
    "\n",
    "def format_sumy(sumy_summary):\n",
    "    return ''.join(char for sent in sumy_summary for char in str(sent) if char in string.printable)\n",
    "\n",
    "parser = PlaintextParser(text, Tokenizer('english'))\n",
    "\n",
    "text_rank = TextRankSummarizer()\n",
    "summ_text_rank = format_sumy(text_rank(parser.document, len(idxs)))\n",
    "print('sumy - text rank')\n",
    "scores(3, summ_text_rank)\n",
    "\n",
    "print()\n",
    "\n",
    "lex_rank = LexRankSummarizer()\n",
    "summ_lex_rank = format_sumy(lex_rank(parser.document, len(idxs)))\n",
    "print('sumy - lex rank')\n",
    "scores(3, summ_lex_rank)"
   ]
  },
  {
   "cell_type": "code",
   "execution_count": 239,
   "metadata": {},
   "outputs": [
    {
     "name": "stdout",
     "output_type": "stream",
     "text": [
      "Last week, after Rouhani said that \"peace with Iran is the mother of all peace, and war with Iran is the mother of all wars,\" Trump responded with an all-caps, late-night tweet warning of \"CONSEQUENCES THE LIKES OF WHICH FEW THROUGHOUT HISTORY HAVE EVER SUFFERED BEFORE\" if Iran should \"THREATEN THE UNITED STATES AGAIN.\"Kenyon reports that Rouhani himself  who has not publicly responded to the invitation  told parliament that the U.S. has proven it doesn't keep its promises and that Iran will protect its right to export oil, which is the target of U.S. sanctions.\n"
     ]
    }
   ],
   "source": [
    "print(summ_text_rank)"
   ]
  },
  {
   "cell_type": "code",
   "execution_count": 240,
   "metadata": {},
   "outputs": [
    {
     "name": "stdout",
     "output_type": "stream",
     "text": [
      "Kenyon reports that Rouhani himself  who has not publicly responded to the invitation  told parliament that the U.S. has proven it doesn't keep its promises and that Iran will protect its right to export oil, which is the target of U.S. sanctions.Kenyon says there will be some pressure on Iran to negotiate with the U.S.  but he puts that in perspective.\n"
     ]
    }
   ],
   "source": [
    "print(summ_lex_rank)"
   ]
  },
  {
   "cell_type": "code",
   "execution_count": null,
   "metadata": {},
   "outputs": [],
   "source": []
  },
  {
   "cell_type": "code",
   "execution_count": null,
   "metadata": {},
   "outputs": [],
   "source": []
  },
  {
   "cell_type": "code",
   "execution_count": null,
   "metadata": {},
   "outputs": [],
   "source": []
  }
 ],
 "metadata": {
  "kernelspec": {
   "display_name": "Python 3",
   "language": "python",
   "name": "python3"
  },
  "language_info": {
   "codemirror_mode": {
    "name": "ipython",
    "version": 3
   },
   "file_extension": ".py",
   "mimetype": "text/x-python",
   "name": "python",
   "nbconvert_exporter": "python",
   "pygments_lexer": "ipython3",
   "version": "3.7.2"
  }
 },
 "nbformat": 4,
 "nbformat_minor": 2
}
