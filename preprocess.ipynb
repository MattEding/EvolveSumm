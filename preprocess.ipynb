{
 "cells": [
  {
   "cell_type": "code",
   "execution_count": 1,
   "metadata": {},
   "outputs": [],
   "source": [
    "import collections\n",
    "import pathlib\n",
    "\n",
    "\n",
    "def extract(path):\n",
    "    with open(path) as fp:\n",
    "        lines = iter(fp.readlines()[:-1])\n",
    "        line = next(lines)\n",
    "        while line != 'Abstract:\\n':\n",
    "            line = next(lines)\n",
    "        \n",
    "        abstract = []\n",
    "        while line != 'Introduction:\\n':\n",
    "            line = next(lines)\n",
    "            abstract.append(line)\n",
    "        \n",
    "        original = [line for line in lines]\n",
    "        return ''.join(abstract).strip(), ''.join(original).strip()\n",
    "\n",
    "\n",
    "    \n",
    "cwd = pathlib.Path.cwd()\n",
    "path = cwd / 'data' / 'duc_2001_summaries'\n",
    "\n",
    "abstracts = []\n",
    "originals = []\n",
    "for article in path.iterdir():\n",
    "    try:\n",
    "        abst, orig = extract(article)\n",
    "        if len(abst.split()) < 10 or len(orig.split()) < 10:\n",
    "            continue\n",
    "    except StopIteration:\n",
    "        continue\n",
    "    else:\n",
    "        abstracts.append(abst)\n",
    "        originals.append(orig)"
   ]
  },
  {
   "cell_type": "code",
   "execution_count": 15,
   "metadata": {},
   "outputs": [
    {
     "data": {
      "text/plain": [
       "'\"Mad cow disease\" (bovine spongiform encephalopathy or BSE), has been found in Britain\\'s sparsely scattered antelope population, including elands, kuru and an Arabian oryx. In all, six species other than cattle have been confirmed with the disease over the past three years. There has also been a pronounced increase in the number of sheep affected by the ovine form of the disease (\"scrapie\") with 894 cases diagnosed in 1991 compared to just 348 in 1990. Since 1989 the condition has been confirmed in 23 cats and 29 goats. There is not sufficient data to conclude how the disease is spread.\\nIntroduction:'"
      ]
     },
     "execution_count": 15,
     "metadata": {},
     "output_type": "execute_result"
    }
   ],
   "source": [
    "abstracts[1]"
   ]
  },
  {
   "cell_type": "code",
   "execution_count": 16,
   "metadata": {},
   "outputs": [
    {
     "data": {
      "text/plain": [
       "\"THE CONDITION known in cattle as 'mad cow disease', spongiform\\nencephalopathies, has been found in Britain's sparsely-scattered antelope\\npopulation, the government has admitted.\\nThree elands, three greater kudu and an arabian oryx have been diagnosed\\nwith the disease over the past three years. In all, six species other than\\ncattle have been confirmed with the condition during this period.\\nThe statistics - released in response to a written question from Mr Ron\\nDavies, a Labour agriculture spokesman - show a disconcertingly rapid\\nincrease in the number of sheep found to have the disease.\\nA total of 894 cases of sheep encephalopathies or 'scrapie' were diagnosed\\nin 1991, versus just 348 a year-earlier. However, the government states in a\\nfootnote to the table that the reporting of scrapie in sheep has been\\nencouraged since 1991 'to obtain material for spongiform encephalopathy\\nresearch'.\\nSince 1989, the condition has also been confirmed in 23 cats and 29 goats.\\nMr David Maclean, junior agriculture minister, stressed that naturally\\noccurring spongiform encephalopathies in species other than cattle were not\\nnotifiable diseases.\\nHe said there was 'insufficient epidemiological data' to 'draw firm\\nconclusions' as to how the disease might have been contracted in cases other\\nthan scrapie.\\nScrapie, he said, was considered to be transmissible 'both maternally and\\nhorizontally'.\""
      ]
     },
     "execution_count": 16,
     "metadata": {},
     "output_type": "execute_result"
    }
   ],
   "source": [
    "originals[1]"
   ]
  },
  {
   "cell_type": "code",
   "execution_count": 25,
   "metadata": {},
   "outputs": [
    {
     "data": {
      "text/plain": [
       "Counter({6: 91, 7: 81, 5: 57, 8: 40, 4: 15, 9: 12, 2: 1, 3: 1})"
      ]
     },
     "execution_count": 25,
     "metadata": {},
     "output_type": "execute_result"
    }
   ],
   "source": [
    "from nltk import tokenize\n",
    "sents = collections.Counter([len(tokenize.sent_tokenize(ab)) for ab in abstracts])\n",
    "sents"
   ]
  },
  {
   "cell_type": "code",
   "execution_count": 31,
   "metadata": {},
   "outputs": [
    {
     "data": {
      "text/plain": [
       "[(6, 1),\n",
       " (7, 1),\n",
       " (8, 5),\n",
       " (10, 1),\n",
       " (11, 4),\n",
       " (12, 7),\n",
       " (13, 9),\n",
       " (14, 4),\n",
       " (15, 5),\n",
       " (16, 6),\n",
       " (17, 10),\n",
       " (18, 8),\n",
       " (19, 1),\n",
       " (20, 5),\n",
       " (21, 9),\n",
       " (22, 16),\n",
       " (23, 8),\n",
       " (24, 9),\n",
       " (25, 5),\n",
       " (26, 7),\n",
       " (27, 7),\n",
       " (28, 3),\n",
       " (29, 3),\n",
       " (30, 4),\n",
       " (31, 5),\n",
       " (32, 8),\n",
       " (33, 5),\n",
       " (34, 5),\n",
       " (35, 10),\n",
       " (36, 1),\n",
       " (37, 4),\n",
       " (38, 5),\n",
       " (39, 4),\n",
       " (40, 6),\n",
       " (41, 5),\n",
       " (42, 6),\n",
       " (43, 4),\n",
       " (44, 6),\n",
       " (45, 6),\n",
       " (46, 5),\n",
       " (47, 2),\n",
       " (48, 2),\n",
       " (49, 3),\n",
       " (50, 4),\n",
       " (51, 5),\n",
       " (52, 3),\n",
       " (53, 4),\n",
       " (54, 2),\n",
       " (55, 4),\n",
       " (56, 4),\n",
       " (57, 3),\n",
       " (58, 1),\n",
       " (59, 5),\n",
       " (60, 1),\n",
       " (62, 1),\n",
       " (63, 2),\n",
       " (64, 1),\n",
       " (65, 1),\n",
       " (70, 4),\n",
       " (72, 1),\n",
       " (73, 2),\n",
       " (74, 1),\n",
       " (78, 1),\n",
       " (80, 1),\n",
       " (84, 1),\n",
       " (90, 2),\n",
       " (91, 1),\n",
       " (95, 2),\n",
       " (96, 2),\n",
       " (97, 1),\n",
       " (103, 1),\n",
       " (106, 1),\n",
       " (109, 1),\n",
       " (117, 1),\n",
       " (120, 1),\n",
       " (123, 1),\n",
       " (124, 1),\n",
       " (227, 1)]"
      ]
     },
     "execution_count": 31,
     "metadata": {},
     "output_type": "execute_result"
    }
   ],
   "source": [
    "sents = collections.Counter([len(tokenize.sent_tokenize(orig)) for orig in originals])\n",
    "sorted(sents.items())"
   ]
  },
  {
   "cell_type": "code",
   "execution_count": 28,
   "metadata": {},
   "outputs": [
    {
     "data": {
      "text/plain": [
       "10"
      ]
     },
     "execution_count": 28,
     "metadata": {},
     "output_type": "execute_result"
    }
   ],
   "source": [
    "len(tokenize.sent_tokenize(originals[1]))"
   ]
  },
  {
   "cell_type": "code",
   "execution_count": null,
   "metadata": {},
   "outputs": [],
   "source": []
  }
 ],
 "metadata": {
  "kernelspec": {
   "display_name": "Python 3",
   "language": "python",
   "name": "python3"
  },
  "language_info": {
   "codemirror_mode": {
    "name": "ipython",
    "version": 3
   },
   "file_extension": ".py",
   "mimetype": "text/x-python",
   "name": "python",
   "nbconvert_exporter": "python",
   "pygments_lexer": "ipython3",
   "version": "3.7.2"
  }
 },
 "nbformat": 4,
 "nbformat_minor": 2
}
