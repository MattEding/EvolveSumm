{
 "cells": [
  {
   "cell_type": "code",
   "execution_count": 1,
   "metadata": {},
   "outputs": [],
   "source": [
    "import numpy as np"
   ]
  },
  {
   "cell_type": "code",
   "execution_count": 2,
   "metadata": {},
   "outputs": [],
   "source": [
    "def mutate(pop, rand):\n",
    "    mask = rand < sigmoid(pop)\n",
    "    idxs = np.nonzero(mask)\n",
    "    #: reverse indices for each row\n",
    "    rev = np.vstack(idxs).T\n",
    "    rev = np.array(sorted(rev, key=lambda x: (x[0], -x[1])))\n",
    "    rev = tuple(np.split(rev.T, 2))\n",
    "    pop[idxs] = pop[rev]\n",
    "    return"
   ]
  },
  {
   "cell_type": "code",
   "execution_count": 6,
   "metadata": {},
   "outputs": [
    {
     "data": {
      "text/plain": [
       "array([[ 0,  1,  2,  3],\n",
       "       [ 4,  5,  6,  7],\n",
       "       [ 8,  9, 10, 11],\n",
       "       [12, 13, 14, 15]])"
      ]
     },
     "execution_count": 6,
     "metadata": {},
     "output_type": "execute_result"
    }
   ],
   "source": [
    "pop = np.arange(16).reshape(-1, 4)\n",
    "pop"
   ]
  },
  {
   "cell_type": "code",
   "execution_count": 7,
   "metadata": {},
   "outputs": [
    {
     "data": {
      "text/plain": [
       "array([[ True,  True, False, False],\n",
       "       [False,  True, False,  True],\n",
       "       [False, False,  True, False],\n",
       "       [False,  True,  True,  True]])"
      ]
     },
     "execution_count": 7,
     "metadata": {},
     "output_type": "execute_result"
    }
   ],
   "source": [
    "mask = np.array([[True, True, False, False],\n",
    "                 [False, True, False, True],\n",
    "                 [False, False, True, False],\n",
    "                 [False, True, True, True]])\n",
    "mask"
   ]
  },
  {
   "cell_type": "code",
   "execution_count": 99,
   "metadata": {},
   "outputs": [
    {
     "name": "stdout",
     "output_type": "stream",
     "text": [
      "9.76 µs ± 151 ns per loop (mean ± std. dev. of 7 runs, 100000 loops each)\n"
     ]
    }
   ],
   "source": [
    "%%timeit\n",
    "idxs = np.nonzero(mask)\n",
    "arr = np.array(idxs)\n",
    "sorter = np.lexsort((-arr[1], arr[0]))\n",
    "rev = arr.T[sorter].T\n",
    "pop[idxs] = pop[(rev[0], rev[1])]"
   ]
  },
  {
   "cell_type": "code",
   "execution_count": 100,
   "metadata": {},
   "outputs": [
    {
     "name": "stdout",
     "output_type": "stream",
     "text": [
      "20.3 µs ± 258 ns per loop (mean ± std. dev. of 7 runs, 10000 loops each)\n"
     ]
    }
   ],
   "source": [
    "%%timeit\n",
    "idxs = np.nonzero(mask)\n",
    "arr = np.array(idxs)\n",
    "sorter = np.lexsort((-arr[1], arr[0]))\n",
    "rev = arr.T[sorter].T\n",
    "pop[idxs] = pop[tuple(np.split(rev, 2))]"
   ]
  },
  {
   "cell_type": "code",
   "execution_count": 79,
   "metadata": {},
   "outputs": [
    {
     "name": "stdout",
     "output_type": "stream",
     "text": [
      "23.6 µs ± 239 ns per loop (mean ± std. dev. of 7 runs, 10000 loops each)\n"
     ]
    }
   ],
   "source": [
    "%%timeit\n",
    "idxs = np.nonzero(mask)\n",
    "stack = np.vstack(idxs)\n",
    "sorter = np.lexsort((-stack[1,:], stack[0,:]))\n",
    "rev = stack.T[sorter].T\n",
    "pop[idxs] = pop[tuple(np.split(rev, 2))]"
   ]
  },
  {
   "cell_type": "code",
   "execution_count": 72,
   "metadata": {},
   "outputs": [
    {
     "name": "stdout",
     "output_type": "stream",
     "text": [
      "27.8 µs ± 244 ns per loop (mean ± std. dev. of 7 runs, 10000 loops each)\n"
     ]
    }
   ],
   "source": [
    "%%timeit\n",
    "idxs = np.nonzero(mask)\n",
    "rev = np.vstack(idxs).T\n",
    "rev = np.array(sorted(rev, key=lambda x: (x[0], -x[1])))\n",
    "rev = tuple(np.split(rev.T, 2))\n",
    "pop[idxs] = pop[rev]\n",
    "pop"
   ]
  },
  {
   "cell_type": "code",
   "execution_count": null,
   "metadata": {},
   "outputs": [],
   "source": []
  }
 ],
 "metadata": {
  "kernelspec": {
   "display_name": "Python 3",
   "language": "python",
   "name": "python3"
  },
  "language_info": {
   "codemirror_mode": {
    "name": "ipython",
    "version": 3
   },
   "file_extension": ".py",
   "mimetype": "text/x-python",
   "name": "python",
   "nbconvert_exporter": "python",
   "pygments_lexer": "ipython3",
   "version": "3.6.8"
  }
 },
 "nbformat": 4,
 "nbformat_minor": 2
}
