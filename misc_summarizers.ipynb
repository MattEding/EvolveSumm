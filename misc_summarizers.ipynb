{
 "cells": [
  {
   "cell_type": "code",
   "execution_count": 20,
   "metadata": {},
   "outputs": [],
   "source": [
    "import json\n",
    "import pathlib\n",
    "\n",
    "import gensim\n",
    "\n",
    "from sumy.parsers.plaintext import PlaintextParser\n",
    "from sumy.summarizers.lex_rank import LexRankSummarizer\n",
    "from sumy.summarizers.text_rank import TextRankSummarizer\n",
    "from sumy.nlp.tokenizers import Tokenizer"
   ]
  },
  {
   "cell_type": "code",
   "execution_count": 12,
   "metadata": {},
   "outputs": [],
   "source": [
    "year = str(2010)\n",
    "jsons = pathlib.Path.cwd() / 'data' / 'jsons'\n",
    "json_year = jsons / year / f'{year}.json'\n",
    "\n",
    "with open(json_year) as fp:\n",
    "    dict_year = json.load(fp)[year]\n",
    "    \n",
    "article = dict_year[42]\n",
    "story = article['story']\n",
    "summary = article['summary'].strip()"
   ]
  },
  {
   "cell_type": "markdown",
   "metadata": {},
   "source": [
    "# Existing Summary"
   ]
  },
  {
   "cell_type": "code",
   "execution_count": 13,
   "metadata": {},
   "outputs": [
    {
     "name": "stdout",
     "output_type": "stream",
     "text": [
      "At a Friday Mass in St. Peter's Square, Pope Benedict XVI promised to \"do everything possible\" to ensure that prelates don't rape or molest children ever again. But the statement did not satisfy abuse victims groups, who are demanding more accountability from the church.\n"
     ]
    }
   ],
   "source": [
    "print(summary)"
   ]
  },
  {
   "cell_type": "markdown",
   "metadata": {},
   "source": [
    "# Gensim"
   ]
  },
  {
   "cell_type": "markdown",
   "metadata": {},
   "source": [
    "### TextRank"
   ]
  },
  {
   "cell_type": "code",
   "execution_count": 26,
   "metadata": {},
   "outputs": [
    {
     "name": "stdout",
     "output_type": "stream",
     "text": [
      "But he also said that in this year of joy, \"the sins of priests came to light -- particularly the abuse of little ones.\"‬‪‬‪ Benedict said that from now on, the Roman Catholic Church will do everything it can to screen men seeking to join the priesthood to determine the authenticity of their vocation.‬‪‬‪ The pledges were similar to ones he reportedly made in a private encounter with abuse victims in Malta in April.‬‪\n"
     ]
    }
   ],
   "source": [
    "summ = gensim.summarization.summarize(story, split=False, word_count=50, ratio=None)\n",
    "print(summ)"
   ]
  },
  {
   "cell_type": "markdown",
   "metadata": {},
   "source": [
    "# Sumy "
   ]
  },
  {
   "cell_type": "code",
   "execution_count": 21,
   "metadata": {},
   "outputs": [],
   "source": [
    "parser = PlaintextParser(story, Tokenizer('english'))"
   ]
  },
  {
   "cell_type": "markdown",
   "metadata": {},
   "source": [
    "### TextRank"
   ]
  },
  {
   "cell_type": "code",
   "execution_count": 27,
   "metadata": {},
   "outputs": [
    {
     "name": "stdout",
     "output_type": "stream",
     "text": [
      "(<Sentence: Pope Benedict XVI asked for forgiveness Friday from God and victims of pedophile priests and said he would do everything possible to ensure that minors will never again be molested by priests.‬‪>, <Sentence: \"‬‪‬‪ Benedict said that from now on, the Roman Catholic Church will do everything it can to screen men seeking to join the priesthood to determine the authenticity of their vocation.‬‪‬‪ The pledges were similar to ones he reportedly made in a private encounter with abuse victims in Malta in April.‬‪>)\n"
     ]
    }
   ],
   "source": [
    "lex_rank = LexRankSummarizer()\n",
    "summ = lex_rank(parser.document, 2)\n",
    "print(summ)"
   ]
  },
  {
   "cell_type": "markdown",
   "metadata": {},
   "source": [
    "### LexRank"
   ]
  },
  {
   "cell_type": "code",
   "execution_count": 25,
   "metadata": {},
   "outputs": [
    {
     "name": "stdout",
     "output_type": "stream",
     "text": [
      "(<Sentence: \"‬‪‬‪ Benedict said that from now on, the Roman Catholic Church will do everything it can to screen men seeking to join the priesthood to determine the authenticity of their vocation.‬‪‬‪ The pledges were similar to ones he reportedly made in a private encounter with abuse victims in Malta in April.‬‪>, <Sentence: Benedict called celibacy a great sign of faith and said it represents an act of transcendence that brings the priest closer to God.‬‪‬‪ The Catholic Church has denied that celibacy is one of the causes of child abuse in the priesthood -- but even some leading cardinals have begun to question the requirement and are urging an open debate on the topic.‬‪>)\n"
     ]
    }
   ],
   "source": [
    "text_rank = TextRankSummarizer()\n",
    "summ = text_rank(parser.document, 2)\n",
    "print(summ)"
   ]
  },
  {
   "cell_type": "code",
   "execution_count": null,
   "metadata": {},
   "outputs": [],
   "source": []
  }
 ],
 "metadata": {
  "kernelspec": {
   "display_name": "Python 3",
   "language": "python",
   "name": "python3"
  },
  "language_info": {
   "codemirror_mode": {
    "name": "ipython",
    "version": 3
   },
   "file_extension": ".py",
   "mimetype": "text/x-python",
   "name": "python",
   "nbconvert_exporter": "python",
   "pygments_lexer": "ipython3",
   "version": "3.6.8"
  }
 },
 "nbformat": 4,
 "nbformat_minor": 2
}
