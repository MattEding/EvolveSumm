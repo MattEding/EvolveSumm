{
 "cells": [
  {
   "cell_type": "code",
   "execution_count": 1,
   "metadata": {},
   "outputs": [],
   "source": [
    "import collections\n",
    "import json\n",
    "import pathlib\n",
    "import shutil\n",
    "import zipfile"
   ]
  },
  {
   "cell_type": "code",
   "execution_count": 2,
   "metadata": {},
   "outputs": [
    {
     "data": {
      "text/plain": [
       "[(0,\n",
       "  PosixPath('/Users/matteding/Desktop/Summarizer/data/jsons/2013-01-01__2013-12-31.json')),\n",
       " (1,\n",
       "  PosixPath('/Users/matteding/Desktop/Summarizer/data/jsons/2014-01-01__2014-12-31.json')),\n",
       " (2,\n",
       "  PosixPath('/Users/matteding/Desktop/Summarizer/data/jsons/2016-01-01__2016-12-31.json')),\n",
       " (3,\n",
       "  PosixPath('/Users/matteding/Desktop/Summarizer/data/jsons/2015-01-01__2015-12-31.json')),\n",
       " (4,\n",
       "  PosixPath('/Users/matteding/Desktop/Summarizer/data/jsons/2014-02-09__2014-12-31.json')),\n",
       " (5,\n",
       "  PosixPath('/Users/matteding/Desktop/Summarizer/data/jsons/2013-06-16__2013-12-31.json'))]"
      ]
     },
     "execution_count": 2,
     "metadata": {},
     "output_type": "execute_result"
    }
   ],
   "source": [
    "jsons = pathlib.Path.cwd() / 'data' / 'jsons'\n",
    "js = list(p for p in jsons.iterdir() if p.name.endswith('json'))\n",
    "list(enumerate(js))"
   ]
  },
  {
   "cell_type": "code",
   "execution_count": 16,
   "metadata": {},
   "outputs": [],
   "source": [
    "file = js[0]\n",
    "\n",
    "with open(file) as fp:\n",
    "    dicts = []\n",
    "    for line in fp.readlines():\n",
    "        dct = json.loads(line)\n",
    "        dicts.append(dct)\n",
    "        \n",
    "with open(file) as fp:\n",
    "    lines = fp.readlines()"
   ]
  },
  {
   "cell_type": "code",
   "execution_count": 11,
   "metadata": {},
   "outputs": [
    {
     "data": {
      "text/plain": [
       "(1917, 0)"
      ]
     },
     "execution_count": 11,
     "metadata": {},
     "output_type": "execute_result"
    }
   ],
   "source": [
    "has_story = [d for d in dicts if d['story']]\n",
    "no_story = [d for d in dicts if not d['story']] # one known was simply a map; see Jan/Feb 2010\n",
    "len(has_story), len(no_story)"
   ]
  },
  {
   "cell_type": "code",
   "execution_count": 9,
   "metadata": {},
   "outputs": [
    {
     "data": {
      "text/plain": [
       "(1841, 76)"
      ]
     },
     "execution_count": 9,
     "metadata": {},
     "output_type": "execute_result"
    }
   ],
   "source": [
    "counter = collections.Counter(lines)\n",
    "dupes = [json.loads(k) for k, v in counter.items() if v > 1]\n",
    "dupes = [(j['date'], j['title']) for j in dupes]\n",
    "len(counter), len(dupes)"
   ]
  },
  {
   "cell_type": "markdown",
   "metadata": {},
   "source": [
    "### Merge Year"
   ]
  },
  {
   "cell_type": "code",
   "execution_count": 13,
   "metadata": {},
   "outputs": [
    {
     "data": {
      "text/plain": [
       "5207"
      ]
     },
     "execution_count": 13,
     "metadata": {},
     "output_type": "execute_result"
    }
   ],
   "source": [
    "year = str(2018)\n",
    "unique = set()\n",
    "\n",
    "for path in (j for j in (jsons / year).iterdir() if j.name.endswith('json') and '_' in j.name):\n",
    "    with open(path) as fp:\n",
    "        unique.update(fp.readlines())\n",
    "        \n",
    "dicts = [json.loads(article) for article in unique]\n",
    "merged = {year: [d for d in dicts if d['story']]}\n",
    "filepath = jsons / year / f'{year}.json'\n",
    "with open(filepath, 'w') as fp:\n",
    "    json.dump(merged, fp)\n",
    "\n",
    "len(merged[year])"
   ]
  },
  {
   "cell_type": "markdown",
   "metadata": {},
   "source": [
    "### Compress Year"
   ]
  },
  {
   "cell_type": "code",
   "execution_count": 14,
   "metadata": {},
   "outputs": [],
   "source": [
    "file_to_zip = f'{year}.json'\n",
    "target_path = jsons / year\n",
    "\n",
    "compression = 'xztar'\n",
    "try:\n",
    "    shutil.make_archive(target_path / year, compression, target_path, file_to_zip)\n",
    "except OSError:\n",
    "    raise"
   ]
  },
  {
   "cell_type": "markdown",
   "metadata": {},
   "source": [
    "### Null-Story"
   ]
  },
  {
   "cell_type": "code",
   "execution_count": 30,
   "metadata": {},
   "outputs": [
    {
     "data": {
      "text/plain": [
       "[{'date': 'March 2, 2010 ',\n",
       "  'title': 'Interactive Map: U.S. Rates Of Child Abuse Fatalities',\n",
       "  'author': None,\n",
       "  'summary': ' Using data from a report by the Department of Health and Human Services, Administration for Children & Families, this map chronicles child fatalities by maltreatment in most states. However, state data on child fatality from maltreatment is difficult to compare: There is no federal definition of child abuse, so cases are interpreted differently.',\n",
       "  'story': ''}]"
      ]
     },
     "execution_count": 30,
     "metadata": {},
     "output_type": "execute_result"
    }
   ],
   "source": [
    "[d for d in dicts if not d.get('story')]"
   ]
  },
  {
   "cell_type": "code",
   "execution_count": null,
   "metadata": {},
   "outputs": [],
   "source": []
  }
 ],
 "metadata": {
  "kernelspec": {
   "display_name": "Python 3",
   "language": "python",
   "name": "python3"
  },
  "language_info": {
   "codemirror_mode": {
    "name": "ipython",
    "version": 3
   },
   "file_extension": ".py",
   "mimetype": "text/x-python",
   "name": "python",
   "nbconvert_exporter": "python",
   "pygments_lexer": "ipython3",
   "version": "3.6.8"
  }
 },
 "nbformat": 4,
 "nbformat_minor": 2
}
