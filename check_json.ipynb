{
 "cells": [
  {
   "cell_type": "code",
   "execution_count": 15,
   "metadata": {},
   "outputs": [],
   "source": [
    "import collections\n",
    "import json\n",
    "import pathlib"
   ]
  },
  {
   "cell_type": "code",
   "execution_count": 16,
   "metadata": {},
   "outputs": [
    {
     "data": {
      "text/plain": [
       "[(0,\n",
       "  PosixPath('/Users/matteding/Desktop/Summarizer/data/jsons/2013-01-01__2013-12-31.json')),\n",
       " (1,\n",
       "  PosixPath('/Users/matteding/Desktop/Summarizer/data/jsons/2014-01-01__2014-12-31.json')),\n",
       " (2,\n",
       "  PosixPath('/Users/matteding/Desktop/Summarizer/data/jsons/2014-02-09__2014-12-31.json')),\n",
       " (3,\n",
       "  PosixPath('/Users/matteding/Desktop/Summarizer/data/jsons/2013-06-16__2013-12-31.json'))]"
      ]
     },
     "execution_count": 16,
     "metadata": {},
     "output_type": "execute_result"
    }
   ],
   "source": [
    "jsons = pathlib.Path.cwd() / 'data' / 'jsons'\n",
    "js = list(p for p in jsons.iterdir() if p.name.endswith('json'))\n",
    "list(enumerate(js))"
   ]
  },
  {
   "cell_type": "code",
   "execution_count": 16,
   "metadata": {},
   "outputs": [],
   "source": [
    "file = js[0]\n",
    "\n",
    "with open(file) as fp:\n",
    "    dicts = []\n",
    "    for line in fp.readlines():\n",
    "        dct = json.loads(line)\n",
    "        dicts.append(dct)\n",
    "        \n",
    "with open(file) as fp:\n",
    "    lines = fp.readlines()"
   ]
  },
  {
   "cell_type": "code",
   "execution_count": 11,
   "metadata": {},
   "outputs": [
    {
     "data": {
      "text/plain": [
       "(1917, 0)"
      ]
     },
     "execution_count": 11,
     "metadata": {},
     "output_type": "execute_result"
    }
   ],
   "source": [
    "has_story = [d for d in dicts if d['story']]\n",
    "no_story = [d for d in dicts if not d['story']] # one known was simply a map; see Jan/Feb 2010\n",
    "len(has_story), len(no_story)"
   ]
  },
  {
   "cell_type": "code",
   "execution_count": 9,
   "metadata": {},
   "outputs": [
    {
     "data": {
      "text/plain": [
       "(1841, 76)"
      ]
     },
     "execution_count": 9,
     "metadata": {},
     "output_type": "execute_result"
    }
   ],
   "source": [
    "counter = collections.Counter(lines)\n",
    "dupes = [json.loads(k) for k, v in counter.items() if v > 1]\n",
    "dupes = [(j['date'], j['title']) for j in dupes]\n",
    "len(counter), len(dupes)"
   ]
  },
  {
   "cell_type": "markdown",
   "metadata": {},
   "source": [
    "### Merge 2010"
   ]
  },
  {
   "cell_type": "code",
   "execution_count": 17,
   "metadata": {},
   "outputs": [
    {
     "data": {
      "text/plain": [
       "[(0,\n",
       "  PosixPath('/Users/matteding/Desktop/PyNotes/data/jsons/2010/2010-08-26__2010-12-31.json')),\n",
       " (1,\n",
       "  PosixPath('/Users/matteding/Desktop/PyNotes/data/jsons/2010/2010-04-01__2010-12-31.json')),\n",
       " (2,\n",
       "  PosixPath('/Users/matteding/Desktop/PyNotes/data/jsons/2010/2010-02-01__2010-03-31.json')),\n",
       " (3,\n",
       "  PosixPath('/Users/matteding/Desktop/PyNotes/data/jsons/2010/2010-01-01__2010-01-01.json'))]"
      ]
     },
     "execution_count": 17,
     "metadata": {},
     "output_type": "execute_result"
    }
   ],
   "source": [
    "# jsons = jsons / '2010'\n",
    "# js = list(p for p in jsons.iterdir() if p.name.endswith('json'))\n",
    "# list(enumerate(js))"
   ]
  },
  {
   "cell_type": "code",
   "execution_count": 28,
   "metadata": {},
   "outputs": [],
   "source": [
    "year = str(2010)\n",
    "unique = set()\n",
    "\n",
    "for path in (j for j in (jsons / year).iterdir() if j.name.endswith('json') and '_' in j.name):\n",
    "    with open(path) as fp:\n",
    "        unique.update(fp.readlines())\n",
    "        \n",
    "dicts = [json.loads(article) for article in unique]\n",
    "merged = {year: [d for d in dicts if d['story']]}\n",
    "filepath = jsons / year / f'{year}.json'\n",
    "with open(filepath, 'w') as fp:\n",
    "    json.dump(merged, fp)"
   ]
  },
  {
   "cell_type": "code",
   "execution_count": 29,
   "metadata": {},
   "outputs": [
    {
     "data": {
      "text/plain": [
       "(4777, 4776)"
      ]
     },
     "execution_count": 29,
     "metadata": {},
     "output_type": "execute_result"
    }
   ],
   "source": [
    "len(unique), len(merged[year])"
   ]
  },
  {
   "cell_type": "code",
   "execution_count": 30,
   "metadata": {},
   "outputs": [
    {
     "data": {
      "text/plain": [
       "[{'date': 'March 2, 2010 ',\n",
       "  'title': 'Interactive Map: U.S. Rates Of Child Abuse Fatalities',\n",
       "  'author': None,\n",
       "  'summary': ' Using data from a report by the Department of Health and Human Services, Administration for Children & Families, this map chronicles child fatalities by maltreatment in most states. However, state data on child fatality from maltreatment is difficult to compare: There is no federal definition of child abuse, so cases are interpreted differently.',\n",
       "  'story': ''}]"
      ]
     },
     "execution_count": 30,
     "metadata": {},
     "output_type": "execute_result"
    }
   ],
   "source": [
    "[d for d in dicts if not d.get('story')]"
   ]
  },
  {
   "cell_type": "code",
   "execution_count": 40,
   "metadata": {},
   "outputs": [
    {
     "data": {
      "text/plain": [
       "{'date': 'October 15, 2010 ',\n",
       " 'title': 'Gates: Limited Damage From WikiLeaks Documents',\n",
       " 'author': 'NPR Staff and Wires',\n",
       " 'summary': ' In an Aug. 16 letter, the defense secretary said an initial Pentagon review showed the documents did not reveal any significant national intelligence secrets. But he conceded that the disclosure of the names of Afghan civilians with possible ties to the U.S. could pose a risk.',\n",
       " 'story': 'The Pentagon says the documents leaked by the WikiLeaks website in July do not jeopardize any U.S. intelligence or sensitive military operations.\\n\\nIn an Aug. 16 letter released to NPR, Defense Secretary Robert Gates responded to questions about the WikiLeaks documents raised by Sen. Carl Levin (D-MI), chairman of the Senate Armed Services Committee.\\n\\nGates said an initial Pentagon review showed the documents focused mostly on day-to-day military operations and did not reveal any significant national intelligence secrets.\\n\\nThe letter confirmed that the documents name Afghan civilians who may have ties to the U.S. military operation, and the Taliban threats made against some of those named. That, Gates said, is something that could pose a risk to U.S. national security interests.\\n\\nWikiLeaks, a self-described whistle-blower website, said it plans to release thousands of other documents. Gates, in the letter, said the Pentagon is developing a plan to deal with that possibility.\\n\\nThe website is believed to be preparing to release classified Pentagon documents on the Iraq war as early as Sunday.\\n\\nQuestions persist about whether the disclosure of nearly 77,000 secret documents undermined U.S. officials\\' ability to maintain the allegiance of allies and people from other countries who take risks to cooperate with the U.S.\\n\\n\"The mere fact of the disclosure erodes confidence in the ability of the military to keep secrets,\" said Steven Aftergood, whose Secrecy News blog tracks trends in government openness. \"And that can have subtle but real effects on recruitment of sources and on maintenance of relationships with individuals and with other security services.\"\\n\\nMilitary investigators say Army Pfc. Bradley Manning, who served as an intelligence specialist in Baghdad, is a person of interest in the investigation into who provided the Afghan war logs to WikiLeaks.\\n\\nNPR\\'s Rachel Martin contributed to this report, which also includes material from The Associated Press'}"
      ]
     },
     "execution_count": 40,
     "metadata": {},
     "output_type": "execute_result"
    }
   ],
   "source": [
    "merged[year][4]"
   ]
  },
  {
   "cell_type": "code",
   "execution_count": 7,
   "metadata": {},
   "outputs": [],
   "source": [
    "import shutil\n",
    "import zipfile"
   ]
  },
  {
   "cell_type": "code",
   "execution_count": 14,
   "metadata": {},
   "outputs": [],
   "source": [
    "year = str(2010)\n",
    "\n",
    "file_to_zip = f'{year}.json'\n",
    "target_path = jsons / year\n",
    "\n",
    "compression = 'xztar'\n",
    "try:\n",
    "    shutil.make_archive(target_path / year, compression, target_path, file_to_zip)\n",
    "except OSError:\n",
    "    raise"
   ]
  },
  {
   "cell_type": "code",
   "execution_count": null,
   "metadata": {},
   "outputs": [],
   "source": []
  }
 ],
 "metadata": {
  "kernelspec": {
   "display_name": "Python 3",
   "language": "python",
   "name": "python3"
  },
  "language_info": {
   "codemirror_mode": {
    "name": "ipython",
    "version": 3
   },
   "file_extension": ".py",
   "mimetype": "text/x-python",
   "name": "python",
   "nbconvert_exporter": "python",
   "pygments_lexer": "ipython3",
   "version": "3.6.8"
  }
 },
 "nbformat": 4,
 "nbformat_minor": 2
}
