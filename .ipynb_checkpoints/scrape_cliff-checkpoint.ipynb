{
 "cells": [
  {
   "cell_type": "code",
   "execution_count": 130,
   "metadata": {},
   "outputs": [],
   "source": [
    "import collections\n",
    "import pickle\n",
    "import time\n",
    "\n",
    "import bs4\n",
    "import requests"
   ]
  },
  {
   "cell_type": "code",
   "execution_count": 6,
   "metadata": {},
   "outputs": [],
   "source": [
    "root_url = 'https://www.cliffsnotes.com/'\n",
    "literature_url = root_url + 'literature'\n",
    "\n",
    "params = {'filter': 'ShowAll', 'sort': 'TITLE'}\n",
    "response = requests.get(literature_url, params)\n",
    "response.raise_for_status()"
   ]
  },
  {
   "cell_type": "code",
   "execution_count": 4,
   "metadata": {},
   "outputs": [
    {
     "data": {
      "text/plain": [
       "{'Content-Type': 'text/html; charset=utf-8', 'Pragma': 'no-cache', 'Server': 'Microsoft-IIS/8.5', 'X-AspNet-Version': '4.0.30319', 'X-Powered-By': 'ASP.NET, ARR/3.0, ASP.NET', 'Content-Encoding': 'gzip', 'Content-Length': '66877', 'Cache-Control': 'no-cache, no-store', 'Expires': 'Wed, 06 Mar 2019 21:19:05 GMT', 'Date': 'Wed, 06 Mar 2019 21:19:05 GMT', 'Connection': 'keep-alive', 'Vary': 'Accept-Encoding, User-Agent'}"
      ]
     },
     "execution_count": 4,
     "metadata": {},
     "output_type": "execute_result"
    }
   ],
   "source": [
    "response.headers"
   ]
  },
  {
   "cell_type": "code",
   "execution_count": 5,
   "metadata": {},
   "outputs": [
    {
     "data": {
      "text/plain": [
       "'https://www.cliffsnotes.com/literature?filter=ShowAll&sort=TITLE'"
      ]
     },
     "execution_count": 5,
     "metadata": {},
     "output_type": "execute_result"
    }
   ],
   "source": [
    "response.url"
   ]
  },
  {
   "cell_type": "code",
   "execution_count": 7,
   "metadata": {},
   "outputs": [],
   "source": [
    "soup = bs4.BeautifulSoup(response.text)"
   ]
  },
  {
   "cell_type": "code",
   "execution_count": 79,
   "metadata": {},
   "outputs": [],
   "source": [
    "books = [a for a in soup.find_all('a') if a.h4]"
   ]
  },
  {
   "cell_type": "code",
   "execution_count": 96,
   "metadata": {},
   "outputs": [],
   "source": [
    "Info = collections.namedtuple('Info', 'author, title, url')\n",
    "\n",
    "def get_info(book):\n",
    "    author = book.p.text\n",
    "    title = book.h4.text\n",
    "    url = book['href']\n",
    "    return Info(author, title, url)"
   ]
  },
  {
   "cell_type": "code",
   "execution_count": 72,
   "metadata": {},
   "outputs": [
    {
     "data": {
      "text/plain": [
       "329"
      ]
     },
     "execution_count": 72,
     "metadata": {},
     "output_type": "execute_result"
    }
   ],
   "source": [
    "len(hrefs)"
   ]
  },
  {
   "cell_type": "code",
   "execution_count": 94,
   "metadata": {},
   "outputs": [],
   "source": [
    "infos = [get_info(book) for book in books]"
   ]
  },
  {
   "cell_type": "code",
   "execution_count": 124,
   "metadata": {},
   "outputs": [],
   "source": [
    "def get_summary_link(info):\n",
    "    resp = requests.get(root_url + info.url)\n",
    "    resp.raise_for_status()\n",
    "\n",
    "    soup = bs4.BeautifulSoup(resp.text)\n",
    "\n",
    "    book_summary = [link['href'] for link in soup.find_all(class_='forward-link') \n",
    "                    if 'Book Summary' in link.span and not 'Summary and Analysis' in link.span]\n",
    "    time.sleep(3)\n",
    "    print(info.title)\n",
    "    return book_summary"
   ]
  },
  {
   "cell_type": "code",
   "execution_count": 125,
   "metadata": {},
   "outputs": [
    {
     "name": "stdout",
     "output_type": "stream",
     "text": [
      "100 Years of Solitude\n",
      "12 Years a Slave\n",
      "1984\n",
      "The 1990s Newbery Medal Winners\n",
      "Absalom, Absalom!\n",
      "Adam Bede\n",
      "The Adventures of Huckleberry Finn\n",
      "The Adventures of Tom Sawyer\n",
      "Aeneid\n",
      "Agamemnon, The Choephori, and The Eumenides\n",
      "The Age of Innocence\n",
      "The Alchemist\n",
      "Alice's Adventures in Wonderland\n",
      "All the King's Men\n",
      "All the Light We Cannot See\n",
      "All the Pretty Horses\n",
      "All Quiet on the Western Front\n",
      "All's Well That Ends Well\n",
      "The Ambassadors\n",
      "The American\n",
      "American Poets of the 20th Century\n",
      "An American Tragedy\n",
      "Andromache\n",
      "Animal Farm\n",
      "Anna Karenina\n",
      "Anthem\n",
      "Antony and Cleopatra\n",
      "Arms and the Man\n",
      "Arrowsmith\n",
      "As I Lay Dying\n",
      "As You Like It\n",
      "The Assistant\n",
      "Atlas Shrugged\n",
      "The Autobiography of Benjamin Franklin\n",
      "The Autobiography of Malcolm X\n",
      "The Awakening\n",
      "Babbitt\n",
      "Bartleby, the Scrivener\n",
      "The Bell Jar\n",
      "Beloved\n",
      "Benito Cereno\n",
      "Beowulf\n",
      "The Bean Trees\n",
      "Billy Budd\n",
      "Black Boy\n",
      "Black Elk Speaks\n",
      "Bleak House\n",
      "Bless Me, Ultima\n",
      "The Bluest Eye\n",
      "The Book Thief\n",
      "Bradbury's Short Stories\n",
      "Brave New World\n",
      "The Brothers Karamazov\n",
      "The Call of the Wild\n",
      "Candide\n",
      "The Canterbury Tales\n",
      "Catch-22\n",
      "The Catcher in the Rye\n",
      "Catching Fire (Book 2 of The Hunger Games Trilogy)\n",
      "The Chosen\n",
      "The Color Purple\n",
      "Comedy of Errors\n",
      "Concerning the Principles of Morals\n",
      "A Connecticut Yankee in King Arthur's Court\n",
      "The Contender\n",
      "The Count of Monte Cristo\n",
      "Crime and Punishment\n",
      "The Crucible\n",
      "Cry, the Beloved Country\n",
      "Cyrano de Bergerac\n",
      "Daisy Miller\n",
      "David Copperfield\n",
      "The Day of the Locust\n",
      "Death Comes for the Archbishop\n",
      "Death of a Salesman\n",
      "The Deerslayer\n",
      "Demian\n",
      "The Devil in the White City\n",
      "The Diary of Anne Frank\n",
      "A Different Drummer\n",
      "The Divine Comedy: Inferno\n",
      "Doctor Faustus\n",
      "A Doll's House\n",
      "Don Juan\n",
      "Don Quixote\n",
      "Dr. Jekyll and Mr. Hyde\n",
      "Dracula\n",
      "Dream of the Red Chamber\n",
      "Dubliners\n",
      "The Education of Henry Adams\n",
      "Emerson's Essays\n",
      "Emily Dickinson's Poems\n",
      "Emma\n",
      "An Enemy of the People\n",
      "An Essay Concerning Human Understanding\n",
      "Ethan Frome\n",
      "Ethics\n",
      "Euthyphro, Apology, Crito, and Phaedo\n",
      "Fahrenheit 451\n",
      "Far from the Madding Crowd\n",
      "A Farewell to Arms\n",
      "Farewell to Manzanar\n",
      "Fathers and Sons\n",
      "Faulkner's Short Stories\n",
      "Faust, Parts 1 and 2\n",
      "The Federalist\n",
      "The Flies\n",
      "Flowers for Algernon\n",
      "For Whom the Bell Tolls\n",
      "The Fountainhead\n",
      "Frankenstein\n",
      "The French Lieutenant's Woman\n",
      "Gallic Wars\n",
      "Ghosts\n",
      "Giants in the Earth\n",
      "The Girl with the Dragon Tattoo\n",
      "The Giver\n",
      "The Glass Castle\n",
      "The Glass Menagerie\n",
      "Go Set a Watchman\n",
      "Go Tell It on the Mountain\n",
      "The Goldfinch\n",
      "The Good Earth\n",
      "The Grapes of Wrath\n",
      "Great Expectations\n",
      "The Great Gatsby\n",
      "Green Mansions\n",
      "The Guernsey Literary and Potato Peel Pie Society\n",
      "Gulliver's Travels\n",
      "Hamlet\n",
      "The Handmaid's Tale\n",
      "Hard Times\n",
      "Heart of Darkness\n",
      "Hedda Gabler\n",
      "The Help\n",
      "Hemingway's Short Stories\n",
      "Henry V\n",
      "Herzog\n",
      "Hiroshima\n",
      "The Hobbit\n",
      "House Made of Dawn\n",
      "The House of Mirth\n",
      "The House of the Seven Gables\n",
      "The House on Mango Street & Woman Hollering Creek & Other Stories\n",
      "The Hunger Games\n",
      "I Know Why the Caged Bird Sings\n",
      "The Idiot\n",
      "Idylls of the King\n",
      "The Iliad\n",
      "The Importance of Being Earnest\n",
      "In Cold Blood\n",
      "Incidents in the Life of a Slave Girl\n",
      "Inherit the Wind\n",
      "Into the Wild\n",
      "Invisible Man\n",
      "Ishmael\n",
      "Ivanhoe\n",
      "Jane Eyre\n",
      "Joseph Andrews\n",
      "The Joy Luck Club\n",
      "Jude the Obscure\n",
      "Julius Caesar\n",
      "The Jungle\n",
      "Keats' Poems\n",
      "The Killer Angels\n",
      "King Henry IV, Part 1\n",
      "King Lear\n",
      "The Kitchen God's Wife\n",
      "The Kite Runner\n",
      "The Last of the Mohicans\n",
      "The Last Song\n",
      "Le Morte d'Arthur\n",
      "Le Père Goriot\n",
      "Leaves of Grass\n",
      "Les Miserables\n",
      "A Lesson Before Dying\n",
      "Life of Pi\n",
      "Light in August\n",
      "The Light in the Forest\n",
      "A Long Way Gone\n",
      "Lord Jim\n",
      "Lord of the Flies\n",
      "The Lord of the Rings\n",
      "Love's Labour's Lost\n",
      "Macbeth\n",
      "Madame Bovary\n",
      "The Magic Mountain\n",
      "Main Street\n",
      "Major Barbara\n",
      "Man and Superman\n",
      "The Mayor of Casterbridge\n",
      "Measure for  Measure\n",
      "The Merchant of Venice\n",
      "The Merry Wives of Windsor\n",
      "The Metamorphosis and Other Stories\n",
      "A Midsummer Night's Dream\n",
      "The Mill on the Floss\n",
      "The Misanthrope\n",
      "Miss Lonelyhearts\n",
      "Moby-Dick\n",
      "Mockingjay (Book 3 of The Hunger Games Trilogy)\n",
      "Moll Flanders\n",
      "Mrs. Dalloway\n",
      "Much Ado About Nothing\n",
      "The Mutiny on the Bounty\n",
      "My Ántonia\n",
      "Mythology\n",
      "The Namesake\n",
      "Nana\n",
      "Narrative of the Life of Frederick Douglass: An American Slave\n",
      "New Testament of the Bible\n",
      "Night\n",
      "The Nightingale\n",
      "No Exit\n",
      "The Notebook\n",
      "Notes from Underground\n",
      "O'Connor's Short Stories\n",
      "The Odyssey\n",
      "The Oedipus Trilogy\n",
      "Of Mice and Men\n",
      "The Old Man and the Sea\n",
      "Old Testament of the Bible\n",
      "Oliver Twist\n",
      "On Whitehead’s The Underground Railroad\n",
      "The Once and Future King\n",
      "One Day in the Life of Ivan Denisovich\n",
      "One Flew Over the Cuckoo's Nest\n",
      "Othello\n",
      "Our Town\n",
      "The Outsiders\n",
      "The Ox-Bow Incident\n",
      "Paradise Lost\n",
      "A Passage to India\n",
      "The Pearl\n",
      "Phaedra\n",
      "The Pickwick Papers\n",
      "The Picture of Dorian Gray\n",
      "The Pilgrim's Progress\n",
      "The Plague\n",
      "Poe's Short Stories\n",
      "The Poisonwood Bible\n",
      "A Portrait of the Artist as a Young Man\n",
      "The Portrait of a Lady\n",
      "The Power and the Glory\n",
      "The Prelude\n",
      "Pride and Prejudice\n",
      "The Prince\n",
      "The Prince and the Pauper\n",
      "Pygmalion\n",
      "A Raisin in the Sun\n",
      "The Red and the Black\n",
      "The Red Badge of Courage\n",
      "The Red Pony, Chrysanthemums, and Flight\n",
      "Republic\n",
      "The Return of the Native\n",
      "Richard II\n",
      "Richard III\n",
      "The Rise of Silas Lapham\n",
      "The Road\n",
      "Robinson Crusoe\n",
      "Romeo and Juliet\n",
      "The Scarlet Letter\n",
      "The Secret Life of Bees\n",
      "The Secret Sharer\n",
      "Sense and Sensibility\n",
      "A Separate Peace\n",
      "Shakespeare's Sonnets\n",
      "Shelley's Poems\n",
      "Siddhartha\n",
      "Silas Marner\n",
      "Sir Gawain and the Green Knight\n",
      "Sister Carrie\n",
      "Slaughterhouse-Five\n",
      "Snow Falling on Cedars\n",
      "Something Wicked This Way Comes\n",
      "Song of Solomon\n",
      "The Sound and the Fury\n",
      "Speak\n",
      "St. Augustine's Confessions\n",
      "St. Joan\n",
      "Steppenwolf\n",
      "The Stranger\n",
      "A Streetcar Named Desire\n",
      "Sula\n",
      "The Sun Also Rises\n",
      "A Tale of Two Cities\n",
      "The Taming of the Shrew\n",
      "Tartuffe\n",
      "The Tempest\n",
      "Tender Is the Night\n",
      "Tess of the d'Urbervilles\n",
      "Their Eyes Were Watching God\n",
      "Things Fall Apart\n",
      "The Things They Carried\n",
      "Thoreau, Emerson, and Transcendentalism\n",
      "A Thousand Splendid Suns\n",
      "The Three Musketeers\n",
      "Three Weeks with My Brother\n",
      "To Kill a Mockingbird\n",
      "Treasure Island\n",
      "A Tree Grows in Brooklyn\n",
      "The Trial\n",
      "Tristram Shandy\n",
      "The Turn of the Screw\n",
      "Twelfth Night\n",
      "Two Gentlemen of Verona\n",
      "Ulysses\n",
      "Unbroken\n",
      "Uncle Tom's Cabin\n",
      "The Unvanquished\n",
      "Utopia & Utopian Literature\n",
      "Vanity Fair\n",
      "Victory\n",
      "Volpone\n",
      "Waiting for Godot\n",
      "Walden\n",
      "A Walk to Remember\n",
      "War and Peace\n",
      "The Way of All Flesh\n",
      "The Way of the World\n",
      "White Fang\n",
      "Who's Afraid of Virginia Woolf\n",
      "The Wild Duck\n",
      "Winesburg, Ohio\n",
      "The Winter's Tale\n",
      "The Woman Warrior\n",
      "The Worldly Philosophers\n",
      "Wuthering Heights\n",
      "A Yellow Raft in Blue Water\n"
     ]
    }
   ],
   "source": [
    "summary_links = [get_summary_link(info) for info in infos]"
   ]
  },
  {
   "cell_type": "code",
   "execution_count": 129,
   "metadata": {},
   "outputs": [
    {
     "data": {
      "text/plain": [
       "194"
      ]
     },
     "execution_count": 129,
     "metadata": {},
     "output_type": "execute_result"
    }
   ],
   "source": [
    "sum(bool(s) for s in summary_links)"
   ]
  },
  {
   "cell_type": "code",
   "execution_count": 133,
   "metadata": {},
   "outputs": [],
   "source": [
    "with open('summary_links.pkl', 'wb') as fp:\n",
    "    pickle.dump(summary_links, fp)\n",
    "    \n",
    "with open('infos.pkl', 'wb') as fp:\n",
    "    pickle.dump([tuple(i) for i in infos], fp)"
   ]
  },
  {
   "cell_type": "code",
   "execution_count": null,
   "metadata": {},
   "outputs": [],
   "source": []
  },
  {
   "cell_type": "code",
   "execution_count": null,
   "metadata": {},
   "outputs": [],
   "source": []
  },
  {
   "cell_type": "code",
   "execution_count": 118,
   "metadata": {},
   "outputs": [
    {
     "data": {
      "text/plain": [
       "['/literature/n/1984/book-summary']"
      ]
     },
     "execution_count": 118,
     "metadata": {},
     "output_type": "execute_result"
    }
   ],
   "source": [
    "info = infos[2]\n",
    "\n",
    "resp = requests.get(root_url + info.url)\n",
    "resp.raise_for_status()\n",
    "\n",
    "soup = bs4.BeautifulSoup(resp.text)\n",
    "\n",
    "book_summary = [link['href'] for link in soup.find_all(class_='forward-link') \n",
    "                if 'Book Summary' in link.span and not 'Summary and Analysis' in link.span]\n",
    "book_summary"
   ]
  },
  {
   "cell_type": "code",
   "execution_count": 114,
   "metadata": {},
   "outputs": [
    {
     "data": {
      "text/plain": [
       "[]"
      ]
     },
     "execution_count": 114,
     "metadata": {},
     "output_type": "execute_result"
    }
   ],
   "source": []
  },
  {
   "cell_type": "code",
   "execution_count": null,
   "metadata": {},
   "outputs": [],
   "source": [
    "summary = soup."
   ]
  },
  {
   "cell_type": "code",
   "execution_count": 109,
   "metadata": {},
   "outputs": [
    {
     "data": {
      "text/plain": [
       "['/literature/o/100-years-of-solitude/about-100-hundred-years-of-solitude-2']"
      ]
     },
     "execution_count": 109,
     "metadata": {},
     "output_type": "execute_result"
    }
   ],
   "source": [
    "[button['href'] for button in soup.find_all(class_='nav-bttn-filled') if 'Next' in button.span]"
   ]
  },
  {
   "cell_type": "code",
   "execution_count": null,
   "metadata": {},
   "outputs": [],
   "source": [
    "'nav-bttn-filled'\n",
    "'summary-and-analysis'"
   ]
  }
 ],
 "metadata": {
  "kernelspec": {
   "display_name": "Python 3",
   "language": "python",
   "name": "python3"
  },
  "language_info": {
   "codemirror_mode": {
    "name": "ipython",
    "version": 3
   },
   "file_extension": ".py",
   "mimetype": "text/x-python",
   "name": "python",
   "nbconvert_exporter": "python",
   "pygments_lexer": "ipython3",
   "version": "3.6.8"
  }
 },
 "nbformat": 4,
 "nbformat_minor": 2
}
