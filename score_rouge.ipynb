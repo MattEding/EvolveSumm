{
 "cells": [
  {
   "cell_type": "code",
   "execution_count": 25,
   "metadata": {},
   "outputs": [],
   "source": [
    "import json\n",
    "import pathlib\n",
    "import numpy as np\n",
    "\n",
    "jsons = pathlib.Path.cwd() / 'data' / 'jsons'\n",
    "\n",
    "dde_json = jsons / 'dde_scores.json'\n",
    "with open(dde_json) as fp:\n",
    "    dde = np.array(json.load(fp))\n",
    "    \n",
    "gs_json = jsons / 'gs_scores.json'\n",
    "with open(gs_json) as fp:\n",
    "    gs = np.array(json.load(fp))\n",
    "\n",
    "tr_json = jsons / 'tr_scores.json'\n",
    "with open(tr_json) as fp:\n",
    "    tr = np.array(json.load(fp))\n",
    "    \n",
    "lr_json = jsons / 'lr_scores.json'\n",
    "with open(lr_json) as fp:\n",
    "    lr = np.array(json.load(fp))"
   ]
  },
  {
   "cell_type": "code",
   "execution_count": 46,
   "metadata": {},
   "outputs": [
    {
     "data": {
      "text/plain": [
       "(array([0.8183164 , 0.6495861 , 0.40700852]), 0)"
      ]
     },
     "execution_count": 46,
     "metadata": {},
     "output_type": "execute_result"
    }
   ],
   "source": [
    "dde[dde == 0] = np.nan\n",
    "np.nanmean(dde, 0), np.isnan(dde).sum() // 3"
   ]
  },
  {
   "cell_type": "code",
   "execution_count": 47,
   "metadata": {},
   "outputs": [
    {
     "data": {
      "text/plain": [
       "(array([0.80958321, 0.65230658, 0.41725812]), 9)"
      ]
     },
     "execution_count": 47,
     "metadata": {},
     "output_type": "execute_result"
    }
   ],
   "source": [
    "gs[gs == 0] = np.nan\n",
    "np.nanmean(gs, 0), np.isnan(gs).sum() // 3"
   ]
  },
  {
   "cell_type": "code",
   "execution_count": 48,
   "metadata": {},
   "outputs": [
    {
     "data": {
      "text/plain": [
       "(array([0.80190613, 0.64122802, 0.39380937]), 7)"
      ]
     },
     "execution_count": 48,
     "metadata": {},
     "output_type": "execute_result"
    }
   ],
   "source": [
    "tr[tr == 0] = np.nan\n",
    "np.nanmean(tr, 0), np.isnan(tr).sum() // 3"
   ]
  },
  {
   "cell_type": "code",
   "execution_count": 49,
   "metadata": {},
   "outputs": [
    {
     "data": {
      "text/plain": [
       "(array([0.76380854, 0.5868909 , 0.35080269]), 7)"
      ]
     },
     "execution_count": 49,
     "metadata": {},
     "output_type": "execute_result"
    }
   ],
   "source": [
    "lr[lr == 0] = np.nan\n",
    "np.nanmean(lr, 0), np.isnan(lr).sum() // 3"
   ]
  },
  {
   "cell_type": "code",
   "execution_count": null,
   "metadata": {},
   "outputs": [],
   "source": []
  }
 ],
 "metadata": {
  "kernelspec": {
   "display_name": "Python 3",
   "language": "python",
   "name": "python3"
  },
  "language_info": {
   "codemirror_mode": {
    "name": "ipython",
    "version": 3
   },
   "file_extension": ".py",
   "mimetype": "text/x-python",
   "name": "python",
   "nbconvert_exporter": "python",
   "pygments_lexer": "ipython3",
   "version": "3.7.2"
  }
 },
 "nbformat": 4,
 "nbformat_minor": 2
}
